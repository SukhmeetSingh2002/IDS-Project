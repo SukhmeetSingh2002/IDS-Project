{
 "cells": [
  {
   "cell_type": "markdown",
   "metadata": {},
   "source": [
    "# Import Section"
   ]
  },
  {
   "cell_type": "code",
   "execution_count": 64,
   "metadata": {},
   "outputs": [],
   "source": [
    "import numpy as np\n",
    "import matplotlib.pyplot as plt\n",
    "import pandas as pd\n",
    "import seaborn as sns\n",
    "\n",
    "\n",
    "from sklearn.preprocessing import StandardScaler\n",
    "from sklearn.model_selection import train_test_split\n",
    "from sklearn.metrics import accuracy_score, confusion_matrix, classification_report\n",
    "from sklearn.ensemble import RandomForestClassifier\n",
    "from keras import Sequential\n",
    "from keras.layers import Dense, Dropout, LSTM\n"
   ]
  },
  {
   "cell_type": "markdown",
   "metadata": {},
   "source": [
    "# Loading Dataset"
   ]
  },
  {
   "cell_type": "code",
   "execution_count": 11,
   "metadata": {},
   "outputs": [],
   "source": [
    "FILE_PATH_TRAINING = \"../dataset/UNSW_NB15_training-set.csv\"\n",
    "FILE_PATH_TESTING = \"../dataset/UNSW_NB15_testing-set.csv\"\n",
    "\n",
    "df_training =   pd.read_csv(FILE_PATH_TRAINING)\n",
    "df_testing =    pd.read_csv(FILE_PATH_TESTING)"
   ]
  },
  {
   "cell_type": "markdown",
   "metadata": {},
   "source": [
    "# EDA"
   ]
  },
  {
   "cell_type": "code",
   "execution_count": 12,
   "metadata": {},
   "outputs": [
    {
     "name": "stdout",
     "output_type": "stream",
     "text": [
      "<class 'pandas.core.frame.DataFrame'>\n",
      "RangeIndex: 82332 entries, 0 to 82331\n",
      "Data columns (total 45 columns):\n",
      " #   Column             Non-Null Count  Dtype  \n",
      "---  ------             --------------  -----  \n",
      " 0   id                 82332 non-null  int64  \n",
      " 1   dur                82332 non-null  float64\n",
      " 2   proto              82332 non-null  object \n",
      " 3   service            82332 non-null  object \n",
      " 4   state              82332 non-null  object \n",
      " 5   spkts              82332 non-null  int64  \n",
      " 6   dpkts              82332 non-null  int64  \n",
      " 7   sbytes             82332 non-null  int64  \n",
      " 8   dbytes             82332 non-null  int64  \n",
      " 9   rate               82332 non-null  float64\n",
      " 10  sttl               82332 non-null  int64  \n",
      " 11  dttl               82332 non-null  int64  \n",
      " 12  sload              82332 non-null  float64\n",
      " 13  dload              82332 non-null  float64\n",
      " 14  sloss              82332 non-null  int64  \n",
      " 15  dloss              82332 non-null  int64  \n",
      " 16  sinpkt             82332 non-null  float64\n",
      " 17  dinpkt             82332 non-null  float64\n",
      " 18  sjit               82332 non-null  float64\n",
      " 19  djit               82332 non-null  float64\n",
      " 20  swin               82332 non-null  int64  \n",
      " 21  stcpb              82332 non-null  int64  \n",
      " 22  dtcpb              82332 non-null  int64  \n",
      " 23  dwin               82332 non-null  int64  \n",
      " 24  tcprtt             82332 non-null  float64\n",
      " 25  synack             82332 non-null  float64\n",
      " 26  ackdat             82332 non-null  float64\n",
      " 27  smean              82332 non-null  int64  \n",
      " 28  dmean              82332 non-null  int64  \n",
      " 29  trans_depth        82332 non-null  int64  \n",
      " 30  response_body_len  82332 non-null  int64  \n",
      " 31  ct_srv_src         82332 non-null  int64  \n",
      " 32  ct_state_ttl       82332 non-null  int64  \n",
      " 33  ct_dst_ltm         82332 non-null  int64  \n",
      " 34  ct_src_dport_ltm   82332 non-null  int64  \n",
      " 35  ct_dst_sport_ltm   82332 non-null  int64  \n",
      " 36  ct_dst_src_ltm     82332 non-null  int64  \n",
      " 37  is_ftp_login       82332 non-null  int64  \n",
      " 38  ct_ftp_cmd         82332 non-null  int64  \n",
      " 39  ct_flw_http_mthd   82332 non-null  int64  \n",
      " 40  ct_src_ltm         82332 non-null  int64  \n",
      " 41  ct_srv_dst         82332 non-null  int64  \n",
      " 42  is_sm_ips_ports    82332 non-null  int64  \n",
      " 43  attack_cat         82332 non-null  object \n",
      " 44  label              82332 non-null  int64  \n",
      "dtypes: float64(11), int64(30), object(4)\n",
      "memory usage: 28.3+ MB\n"
     ]
    }
   ],
   "source": [
    "df_training.info()"
   ]
  },
  {
   "cell_type": "code",
   "execution_count": 13,
   "metadata": {},
   "outputs": [
    {
     "data": {
      "text/html": [
       "<div>\n",
       "<style scoped>\n",
       "    .dataframe tbody tr th:only-of-type {\n",
       "        vertical-align: middle;\n",
       "    }\n",
       "\n",
       "    .dataframe tbody tr th {\n",
       "        vertical-align: top;\n",
       "    }\n",
       "\n",
       "    .dataframe thead th {\n",
       "        text-align: right;\n",
       "    }\n",
       "</style>\n",
       "<table border=\"1\" class=\"dataframe\">\n",
       "  <thead>\n",
       "    <tr style=\"text-align: right;\">\n",
       "      <th></th>\n",
       "      <th>id</th>\n",
       "      <th>dur</th>\n",
       "      <th>spkts</th>\n",
       "      <th>dpkts</th>\n",
       "      <th>sbytes</th>\n",
       "      <th>dbytes</th>\n",
       "      <th>rate</th>\n",
       "      <th>sttl</th>\n",
       "      <th>dttl</th>\n",
       "      <th>sload</th>\n",
       "      <th>...</th>\n",
       "      <th>ct_src_dport_ltm</th>\n",
       "      <th>ct_dst_sport_ltm</th>\n",
       "      <th>ct_dst_src_ltm</th>\n",
       "      <th>is_ftp_login</th>\n",
       "      <th>ct_ftp_cmd</th>\n",
       "      <th>ct_flw_http_mthd</th>\n",
       "      <th>ct_src_ltm</th>\n",
       "      <th>ct_srv_dst</th>\n",
       "      <th>is_sm_ips_ports</th>\n",
       "      <th>label</th>\n",
       "    </tr>\n",
       "  </thead>\n",
       "  <tbody>\n",
       "    <tr>\n",
       "      <th>count</th>\n",
       "      <td>82332.000000</td>\n",
       "      <td>82332.000000</td>\n",
       "      <td>82332.000000</td>\n",
       "      <td>82332.000000</td>\n",
       "      <td>8.233200e+04</td>\n",
       "      <td>8.233200e+04</td>\n",
       "      <td>8.233200e+04</td>\n",
       "      <td>82332.000000</td>\n",
       "      <td>82332.000000</td>\n",
       "      <td>8.233200e+04</td>\n",
       "      <td>...</td>\n",
       "      <td>82332.000000</td>\n",
       "      <td>82332.000000</td>\n",
       "      <td>82332.000000</td>\n",
       "      <td>82332.000000</td>\n",
       "      <td>82332.000000</td>\n",
       "      <td>82332.000000</td>\n",
       "      <td>82332.000000</td>\n",
       "      <td>82332.000000</td>\n",
       "      <td>82332.000000</td>\n",
       "      <td>82332.000000</td>\n",
       "    </tr>\n",
       "    <tr>\n",
       "      <th>mean</th>\n",
       "      <td>41166.500000</td>\n",
       "      <td>1.006756</td>\n",
       "      <td>18.666472</td>\n",
       "      <td>17.545936</td>\n",
       "      <td>7.993908e+03</td>\n",
       "      <td>1.323379e+04</td>\n",
       "      <td>8.241089e+04</td>\n",
       "      <td>180.967667</td>\n",
       "      <td>95.713003</td>\n",
       "      <td>6.454902e+07</td>\n",
       "      <td>...</td>\n",
       "      <td>4.928898</td>\n",
       "      <td>3.663011</td>\n",
       "      <td>7.456360</td>\n",
       "      <td>0.008284</td>\n",
       "      <td>0.008381</td>\n",
       "      <td>0.129743</td>\n",
       "      <td>6.468360</td>\n",
       "      <td>9.164262</td>\n",
       "      <td>0.011126</td>\n",
       "      <td>0.550600</td>\n",
       "    </tr>\n",
       "    <tr>\n",
       "      <th>std</th>\n",
       "      <td>23767.345519</td>\n",
       "      <td>4.710444</td>\n",
       "      <td>133.916353</td>\n",
       "      <td>115.574086</td>\n",
       "      <td>1.716423e+05</td>\n",
       "      <td>1.514715e+05</td>\n",
       "      <td>1.486204e+05</td>\n",
       "      <td>101.513358</td>\n",
       "      <td>116.667722</td>\n",
       "      <td>1.798618e+08</td>\n",
       "      <td>...</td>\n",
       "      <td>8.389545</td>\n",
       "      <td>5.915386</td>\n",
       "      <td>11.415191</td>\n",
       "      <td>0.091171</td>\n",
       "      <td>0.092485</td>\n",
       "      <td>0.638683</td>\n",
       "      <td>8.543927</td>\n",
       "      <td>11.121413</td>\n",
       "      <td>0.104891</td>\n",
       "      <td>0.497436</td>\n",
       "    </tr>\n",
       "    <tr>\n",
       "      <th>min</th>\n",
       "      <td>1.000000</td>\n",
       "      <td>0.000000</td>\n",
       "      <td>1.000000</td>\n",
       "      <td>0.000000</td>\n",
       "      <td>2.400000e+01</td>\n",
       "      <td>0.000000e+00</td>\n",
       "      <td>0.000000e+00</td>\n",
       "      <td>0.000000</td>\n",
       "      <td>0.000000</td>\n",
       "      <td>0.000000e+00</td>\n",
       "      <td>...</td>\n",
       "      <td>1.000000</td>\n",
       "      <td>1.000000</td>\n",
       "      <td>1.000000</td>\n",
       "      <td>0.000000</td>\n",
       "      <td>0.000000</td>\n",
       "      <td>0.000000</td>\n",
       "      <td>1.000000</td>\n",
       "      <td>1.000000</td>\n",
       "      <td>0.000000</td>\n",
       "      <td>0.000000</td>\n",
       "    </tr>\n",
       "    <tr>\n",
       "      <th>25%</th>\n",
       "      <td>20583.750000</td>\n",
       "      <td>0.000008</td>\n",
       "      <td>2.000000</td>\n",
       "      <td>0.000000</td>\n",
       "      <td>1.140000e+02</td>\n",
       "      <td>0.000000e+00</td>\n",
       "      <td>2.860611e+01</td>\n",
       "      <td>62.000000</td>\n",
       "      <td>0.000000</td>\n",
       "      <td>1.120247e+04</td>\n",
       "      <td>...</td>\n",
       "      <td>1.000000</td>\n",
       "      <td>1.000000</td>\n",
       "      <td>1.000000</td>\n",
       "      <td>0.000000</td>\n",
       "      <td>0.000000</td>\n",
       "      <td>0.000000</td>\n",
       "      <td>1.000000</td>\n",
       "      <td>2.000000</td>\n",
       "      <td>0.000000</td>\n",
       "      <td>0.000000</td>\n",
       "    </tr>\n",
       "    <tr>\n",
       "      <th>50%</th>\n",
       "      <td>41166.500000</td>\n",
       "      <td>0.014138</td>\n",
       "      <td>6.000000</td>\n",
       "      <td>2.000000</td>\n",
       "      <td>5.340000e+02</td>\n",
       "      <td>1.780000e+02</td>\n",
       "      <td>2.650177e+03</td>\n",
       "      <td>254.000000</td>\n",
       "      <td>29.000000</td>\n",
       "      <td>5.770032e+05</td>\n",
       "      <td>...</td>\n",
       "      <td>1.000000</td>\n",
       "      <td>1.000000</td>\n",
       "      <td>3.000000</td>\n",
       "      <td>0.000000</td>\n",
       "      <td>0.000000</td>\n",
       "      <td>0.000000</td>\n",
       "      <td>3.000000</td>\n",
       "      <td>5.000000</td>\n",
       "      <td>0.000000</td>\n",
       "      <td>1.000000</td>\n",
       "    </tr>\n",
       "    <tr>\n",
       "      <th>75%</th>\n",
       "      <td>61749.250000</td>\n",
       "      <td>0.719360</td>\n",
       "      <td>12.000000</td>\n",
       "      <td>10.000000</td>\n",
       "      <td>1.280000e+03</td>\n",
       "      <td>9.560000e+02</td>\n",
       "      <td>1.111111e+05</td>\n",
       "      <td>254.000000</td>\n",
       "      <td>252.000000</td>\n",
       "      <td>6.514286e+07</td>\n",
       "      <td>...</td>\n",
       "      <td>4.000000</td>\n",
       "      <td>3.000000</td>\n",
       "      <td>6.000000</td>\n",
       "      <td>0.000000</td>\n",
       "      <td>0.000000</td>\n",
       "      <td>0.000000</td>\n",
       "      <td>7.000000</td>\n",
       "      <td>11.000000</td>\n",
       "      <td>0.000000</td>\n",
       "      <td>1.000000</td>\n",
       "    </tr>\n",
       "    <tr>\n",
       "      <th>max</th>\n",
       "      <td>82332.000000</td>\n",
       "      <td>59.999989</td>\n",
       "      <td>10646.000000</td>\n",
       "      <td>11018.000000</td>\n",
       "      <td>1.435577e+07</td>\n",
       "      <td>1.465753e+07</td>\n",
       "      <td>1.000000e+06</td>\n",
       "      <td>255.000000</td>\n",
       "      <td>253.000000</td>\n",
       "      <td>5.268000e+09</td>\n",
       "      <td>...</td>\n",
       "      <td>59.000000</td>\n",
       "      <td>38.000000</td>\n",
       "      <td>63.000000</td>\n",
       "      <td>2.000000</td>\n",
       "      <td>2.000000</td>\n",
       "      <td>16.000000</td>\n",
       "      <td>60.000000</td>\n",
       "      <td>62.000000</td>\n",
       "      <td>1.000000</td>\n",
       "      <td>1.000000</td>\n",
       "    </tr>\n",
       "  </tbody>\n",
       "</table>\n",
       "<p>8 rows × 41 columns</p>\n",
       "</div>"
      ],
      "text/plain": [
       "                 id           dur         spkts         dpkts        sbytes   \n",
       "count  82332.000000  82332.000000  82332.000000  82332.000000  8.233200e+04  \\\n",
       "mean   41166.500000      1.006756     18.666472     17.545936  7.993908e+03   \n",
       "std    23767.345519      4.710444    133.916353    115.574086  1.716423e+05   \n",
       "min        1.000000      0.000000      1.000000      0.000000  2.400000e+01   \n",
       "25%    20583.750000      0.000008      2.000000      0.000000  1.140000e+02   \n",
       "50%    41166.500000      0.014138      6.000000      2.000000  5.340000e+02   \n",
       "75%    61749.250000      0.719360     12.000000     10.000000  1.280000e+03   \n",
       "max    82332.000000     59.999989  10646.000000  11018.000000  1.435577e+07   \n",
       "\n",
       "             dbytes          rate          sttl          dttl         sload   \n",
       "count  8.233200e+04  8.233200e+04  82332.000000  82332.000000  8.233200e+04  \\\n",
       "mean   1.323379e+04  8.241089e+04    180.967667     95.713003  6.454902e+07   \n",
       "std    1.514715e+05  1.486204e+05    101.513358    116.667722  1.798618e+08   \n",
       "min    0.000000e+00  0.000000e+00      0.000000      0.000000  0.000000e+00   \n",
       "25%    0.000000e+00  2.860611e+01     62.000000      0.000000  1.120247e+04   \n",
       "50%    1.780000e+02  2.650177e+03    254.000000     29.000000  5.770032e+05   \n",
       "75%    9.560000e+02  1.111111e+05    254.000000    252.000000  6.514286e+07   \n",
       "max    1.465753e+07  1.000000e+06    255.000000    253.000000  5.268000e+09   \n",
       "\n",
       "       ...  ct_src_dport_ltm  ct_dst_sport_ltm  ct_dst_src_ltm  is_ftp_login   \n",
       "count  ...      82332.000000      82332.000000    82332.000000  82332.000000  \\\n",
       "mean   ...          4.928898          3.663011        7.456360      0.008284   \n",
       "std    ...          8.389545          5.915386       11.415191      0.091171   \n",
       "min    ...          1.000000          1.000000        1.000000      0.000000   \n",
       "25%    ...          1.000000          1.000000        1.000000      0.000000   \n",
       "50%    ...          1.000000          1.000000        3.000000      0.000000   \n",
       "75%    ...          4.000000          3.000000        6.000000      0.000000   \n",
       "max    ...         59.000000         38.000000       63.000000      2.000000   \n",
       "\n",
       "         ct_ftp_cmd  ct_flw_http_mthd    ct_src_ltm    ct_srv_dst   \n",
       "count  82332.000000      82332.000000  82332.000000  82332.000000  \\\n",
       "mean       0.008381          0.129743      6.468360      9.164262   \n",
       "std        0.092485          0.638683      8.543927     11.121413   \n",
       "min        0.000000          0.000000      1.000000      1.000000   \n",
       "25%        0.000000          0.000000      1.000000      2.000000   \n",
       "50%        0.000000          0.000000      3.000000      5.000000   \n",
       "75%        0.000000          0.000000      7.000000     11.000000   \n",
       "max        2.000000         16.000000     60.000000     62.000000   \n",
       "\n",
       "       is_sm_ips_ports         label  \n",
       "count     82332.000000  82332.000000  \n",
       "mean          0.011126      0.550600  \n",
       "std           0.104891      0.497436  \n",
       "min           0.000000      0.000000  \n",
       "25%           0.000000      0.000000  \n",
       "50%           0.000000      1.000000  \n",
       "75%           0.000000      1.000000  \n",
       "max           1.000000      1.000000  \n",
       "\n",
       "[8 rows x 41 columns]"
      ]
     },
     "execution_count": 13,
     "metadata": {},
     "output_type": "execute_result"
    }
   ],
   "source": [
    "df_training.describe()"
   ]
  },
  {
   "cell_type": "code",
   "execution_count": 14,
   "metadata": {},
   "outputs": [
    {
     "data": {
      "text/plain": [
       "0        -\n",
       "1        -\n",
       "2        -\n",
       "3        -\n",
       "4        -\n",
       "        ..\n",
       "82327    -\n",
       "82328    -\n",
       "82329    -\n",
       "82330    -\n",
       "82331    -\n",
       "Name: service, Length: 82332, dtype: object"
      ]
     },
     "execution_count": 14,
     "metadata": {},
     "output_type": "execute_result"
    }
   ],
   "source": [
    "df_training['service']"
   ]
  },
  {
   "cell_type": "code",
   "execution_count": 15,
   "metadata": {},
   "outputs": [
    {
     "data": {
      "text/html": [
       "<div>\n",
       "<style scoped>\n",
       "    .dataframe tbody tr th:only-of-type {\n",
       "        vertical-align: middle;\n",
       "    }\n",
       "\n",
       "    .dataframe tbody tr th {\n",
       "        vertical-align: top;\n",
       "    }\n",
       "\n",
       "    .dataframe thead th {\n",
       "        text-align: right;\n",
       "    }\n",
       "</style>\n",
       "<table border=\"1\" class=\"dataframe\">\n",
       "  <thead>\n",
       "    <tr style=\"text-align: right;\">\n",
       "      <th></th>\n",
       "      <th>id</th>\n",
       "      <th>dur</th>\n",
       "      <th>proto</th>\n",
       "      <th>service</th>\n",
       "      <th>state</th>\n",
       "      <th>spkts</th>\n",
       "      <th>dpkts</th>\n",
       "      <th>sbytes</th>\n",
       "      <th>dbytes</th>\n",
       "      <th>rate</th>\n",
       "      <th>...</th>\n",
       "      <th>ct_dst_sport_ltm</th>\n",
       "      <th>ct_dst_src_ltm</th>\n",
       "      <th>is_ftp_login</th>\n",
       "      <th>ct_ftp_cmd</th>\n",
       "      <th>ct_flw_http_mthd</th>\n",
       "      <th>ct_src_ltm</th>\n",
       "      <th>ct_srv_dst</th>\n",
       "      <th>is_sm_ips_ports</th>\n",
       "      <th>attack_cat</th>\n",
       "      <th>label</th>\n",
       "    </tr>\n",
       "  </thead>\n",
       "  <tbody>\n",
       "    <tr>\n",
       "      <th>0</th>\n",
       "      <td>1</td>\n",
       "      <td>0.000011</td>\n",
       "      <td>udp</td>\n",
       "      <td>-</td>\n",
       "      <td>INT</td>\n",
       "      <td>2</td>\n",
       "      <td>0</td>\n",
       "      <td>496</td>\n",
       "      <td>0</td>\n",
       "      <td>90909.0902</td>\n",
       "      <td>...</td>\n",
       "      <td>1</td>\n",
       "      <td>2</td>\n",
       "      <td>0</td>\n",
       "      <td>0</td>\n",
       "      <td>0</td>\n",
       "      <td>1</td>\n",
       "      <td>2</td>\n",
       "      <td>0</td>\n",
       "      <td>Normal</td>\n",
       "      <td>0</td>\n",
       "    </tr>\n",
       "    <tr>\n",
       "      <th>1</th>\n",
       "      <td>2</td>\n",
       "      <td>0.000008</td>\n",
       "      <td>udp</td>\n",
       "      <td>-</td>\n",
       "      <td>INT</td>\n",
       "      <td>2</td>\n",
       "      <td>0</td>\n",
       "      <td>1762</td>\n",
       "      <td>0</td>\n",
       "      <td>125000.0003</td>\n",
       "      <td>...</td>\n",
       "      <td>1</td>\n",
       "      <td>2</td>\n",
       "      <td>0</td>\n",
       "      <td>0</td>\n",
       "      <td>0</td>\n",
       "      <td>1</td>\n",
       "      <td>2</td>\n",
       "      <td>0</td>\n",
       "      <td>Normal</td>\n",
       "      <td>0</td>\n",
       "    </tr>\n",
       "    <tr>\n",
       "      <th>2</th>\n",
       "      <td>3</td>\n",
       "      <td>0.000005</td>\n",
       "      <td>udp</td>\n",
       "      <td>-</td>\n",
       "      <td>INT</td>\n",
       "      <td>2</td>\n",
       "      <td>0</td>\n",
       "      <td>1068</td>\n",
       "      <td>0</td>\n",
       "      <td>200000.0051</td>\n",
       "      <td>...</td>\n",
       "      <td>1</td>\n",
       "      <td>3</td>\n",
       "      <td>0</td>\n",
       "      <td>0</td>\n",
       "      <td>0</td>\n",
       "      <td>1</td>\n",
       "      <td>3</td>\n",
       "      <td>0</td>\n",
       "      <td>Normal</td>\n",
       "      <td>0</td>\n",
       "    </tr>\n",
       "    <tr>\n",
       "      <th>3</th>\n",
       "      <td>4</td>\n",
       "      <td>0.000006</td>\n",
       "      <td>udp</td>\n",
       "      <td>-</td>\n",
       "      <td>INT</td>\n",
       "      <td>2</td>\n",
       "      <td>0</td>\n",
       "      <td>900</td>\n",
       "      <td>0</td>\n",
       "      <td>166666.6608</td>\n",
       "      <td>...</td>\n",
       "      <td>1</td>\n",
       "      <td>3</td>\n",
       "      <td>0</td>\n",
       "      <td>0</td>\n",
       "      <td>0</td>\n",
       "      <td>2</td>\n",
       "      <td>3</td>\n",
       "      <td>0</td>\n",
       "      <td>Normal</td>\n",
       "      <td>0</td>\n",
       "    </tr>\n",
       "    <tr>\n",
       "      <th>4</th>\n",
       "      <td>5</td>\n",
       "      <td>0.000010</td>\n",
       "      <td>udp</td>\n",
       "      <td>-</td>\n",
       "      <td>INT</td>\n",
       "      <td>2</td>\n",
       "      <td>0</td>\n",
       "      <td>2126</td>\n",
       "      <td>0</td>\n",
       "      <td>100000.0025</td>\n",
       "      <td>...</td>\n",
       "      <td>1</td>\n",
       "      <td>3</td>\n",
       "      <td>0</td>\n",
       "      <td>0</td>\n",
       "      <td>0</td>\n",
       "      <td>2</td>\n",
       "      <td>3</td>\n",
       "      <td>0</td>\n",
       "      <td>Normal</td>\n",
       "      <td>0</td>\n",
       "    </tr>\n",
       "  </tbody>\n",
       "</table>\n",
       "<p>5 rows × 45 columns</p>\n",
       "</div>"
      ],
      "text/plain": [
       "   id       dur proto service state  spkts  dpkts  sbytes  dbytes   \n",
       "0   1  0.000011   udp       -   INT      2      0     496       0  \\\n",
       "1   2  0.000008   udp       -   INT      2      0    1762       0   \n",
       "2   3  0.000005   udp       -   INT      2      0    1068       0   \n",
       "3   4  0.000006   udp       -   INT      2      0     900       0   \n",
       "4   5  0.000010   udp       -   INT      2      0    2126       0   \n",
       "\n",
       "          rate  ...  ct_dst_sport_ltm  ct_dst_src_ltm  is_ftp_login   \n",
       "0   90909.0902  ...                 1               2             0  \\\n",
       "1  125000.0003  ...                 1               2             0   \n",
       "2  200000.0051  ...                 1               3             0   \n",
       "3  166666.6608  ...                 1               3             0   \n",
       "4  100000.0025  ...                 1               3             0   \n",
       "\n",
       "   ct_ftp_cmd  ct_flw_http_mthd  ct_src_ltm  ct_srv_dst  is_sm_ips_ports   \n",
       "0           0                 0           1           2                0  \\\n",
       "1           0                 0           1           2                0   \n",
       "2           0                 0           1           3                0   \n",
       "3           0                 0           2           3                0   \n",
       "4           0                 0           2           3                0   \n",
       "\n",
       "   attack_cat  label  \n",
       "0      Normal      0  \n",
       "1      Normal      0  \n",
       "2      Normal      0  \n",
       "3      Normal      0  \n",
       "4      Normal      0  \n",
       "\n",
       "[5 rows x 45 columns]"
      ]
     },
     "execution_count": 15,
     "metadata": {},
     "output_type": "execute_result"
    }
   ],
   "source": [
    "df_training.head()"
   ]
  },
  {
   "cell_type": "markdown",
   "metadata": {},
   "source": [
    "# Data Preprocessing"
   ]
  },
  {
   "cell_type": "markdown",
   "metadata": {},
   "source": [
    "## Removing columns"
   ]
  },
  {
   "cell_type": "code",
   "execution_count": 16,
   "metadata": {},
   "outputs": [],
   "source": [
    "columns_to_remove = ['id','proto','state','service','attack_cat']\n",
    "df_training.drop(columns_to_remove, axis=1, inplace=True)\n",
    "df_testing.drop(columns_to_remove, axis=1,inplace=True)\n"
   ]
  },
  {
   "cell_type": "markdown",
   "metadata": {},
   "source": [
    "## Data Standardization"
   ]
  },
  {
   "cell_type": "code",
   "execution_count": 17,
   "metadata": {},
   "outputs": [],
   "source": [
    "standard_scaler = StandardScaler()\n",
    "\n",
    "for column in df_training.columns:\n",
    "    if column != 'label':\n",
    "        standard_scaler.fit(df_training[column].values.reshape(-1,1))\n",
    "        df_training[column] = standard_scaler.transform(df_training[column].values.reshape(-1,1))\n",
    "        df_testing[column] = standard_scaler.transform(df_testing[column].values.reshape(-1,1))"
   ]
  },
  {
   "cell_type": "markdown",
   "metadata": {},
   "source": [
    "# Train Test Split"
   ]
  },
  {
   "cell_type": "markdown",
   "metadata": {},
   "source": [
    "## Splitting"
   ]
  },
  {
   "cell_type": "code",
   "execution_count": 18,
   "metadata": {},
   "outputs": [],
   "source": [
    "X_train = df_training.drop('label', axis=1)\n",
    "y_train = df_training['label']\n",
    "\n",
    "X_test = df_testing.drop('label', axis=1)\n",
    "y_test = df_testing['label']\n",
    "\n"
   ]
  },
  {
   "cell_type": "code",
   "execution_count": 24,
   "metadata": {},
   "outputs": [
    {
     "data": {
      "text/plain": [
       "((82332, 39), (82332,), (175341, 39), (175341,))"
      ]
     },
     "execution_count": 24,
     "metadata": {},
     "output_type": "execute_result"
    }
   ],
   "source": [
    "X_train.shape,y_train.shape,X_test.shape,y_test.shape"
   ]
  },
  {
   "cell_type": "markdown",
   "metadata": {},
   "source": [
    "## Validation split"
   ]
  },
  {
   "cell_type": "code",
   "execution_count": null,
   "metadata": {},
   "outputs": [],
   "source": [
    "X_train,X_val,y_train,y_val = train_test_split(X_train,y_train,test_size=0.2,random_state=42)"
   ]
  },
  {
   "cell_type": "code",
   "execution_count": null,
   "metadata": {},
   "outputs": [],
   "source": [
    "X_train.shape,y_train.shape,X_val.shape,y_val.shape"
   ]
  },
  {
   "cell_type": "markdown",
   "metadata": {},
   "source": [
    "# Model ANN"
   ]
  },
  {
   "cell_type": "markdown",
   "metadata": {},
   "source": [
    "## Model"
   ]
  },
  {
   "cell_type": "code",
   "execution_count": 25,
   "metadata": {},
   "outputs": [
    {
     "name": "stderr",
     "output_type": "stream",
     "text": [
      "2023-10-12 21:16:00.846165: I tensorflow/compiler/xla/stream_executor/cuda/cuda_gpu_executor.cc:996] successful NUMA node read from SysFS had negative value (-1), but there must be at least one NUMA node, so returning NUMA node zero. See more at https://github.com/torvalds/linux/blob/v6.0/Documentation/ABI/testing/sysfs-bus-pci#L344-L355\n",
      "2023-10-12 21:16:00.846662: W tensorflow/core/common_runtime/gpu/gpu_device.cc:1956] Cannot dlopen some GPU libraries. Please make sure the missing libraries mentioned above are installed properly if you would like to use GPU. Follow the guide at https://www.tensorflow.org/install/gpu for how to download and setup the required libraries for your platform.\n",
      "Skipping registering GPU devices...\n"
     ]
    }
   ],
   "source": [
    "def get_model_ann():\n",
    "  model = Sequential()\n",
    "  model.add(Dense(50, input_dim=X_train.shape[1], activation='relu'))\n",
    "  model.add(Dense(25, activation='relu'))\n",
    "  model.add(Dense(1, activation='sigmoid'))\n",
    "  \n",
    "  model.compile(loss='binary_crossentropy', optimizer='adam', metrics=['accuracy'])\n",
    "  return model\n",
    "\n",
    "model_ann = get_model_ann()  "
   ]
  },
  {
   "cell_type": "markdown",
   "metadata": {},
   "source": [
    "## Train"
   ]
  },
  {
   "cell_type": "code",
   "execution_count": 28,
   "metadata": {},
   "outputs": [
    {
     "name": "stdout",
     "output_type": "stream",
     "text": [
      "Epoch 1/100\n",
      "1287/1287 [==============================] - 1s 997us/step - loss: 0.1095 - accuracy: 0.9558\n",
      "Epoch 2/100\n",
      "1287/1287 [==============================] - 1s 1ms/step - loss: 0.1078 - accuracy: 0.9563\n",
      "Epoch 3/100\n",
      "1287/1287 [==============================] - 1s 962us/step - loss: 0.1056 - accuracy: 0.9577\n",
      "Epoch 4/100\n",
      "1287/1287 [==============================] - 1s 1000us/step - loss: 0.1049 - accuracy: 0.9578\n",
      "Epoch 5/100\n",
      "1287/1287 [==============================] - 1s 1ms/step - loss: 0.1044 - accuracy: 0.9579\n",
      "Epoch 6/100\n",
      "1287/1287 [==============================] - 1s 1ms/step - loss: 0.1031 - accuracy: 0.9587\n",
      "Epoch 7/100\n",
      "1287/1287 [==============================] - 1s 1ms/step - loss: 0.1021 - accuracy: 0.9593\n",
      "Epoch 8/100\n",
      "1287/1287 [==============================] - 1s 1ms/step - loss: 0.1014 - accuracy: 0.9588\n",
      "Epoch 9/100\n",
      "1287/1287 [==============================] - 1s 1ms/step - loss: 0.1004 - accuracy: 0.9597\n",
      "Epoch 10/100\n",
      "1287/1287 [==============================] - 1s 1ms/step - loss: 0.0997 - accuracy: 0.9597\n",
      "Epoch 11/100\n",
      "1287/1287 [==============================] - 1s 1ms/step - loss: 0.0994 - accuracy: 0.9600\n",
      "Epoch 12/100\n",
      "1287/1287 [==============================] - 1s 1ms/step - loss: 0.0979 - accuracy: 0.9606\n",
      "Epoch 13/100\n",
      "1287/1287 [==============================] - 1s 991us/step - loss: 0.0977 - accuracy: 0.9601\n",
      "Epoch 14/100\n",
      "1287/1287 [==============================] - 1s 1ms/step - loss: 0.0966 - accuracy: 0.9608\n",
      "Epoch 15/100\n",
      "1287/1287 [==============================] - 1s 1ms/step - loss: 0.0964 - accuracy: 0.9603\n",
      "Epoch 16/100\n",
      "1287/1287 [==============================] - 1s 1ms/step - loss: 0.0959 - accuracy: 0.9614\n",
      "Epoch 17/100\n",
      "1287/1287 [==============================] - 1s 1ms/step - loss: 0.0952 - accuracy: 0.9612\n",
      "Epoch 18/100\n",
      "1287/1287 [==============================] - 1s 978us/step - loss: 0.0940 - accuracy: 0.9619\n",
      "Epoch 19/100\n",
      "1287/1287 [==============================] - 1s 986us/step - loss: 0.0938 - accuracy: 0.9617\n",
      "Epoch 20/100\n",
      "1287/1287 [==============================] - 1s 1ms/step - loss: 0.0941 - accuracy: 0.9618\n",
      "Epoch 21/100\n",
      "1287/1287 [==============================] - 1s 1ms/step - loss: 0.0931 - accuracy: 0.9625\n",
      "Epoch 22/100\n",
      "1287/1287 [==============================] - 1s 1ms/step - loss: 0.0933 - accuracy: 0.9624\n",
      "Epoch 23/100\n",
      "1287/1287 [==============================] - 1s 1ms/step - loss: 0.0927 - accuracy: 0.9624\n",
      "Epoch 24/100\n",
      "1287/1287 [==============================] - 1s 1ms/step - loss: 0.0918 - accuracy: 0.9629\n",
      "Epoch 25/100\n",
      "1287/1287 [==============================] - 1s 1ms/step - loss: 0.0910 - accuracy: 0.9624\n",
      "Epoch 26/100\n",
      "1287/1287 [==============================] - 1s 1ms/step - loss: 0.0911 - accuracy: 0.9632\n",
      "Epoch 27/100\n",
      "1287/1287 [==============================] - 1s 1ms/step - loss: 0.0910 - accuracy: 0.9629\n",
      "Epoch 28/100\n",
      "1287/1287 [==============================] - 1s 1ms/step - loss: 0.0903 - accuracy: 0.9630\n",
      "Epoch 29/100\n",
      "1287/1287 [==============================] - 1s 987us/step - loss: 0.0907 - accuracy: 0.9635\n",
      "Epoch 30/100\n",
      "1287/1287 [==============================] - 1s 985us/step - loss: 0.0898 - accuracy: 0.9638\n",
      "Epoch 31/100\n",
      "1287/1287 [==============================] - 1s 980us/step - loss: 0.0897 - accuracy: 0.9637\n",
      "Epoch 32/100\n",
      "1287/1287 [==============================] - 1s 996us/step - loss: 0.0896 - accuracy: 0.9635\n",
      "Epoch 33/100\n",
      "1287/1287 [==============================] - 1s 995us/step - loss: 0.0894 - accuracy: 0.9631\n",
      "Epoch 34/100\n",
      "1287/1287 [==============================] - 1s 963us/step - loss: 0.0890 - accuracy: 0.9636\n",
      "Epoch 35/100\n",
      "1287/1287 [==============================] - 1s 957us/step - loss: 0.0887 - accuracy: 0.9641\n",
      "Epoch 36/100\n",
      "1287/1287 [==============================] - 1s 987us/step - loss: 0.0885 - accuracy: 0.9647\n",
      "Epoch 37/100\n",
      "1287/1287 [==============================] - 1s 957us/step - loss: 0.0882 - accuracy: 0.9643\n",
      "Epoch 38/100\n",
      "1287/1287 [==============================] - 1s 990us/step - loss: 0.0891 - accuracy: 0.9646\n",
      "Epoch 39/100\n",
      "1287/1287 [==============================] - 1s 960us/step - loss: 0.0879 - accuracy: 0.9644\n",
      "Epoch 40/100\n",
      "1287/1287 [==============================] - 1s 952us/step - loss: 0.0870 - accuracy: 0.9642\n",
      "Epoch 41/100\n",
      "1287/1287 [==============================] - 1s 977us/step - loss: 0.0872 - accuracy: 0.9648\n",
      "Epoch 42/100\n",
      "1287/1287 [==============================] - 1s 983us/step - loss: 0.0868 - accuracy: 0.9647\n",
      "Epoch 43/100\n",
      "1287/1287 [==============================] - 1s 979us/step - loss: 0.0874 - accuracy: 0.9645\n",
      "Epoch 44/100\n",
      "1287/1287 [==============================] - 1s 993us/step - loss: 0.0867 - accuracy: 0.9649\n",
      "Epoch 45/100\n",
      "1287/1287 [==============================] - 1s 953us/step - loss: 0.0862 - accuracy: 0.9652\n",
      "Epoch 46/100\n",
      "1287/1287 [==============================] - 1s 963us/step - loss: 0.0856 - accuracy: 0.9652\n",
      "Epoch 47/100\n",
      "1287/1287 [==============================] - 1s 951us/step - loss: 0.0865 - accuracy: 0.9655\n",
      "Epoch 48/100\n",
      "1287/1287 [==============================] - 1s 990us/step - loss: 0.0857 - accuracy: 0.9651\n",
      "Epoch 49/100\n",
      "1287/1287 [==============================] - 1s 1ms/step - loss: 0.0854 - accuracy: 0.9654\n",
      "Epoch 50/100\n",
      "1287/1287 [==============================] - 1s 952us/step - loss: 0.0850 - accuracy: 0.9654\n",
      "Epoch 51/100\n",
      "1287/1287 [==============================] - 1s 962us/step - loss: 0.0852 - accuracy: 0.9655\n",
      "Epoch 52/100\n",
      "1287/1287 [==============================] - 1s 975us/step - loss: 0.0844 - accuracy: 0.9661\n",
      "Epoch 53/100\n",
      "1287/1287 [==============================] - 1s 967us/step - loss: 0.0851 - accuracy: 0.9658\n",
      "Epoch 54/100\n",
      "1287/1287 [==============================] - 1s 978us/step - loss: 0.0840 - accuracy: 0.9664\n",
      "Epoch 55/100\n",
      "1287/1287 [==============================] - 1s 980us/step - loss: 0.0852 - accuracy: 0.9657\n",
      "Epoch 56/100\n",
      "1287/1287 [==============================] - 1s 962us/step - loss: 0.0840 - accuracy: 0.9659\n",
      "Epoch 57/100\n",
      "1287/1287 [==============================] - 1s 1ms/step - loss: 0.0835 - accuracy: 0.9665\n",
      "Epoch 58/100\n",
      "1287/1287 [==============================] - 1s 1ms/step - loss: 0.0837 - accuracy: 0.9659\n",
      "Epoch 59/100\n",
      "1287/1287 [==============================] - 1s 977us/step - loss: 0.0840 - accuracy: 0.9660\n",
      "Epoch 60/100\n",
      "1287/1287 [==============================] - 1s 965us/step - loss: 0.0836 - accuracy: 0.9662\n",
      "Epoch 61/100\n",
      "1287/1287 [==============================] - 1s 954us/step - loss: 0.0843 - accuracy: 0.9658\n",
      "Epoch 62/100\n",
      "1287/1287 [==============================] - 1s 961us/step - loss: 0.0841 - accuracy: 0.9664\n",
      "Epoch 63/100\n",
      "1287/1287 [==============================] - 1s 1ms/step - loss: 0.0822 - accuracy: 0.9673\n",
      "Epoch 64/100\n",
      "1287/1287 [==============================] - 1s 929us/step - loss: 0.0827 - accuracy: 0.9664\n",
      "Epoch 65/100\n",
      "1287/1287 [==============================] - 1s 939us/step - loss: 0.0822 - accuracy: 0.9672\n",
      "Epoch 66/100\n",
      "1287/1287 [==============================] - 1s 960us/step - loss: 0.0828 - accuracy: 0.9670\n",
      "Epoch 67/100\n",
      "1287/1287 [==============================] - 1s 947us/step - loss: 0.0828 - accuracy: 0.9659\n",
      "Epoch 68/100\n",
      "1287/1287 [==============================] - 1s 999us/step - loss: 0.0823 - accuracy: 0.9662\n",
      "Epoch 69/100\n",
      "1287/1287 [==============================] - 1s 951us/step - loss: 0.0825 - accuracy: 0.9673\n",
      "Epoch 70/100\n",
      "1287/1287 [==============================] - 1s 947us/step - loss: 0.0817 - accuracy: 0.9670\n",
      "Epoch 71/100\n",
      "1287/1287 [==============================] - 1s 950us/step - loss: 0.0818 - accuracy: 0.9672\n",
      "Epoch 72/100\n",
      "1287/1287 [==============================] - 1s 962us/step - loss: 0.0822 - accuracy: 0.9676\n",
      "Epoch 73/100\n",
      "1287/1287 [==============================] - 1s 958us/step - loss: 0.0813 - accuracy: 0.9670\n",
      "Epoch 74/100\n",
      "1287/1287 [==============================] - 1s 930us/step - loss: 0.0807 - accuracy: 0.9677\n",
      "Epoch 75/100\n",
      "1287/1287 [==============================] - 1s 919us/step - loss: 0.0809 - accuracy: 0.9672\n",
      "Epoch 76/100\n",
      "1287/1287 [==============================] - 1s 933us/step - loss: 0.0811 - accuracy: 0.9671\n",
      "Epoch 77/100\n",
      "1287/1287 [==============================] - 1s 935us/step - loss: 0.0813 - accuracy: 0.9676\n",
      "Epoch 78/100\n",
      "1287/1287 [==============================] - 1s 944us/step - loss: 0.0807 - accuracy: 0.9675\n",
      "Epoch 79/100\n",
      "1287/1287 [==============================] - 1s 927us/step - loss: 0.0805 - accuracy: 0.9676\n",
      "Epoch 80/100\n",
      "1287/1287 [==============================] - 1s 926us/step - loss: 0.0805 - accuracy: 0.9677\n",
      "Epoch 81/100\n",
      "1287/1287 [==============================] - 1s 921us/step - loss: 0.0803 - accuracy: 0.9676\n",
      "Epoch 82/100\n",
      "1287/1287 [==============================] - 1s 974us/step - loss: 0.0798 - accuracy: 0.9676\n",
      "Epoch 83/100\n",
      "1287/1287 [==============================] - 1s 991us/step - loss: 0.0803 - accuracy: 0.9675\n",
      "Epoch 84/100\n",
      "1287/1287 [==============================] - 1s 995us/step - loss: 0.0799 - accuracy: 0.9671\n",
      "Epoch 85/100\n",
      "1287/1287 [==============================] - 1s 952us/step - loss: 0.0797 - accuracy: 0.9682\n",
      "Epoch 86/100\n",
      "1287/1287 [==============================] - 1s 926us/step - loss: 0.0799 - accuracy: 0.9681\n",
      "Epoch 87/100\n",
      "1287/1287 [==============================] - 1s 1ms/step - loss: 0.0794 - accuracy: 0.9685\n",
      "Epoch 88/100\n",
      "1287/1287 [==============================] - 1s 976us/step - loss: 0.0794 - accuracy: 0.9676\n",
      "Epoch 89/100\n",
      "1287/1287 [==============================] - 1s 923us/step - loss: 0.0790 - accuracy: 0.9685\n",
      "Epoch 90/100\n",
      "1287/1287 [==============================] - 1s 925us/step - loss: 0.0790 - accuracy: 0.9680\n",
      "Epoch 91/100\n",
      "1287/1287 [==============================] - 1s 938us/step - loss: 0.0789 - accuracy: 0.9682\n",
      "Epoch 92/100\n",
      "1287/1287 [==============================] - 1s 917us/step - loss: 0.0788 - accuracy: 0.9686\n",
      "Epoch 93/100\n",
      "1287/1287 [==============================] - 1s 921us/step - loss: 0.0784 - accuracy: 0.9683\n",
      "Epoch 94/100\n",
      "1287/1287 [==============================] - 1s 931us/step - loss: 0.0784 - accuracy: 0.9681\n",
      "Epoch 95/100\n",
      "1287/1287 [==============================] - 1s 931us/step - loss: 0.0779 - accuracy: 0.9687\n",
      "Epoch 96/100\n",
      "1287/1287 [==============================] - 1s 941us/step - loss: 0.0780 - accuracy: 0.9685\n",
      "Epoch 97/100\n",
      "1287/1287 [==============================] - 1s 1ms/step - loss: 0.0784 - accuracy: 0.9680\n",
      "Epoch 98/100\n",
      "1287/1287 [==============================] - 1s 944us/step - loss: 0.0780 - accuracy: 0.9685\n",
      "Epoch 99/100\n",
      "1287/1287 [==============================] - 1s 948us/step - loss: 0.0781 - accuracy: 0.9685\n",
      "Epoch 100/100\n",
      "1287/1287 [==============================] - 1s 1ms/step - loss: 0.0772 - accuracy: 0.9685\n"
     ]
    }
   ],
   "source": [
    "history_ann = model_ann.fit(X_train, y_train, epochs=100, batch_size=64, verbose=1)"
   ]
  },
  {
   "cell_type": "markdown",
   "metadata": {},
   "source": [
    "## Predict"
   ]
  },
  {
   "cell_type": "code",
   "execution_count": 57,
   "metadata": {},
   "outputs": [
    {
     "name": "stdout",
     "output_type": "stream",
     "text": [
      "5480/5480 [==============================] - 3s 631us/step\n"
     ]
    }
   ],
   "source": [
    "y_prediction_ann = model_ann.predict(X_test)\n"
   ]
  },
  {
   "cell_type": "code",
   "execution_count": 58,
   "metadata": {},
   "outputs": [],
   "source": [
    "threshold = 0.5\n",
    "y_prediction_ann = np.where(y_prediction_ann > threshold, 1, 0)"
   ]
  },
  {
   "cell_type": "code",
   "execution_count": 59,
   "metadata": {},
   "outputs": [
    {
     "name": "stdout",
     "output_type": "stream",
     "text": [
      "ANN Accuracy:  0.887527731677132\n"
     ]
    }
   ],
   "source": [
    "print(\"ANN Accuracy: \", accuracy_score(y_test, y_prediction_ann))"
   ]
  },
  {
   "cell_type": "markdown",
   "metadata": {},
   "source": [
    "## Confusion Matrix"
   ]
  },
  {
   "cell_type": "code",
   "execution_count": 60,
   "metadata": {},
   "outputs": [
    {
     "name": "stdout",
     "output_type": "stream",
     "text": [
      "              precision    recall  f1-score   support\n",
      "\n",
      "           0       0.75      0.97      0.85     56000\n",
      "           1       0.99      0.85      0.91    119341\n",
      "\n",
      "    accuracy                           0.89    175341\n",
      "   macro avg       0.87      0.91      0.88    175341\n",
      "weighted avg       0.91      0.89      0.89    175341\n",
      "\n"
     ]
    }
   ],
   "source": [
    "print(classification_report(y_test, y_prediction_ann))"
   ]
  },
  {
   "cell_type": "code",
   "execution_count": 61,
   "metadata": {},
   "outputs": [
    {
     "data": {
      "image/png": "[encoded data removed]",
      "text/plain": [
       "<Figure size 1000x1000 with 2 Axes>"
      ]
     },
     "metadata": {},
     "output_type": "display_data"
    }
   ],
   "source": [
    "## give confusion matrix\n",
    "cm_ann = confusion_matrix(y_test, y_prediction_ann)\n",
    "##  plot it\n",
    "plt.figure(figsize=(10,10))\n",
    "plt.title('ANN Confusion Matrix')\n",
    "sns.heatmap(cm_ann, annot=True, fmt='d', cmap='Blues')\n",
    "plt.xlabel('Predicted')\n",
    "plt.ylabel('Actual')\n",
    "plt.show()\n"
   ]
  },
  {
   "cell_type": "markdown",
   "metadata": {},
   "source": [
    "# Random Forest"
   ]
  },
  {
   "cell_type": "code",
   "execution_count": 67,
   "metadata": {},
   "outputs": [
    {
     "name": "stderr",
     "output_type": "stream",
     "text": [
      "[Parallel(n_jobs=50)]: Using backend ThreadingBackend with 50 concurrent workers.\n",
      "[Parallel(n_jobs=50)]: Done 100 out of 100 | elapsed:    2.4s finished\n"
     ]
    },
    {
     "data": {
      "text/html": [
       "<style>#sk-container-id-2 {color: black;background-color: white;}#sk-container-id-2 pre{padding: 0;}#sk-container-id-2 div.sk-toggleable {background-color: white;}#sk-container-id-2 label.sk-toggleable__label {cursor: pointer;display: block;width: 100%;margin-bottom: 0;padding: 0.3em;box-sizing: border-box;text-align: center;}#sk-container-id-2 label.sk-toggleable__label-arrow:before {content: \"▸\";float: left;margin-right: 0.25em;color: #696969;}#sk-container-id-2 label.sk-toggleable__label-arrow:hover:before {color: black;}#sk-container-id-2 div.sk-estimator:hover label.sk-toggleable__label-arrow:before {color: black;}#sk-container-id-2 div.sk-toggleable__content {max-height: 0;max-width: 0;overflow: hidden;text-align: left;background-color: #f0f8ff;}#sk-container-id-2 div.sk-toggleable__content pre {margin: 0.2em;color: black;border-radius: 0.25em;background-color: #f0f8ff;}#sk-container-id-2 input.sk-toggleable__control:checked~div.sk-toggleable__content {max-height: 200px;max-width: 100%;overflow: auto;}#sk-container-id-2 input.sk-toggleable__control:checked~label.sk-toggleable__label-arrow:before {content: \"▾\";}#sk-container-id-2 div.sk-estimator input.sk-toggleable__control:checked~label.sk-toggleable__label {background-color: #d4ebff;}#sk-container-id-2 div.sk-label input.sk-toggleable__control:checked~label.sk-toggleable__label {background-color: #d4ebff;}#sk-container-id-2 input.sk-hidden--visually {border: 0;clip: rect(1px 1px 1px 1px);clip: rect(1px, 1px, 1px, 1px);height: 1px;margin: -1px;overflow: hidden;padding: 0;position: absolute;width: 1px;}#sk-container-id-2 div.sk-estimator {font-family: monospace;background-color: #f0f8ff;border: 1px dotted black;border-radius: 0.25em;box-sizing: border-box;margin-bottom: 0.5em;}#sk-container-id-2 div.sk-estimator:hover {background-color: #d4ebff;}#sk-container-id-2 div.sk-parallel-item::after {content: \"\";width: 100%;border-bottom: 1px solid gray;flex-grow: 1;}#sk-container-id-2 div.sk-label:hover label.sk-toggleable__label {background-color: #d4ebff;}#sk-container-id-2 div.sk-serial::before {content: \"\";position: absolute;border-left: 1px solid gray;box-sizing: border-box;top: 0;bottom: 0;left: 50%;z-index: 0;}#sk-container-id-2 div.sk-serial {display: flex;flex-direction: column;align-items: center;background-color: white;padding-right: 0.2em;padding-left: 0.2em;position: relative;}#sk-container-id-2 div.sk-item {position: relative;z-index: 1;}#sk-container-id-2 div.sk-parallel {display: flex;align-items: stretch;justify-content: center;background-color: white;position: relative;}#sk-container-id-2 div.sk-item::before, #sk-container-id-2 div.sk-parallel-item::before {content: \"\";position: absolute;border-left: 1px solid gray;box-sizing: border-box;top: 0;bottom: 0;left: 50%;z-index: -1;}#sk-container-id-2 div.sk-parallel-item {display: flex;flex-direction: column;z-index: 1;position: relative;background-color: white;}#sk-container-id-2 div.sk-parallel-item:first-child::after {align-self: flex-end;width: 50%;}#sk-container-id-2 div.sk-parallel-item:last-child::after {align-self: flex-start;width: 50%;}#sk-container-id-2 div.sk-parallel-item:only-child::after {width: 0;}#sk-container-id-2 div.sk-dashed-wrapped {border: 1px dashed gray;margin: 0 0.4em 0.5em 0.4em;box-sizing: border-box;padding-bottom: 0.4em;background-color: white;}#sk-container-id-2 div.sk-label label {font-family: monospace;font-weight: bold;display: inline-block;line-height: 1.2em;}#sk-container-id-2 div.sk-label-container {text-align: center;}#sk-container-id-2 div.sk-container {/* jupyter's `normalize.less` sets `[hidden] { display: none; }` but bootstrap.min.css set `[hidden] { display: none !important; }` so we also need the `!important` here to be able to override the default hidden behavior on the sphinx rendered scikit-learn.org. See: https://github.com/scikit-learn/scikit-learn/issues/21755 */display: inline-block !important;position: relative;}#sk-container-id-2 div.sk-text-repr-fallback {display: none;}</style><div id=\"sk-container-id-2\" class=\"sk-top-container\"><div class=\"sk-text-repr-fallback\"><pre>RandomForestClassifier(criterion=&#x27;entropy&#x27;, n_jobs=50, random_state=42,\n",
       "                       verbose=1, warm_start=True)</pre><b>In a Jupyter environment, please rerun this cell to show the HTML representation or trust the notebook. <br />On GitHub, the HTML representation is unable to render, please try loading this page with nbviewer.org.</b></div><div class=\"sk-container\" hidden><div class=\"sk-item\"><div class=\"sk-estimator sk-toggleable\"><input class=\"sk-toggleable__control sk-hidden--visually\" id=\"sk-estimator-id-2\" type=\"checkbox\" checked><label for=\"sk-estimator-id-2\" class=\"sk-toggleable__label sk-toggleable__label-arrow\">RandomForestClassifier</label><div class=\"sk-toggleable__content\"><pre>RandomForestClassifier(criterion=&#x27;entropy&#x27;, n_jobs=50, random_state=42,\n",
       "                       verbose=1, warm_start=True)</pre></div></div></div></div></div>"
      ],
      "text/plain": [
       "RandomForestClassifier(criterion='entropy', n_jobs=50, random_state=42,\n",
       "                       verbose=1, warm_start=True)"
      ]
     },
     "execution_count": 67,
     "metadata": {},
     "output_type": "execute_result"
    }
   ],
   "source": [
    "\n",
    "rf = RandomForestClassifier(n_estimators=100, n_jobs=50, random_state=42, verbose=1, criterion='entropy',warm_start=True)\n",
    "\n",
    "rf.fit(X_train, y_train)"
   ]
  },
  {
   "cell_type": "code",
   "execution_count": 68,
   "metadata": {},
   "outputs": [
    {
     "name": "stderr",
     "output_type": "stream",
     "text": [
      "[Parallel(n_jobs=50)]: Using backend ThreadingBackend with 50 concurrent workers.\n"
     ]
    },
    {
     "name": "stdout",
     "output_type": "stream",
     "text": [
      "Accuracy: 0.8986146993572525\n"
     ]
    },
    {
     "name": "stderr",
     "output_type": "stream",
     "text": [
      "[Parallel(n_jobs=50)]: Done 100 out of 100 | elapsed:    0.4s finished\n"
     ]
    }
   ],
   "source": [
    "y_pred = rf.predict(X_test)\n",
    "accuracy = accuracy_score(y_test, y_pred)\n",
    "print(\"Accuracy:\", accuracy)"
   ]
  },
  {
   "cell_type": "code",
   "execution_count": null,
   "metadata": {},
   "outputs": [],
   "source": []
  }
 ],
 "metadata": {
  "kernelspec": {
   "display_name": "Python 3",
   "language": "python",
   "name": "python3"
  },
  "language_info": {
   "codemirror_mode": {
    "name": "ipython",
    "version": 3
   },
   "file_extension": ".py",
   "mimetype": "text/x-python",
   "name": "python",
   "nbconvert_exporter": "python",
   "pygments_lexer": "ipython3",
   "version": "3.10.12"
  }
 },
 "nbformat": 4,
 "nbformat_minor": 2
}
