{
 "cells": [
  {
   "cell_type": "code",
   "execution_count": null,
   "metadata": {},
   "outputs": [],
   "source": []
  },
  {
   "cell_type": "code",
   "execution_count": null,
   "metadata": {},
   "outputs": [],
   "source": [
    "# shape of test data\n",
    "X_test.shape"
   ]
  },
  {
   "cell_type": "code",
   "execution_count": null,
   "metadata": {},
   "outputs": [],
   "source": [
    "%pip install imblearn"
   ]
  },
  {
   "cell_type": "markdown",
   "metadata": {},
   "source": [
    "# Import Section"
   ]
  },
  {
   "cell_type": "code",
   "execution_count": 1,
   "metadata": {},
   "outputs": [
    {
     "name": "stderr",
     "output_type": "stream",
     "text": [
      "2023-11-08 04:56:16.398751: I tensorflow/core/util/port.cc:110] oneDNN custom operations are on. You may see slightly different numerical results due to floating-point round-off errors from different computation orders. To turn them off, set the environment variable `TF_ENABLE_ONEDNN_OPTS=0`.\n",
      "2023-11-08 04:56:16.442875: I tensorflow/core/platform/cpu_feature_guard.cc:182] This TensorFlow binary is optimized to use available CPU instructions in performance-critical operations.\n",
      "To enable the following instructions: AVX2 AVX512F AVX512_VNNI FMA, in other operations, rebuild TensorFlow with the appropriate compiler flags.\n",
      "2023-11-08 04:56:17.182536: W tensorflow/compiler/tf2tensorrt/utils/py_utils.cc:38] TF-TRT Warning: Could not find TensorRT\n"
     ]
    }
   ],
   "source": [
    "import numpy as np\n",
    "import matplotlib.pyplot as plt\n",
    "import pandas as pd\n",
    "import seaborn as sns\n",
    "\n",
    "\n",
    "from sklearn.preprocessing import StandardScaler\n",
    "from sklearn.model_selection import train_test_split\n",
    "from sklearn.metrics import accuracy_score, confusion_matrix, classification_report\n",
    "from sklearn.ensemble import RandomForestClassifier\n",
    "from keras import Sequential\n",
    "from keras.layers import Dense, Dropout, LSTM\n",
    "from keras.models import load_model\n",
    "from xgboost import XGBClassifier\n",
    "from sklearn.metrics import roc_curve, auc, roc_auc_score\n",
    "\n"
   ]
  },
  {
   "cell_type": "markdown",
   "metadata": {},
   "source": [
    "# Loading Dataset"
   ]
  },
  {
   "cell_type": "code",
   "execution_count": 26,
   "metadata": {},
   "outputs": [],
   "source": [
    "FILE_PATH_TRAINING = \"../dataset/UNSW_NB15_training-set.csv\"\n",
    "FILE_PATH_TESTING = \"../dataset/UNSW_NB15_testing-set.csv\"\n",
    "\n",
    "df_training =   pd.read_csv(FILE_PATH_TRAINING, index_col=0)\n",
    "df_testing =    pd.read_csv(FILE_PATH_TESTING, index_col=0)"
   ]
  },
  {
   "cell_type": "code",
   "execution_count": 19,
   "metadata": {},
   "outputs": [
    {
     "data": {
      "text/plain": [
       "((175341, 44), (82332, 45))"
      ]
     },
     "execution_count": 19,
     "metadata": {},
     "output_type": "execute_result"
    }
   ],
   "source": [
    "df_training.shape, df_testing.shape"
   ]
  },
  {
   "cell_type": "code",
   "execution_count": 21,
   "metadata": {},
   "outputs": [
    {
     "name": "stdout",
     "output_type": "stream",
     "text": [
      "0 dur\n",
      "1 proto\n",
      "2 service\n",
      "3 state\n",
      "4 spkts\n",
      "5 dpkts\n",
      "6 sbytes\n",
      "7 dbytes\n",
      "8 rate\n",
      "9 sttl\n",
      "10 dttl\n",
      "11 sload\n",
      "12 dload\n",
      "13 sloss\n",
      "14 dloss\n",
      "15 sinpkt\n",
      "16 dinpkt\n",
      "17 sjit\n",
      "18 djit\n",
      "19 swin\n",
      "20 stcpb\n",
      "21 dtcpb\n",
      "22 dwin\n",
      "23 tcprtt\n",
      "24 synack\n",
      "25 ackdat\n",
      "26 smean\n",
      "27 dmean\n",
      "28 trans_depth\n",
      "29 response_body_len\n",
      "30 ct_srv_src\n",
      "31 ct_state_ttl\n",
      "32 ct_dst_ltm\n",
      "33 ct_src_dport_ltm\n",
      "34 ct_dst_sport_ltm\n",
      "35 ct_dst_src_ltm\n",
      "36 is_ftp_login\n",
      "37 ct_ftp_cmd\n",
      "38 ct_flw_http_mthd\n",
      "39 ct_src_ltm\n",
      "40 ct_srv_dst\n",
      "41 is_sm_ips_ports\n",
      "42 attack_cat\n",
      "43 label\n"
     ]
    }
   ],
   "source": [
    "df_training.head()\n",
    "\n",
    "# print the columns\n",
    "for idx, col in enumerate(df_training.columns):\n",
    "    print(idx, col)"
   ]
  },
  {
   "cell_type": "code",
   "execution_count": 20,
   "metadata": {},
   "outputs": [
    {
     "data": {
      "text/html": [
       "<div>\n",
       "<style scoped>\n",
       "    .dataframe tbody tr th:only-of-type {\n",
       "        vertical-align: middle;\n",
       "    }\n",
       "\n",
       "    .dataframe tbody tr th {\n",
       "        vertical-align: top;\n",
       "    }\n",
       "\n",
       "    .dataframe thead th {\n",
       "        text-align: right;\n",
       "    }\n",
       "</style>\n",
       "<table border=\"1\" class=\"dataframe\">\n",
       "  <thead>\n",
       "    <tr style=\"text-align: right;\">\n",
       "      <th></th>\n",
       "      <th>dur</th>\n",
       "      <th>proto</th>\n",
       "      <th>service</th>\n",
       "      <th>state</th>\n",
       "      <th>spkts</th>\n",
       "      <th>dpkts</th>\n",
       "      <th>sbytes</th>\n",
       "      <th>dbytes</th>\n",
       "      <th>rate</th>\n",
       "      <th>sttl</th>\n",
       "      <th>...</th>\n",
       "      <th>ct_dst_sport_ltm</th>\n",
       "      <th>ct_dst_src_ltm</th>\n",
       "      <th>is_ftp_login</th>\n",
       "      <th>ct_ftp_cmd</th>\n",
       "      <th>ct_flw_http_mthd</th>\n",
       "      <th>ct_src_ltm</th>\n",
       "      <th>ct_srv_dst</th>\n",
       "      <th>is_sm_ips_ports</th>\n",
       "      <th>attack_cat</th>\n",
       "      <th>label</th>\n",
       "    </tr>\n",
       "    <tr>\n",
       "      <th>id</th>\n",
       "      <th></th>\n",
       "      <th></th>\n",
       "      <th></th>\n",
       "      <th></th>\n",
       "      <th></th>\n",
       "      <th></th>\n",
       "      <th></th>\n",
       "      <th></th>\n",
       "      <th></th>\n",
       "      <th></th>\n",
       "      <th></th>\n",
       "      <th></th>\n",
       "      <th></th>\n",
       "      <th></th>\n",
       "      <th></th>\n",
       "      <th></th>\n",
       "      <th></th>\n",
       "      <th></th>\n",
       "      <th></th>\n",
       "      <th></th>\n",
       "      <th></th>\n",
       "    </tr>\n",
       "  </thead>\n",
       "  <tbody>\n",
       "    <tr>\n",
       "      <th>1</th>\n",
       "      <td>0.121478</td>\n",
       "      <td>tcp</td>\n",
       "      <td>-</td>\n",
       "      <td>FIN</td>\n",
       "      <td>6</td>\n",
       "      <td>4</td>\n",
       "      <td>258</td>\n",
       "      <td>172</td>\n",
       "      <td>74.087490</td>\n",
       "      <td>252</td>\n",
       "      <td>...</td>\n",
       "      <td>1</td>\n",
       "      <td>1</td>\n",
       "      <td>0</td>\n",
       "      <td>0</td>\n",
       "      <td>0</td>\n",
       "      <td>1</td>\n",
       "      <td>1</td>\n",
       "      <td>0</td>\n",
       "      <td>Normal</td>\n",
       "      <td>0</td>\n",
       "    </tr>\n",
       "    <tr>\n",
       "      <th>2</th>\n",
       "      <td>0.649902</td>\n",
       "      <td>tcp</td>\n",
       "      <td>-</td>\n",
       "      <td>FIN</td>\n",
       "      <td>14</td>\n",
       "      <td>38</td>\n",
       "      <td>734</td>\n",
       "      <td>42014</td>\n",
       "      <td>78.473372</td>\n",
       "      <td>62</td>\n",
       "      <td>...</td>\n",
       "      <td>1</td>\n",
       "      <td>2</td>\n",
       "      <td>0</td>\n",
       "      <td>0</td>\n",
       "      <td>0</td>\n",
       "      <td>1</td>\n",
       "      <td>6</td>\n",
       "      <td>0</td>\n",
       "      <td>Normal</td>\n",
       "      <td>0</td>\n",
       "    </tr>\n",
       "    <tr>\n",
       "      <th>3</th>\n",
       "      <td>1.623129</td>\n",
       "      <td>tcp</td>\n",
       "      <td>-</td>\n",
       "      <td>FIN</td>\n",
       "      <td>8</td>\n",
       "      <td>16</td>\n",
       "      <td>364</td>\n",
       "      <td>13186</td>\n",
       "      <td>14.170161</td>\n",
       "      <td>62</td>\n",
       "      <td>...</td>\n",
       "      <td>1</td>\n",
       "      <td>3</td>\n",
       "      <td>0</td>\n",
       "      <td>0</td>\n",
       "      <td>0</td>\n",
       "      <td>2</td>\n",
       "      <td>6</td>\n",
       "      <td>0</td>\n",
       "      <td>Normal</td>\n",
       "      <td>0</td>\n",
       "    </tr>\n",
       "    <tr>\n",
       "      <th>4</th>\n",
       "      <td>1.681642</td>\n",
       "      <td>tcp</td>\n",
       "      <td>ftp</td>\n",
       "      <td>FIN</td>\n",
       "      <td>12</td>\n",
       "      <td>12</td>\n",
       "      <td>628</td>\n",
       "      <td>770</td>\n",
       "      <td>13.677108</td>\n",
       "      <td>62</td>\n",
       "      <td>...</td>\n",
       "      <td>1</td>\n",
       "      <td>3</td>\n",
       "      <td>1</td>\n",
       "      <td>1</td>\n",
       "      <td>0</td>\n",
       "      <td>2</td>\n",
       "      <td>1</td>\n",
       "      <td>0</td>\n",
       "      <td>Normal</td>\n",
       "      <td>0</td>\n",
       "    </tr>\n",
       "    <tr>\n",
       "      <th>5</th>\n",
       "      <td>0.449454</td>\n",
       "      <td>tcp</td>\n",
       "      <td>-</td>\n",
       "      <td>FIN</td>\n",
       "      <td>10</td>\n",
       "      <td>6</td>\n",
       "      <td>534</td>\n",
       "      <td>268</td>\n",
       "      <td>33.373826</td>\n",
       "      <td>254</td>\n",
       "      <td>...</td>\n",
       "      <td>1</td>\n",
       "      <td>40</td>\n",
       "      <td>0</td>\n",
       "      <td>0</td>\n",
       "      <td>0</td>\n",
       "      <td>2</td>\n",
       "      <td>39</td>\n",
       "      <td>0</td>\n",
       "      <td>Normal</td>\n",
       "      <td>0</td>\n",
       "    </tr>\n",
       "  </tbody>\n",
       "</table>\n",
       "<p>5 rows × 44 columns</p>\n",
       "</div>"
      ],
      "text/plain": [
       "         dur proto service state  spkts  dpkts  sbytes  dbytes       rate  \\\n",
       "id                                                                          \n",
       "1   0.121478   tcp       -   FIN      6      4     258     172  74.087490   \n",
       "2   0.649902   tcp       -   FIN     14     38     734   42014  78.473372   \n",
       "3   1.623129   tcp       -   FIN      8     16     364   13186  14.170161   \n",
       "4   1.681642   tcp     ftp   FIN     12     12     628     770  13.677108   \n",
       "5   0.449454   tcp       -   FIN     10      6     534     268  33.373826   \n",
       "\n",
       "    sttl  ...  ct_dst_sport_ltm  ct_dst_src_ltm  is_ftp_login  ct_ftp_cmd  \\\n",
       "id        ...                                                               \n",
       "1    252  ...                 1               1             0           0   \n",
       "2     62  ...                 1               2             0           0   \n",
       "3     62  ...                 1               3             0           0   \n",
       "4     62  ...                 1               3             1           1   \n",
       "5    254  ...                 1              40             0           0   \n",
       "\n",
       "    ct_flw_http_mthd  ct_src_ltm  ct_srv_dst  is_sm_ips_ports  attack_cat  \\\n",
       "id                                                                          \n",
       "1                  0           1           1                0      Normal   \n",
       "2                  0           1           6                0      Normal   \n",
       "3                  0           2           6                0      Normal   \n",
       "4                  0           2           1                0      Normal   \n",
       "5                  0           2          39                0      Normal   \n",
       "\n",
       "    label  \n",
       "id         \n",
       "1       0  \n",
       "2       0  \n",
       "3       0  \n",
       "4       0  \n",
       "5       0  \n",
       "\n",
       "[5 rows x 44 columns]"
      ]
     },
     "execution_count": 20,
     "metadata": {},
     "output_type": "execute_result"
    }
   ],
   "source": [
    "df_training.head()"
   ]
  },
  {
   "cell_type": "code",
   "execution_count": 22,
   "metadata": {},
   "outputs": [
    {
     "name": "stdout",
     "output_type": "stream",
     "text": [
      "Index(['dur', 'proto', 'service', 'state', 'spkts', 'dpkts', 'sbytes',\n",
      "       'dbytes', 'rate', 'sttl', 'dttl', 'sload', 'dload', 'sloss', 'dloss',\n",
      "       'sinpkt', 'dinpkt', 'sjit', 'djit', 'swin', 'stcpb', 'dtcpb', 'dwin',\n",
      "       'tcprtt', 'synack', 'ackdat', 'smean', 'dmean', 'trans_depth',\n",
      "       'response_body_len', 'ct_srv_src', 'ct_state_ttl', 'ct_dst_ltm',\n",
      "       'ct_src_dport_ltm', 'ct_dst_sport_ltm', 'ct_dst_src_ltm',\n",
      "       'is_ftp_login', 'ct_ftp_cmd', 'ct_flw_http_mthd', 'ct_src_ltm',\n",
      "       'ct_srv_dst', 'is_sm_ips_ports', 'attack_cat', 'label'],\n",
      "      dtype='object')\n"
     ]
    }
   ],
   "source": [
    "print(df_training.columns, sep=\"\\n\")"
   ]
  },
  {
   "cell_type": "code",
   "execution_count": 23,
   "metadata": {},
   "outputs": [
    {
     "name": "stdout",
     "output_type": "stream",
     "text": [
      "service 13\n",
      "state 9\n",
      "sttl 11\n",
      "dttl 6\n",
      "swin 13\n",
      "dwin 7\n",
      "trans_depth 11\n",
      "ct_state_ttl 5\n",
      "ct_dst_ltm 50\n",
      "ct_src_dport_ltm 47\n",
      "ct_dst_sport_ltm 32\n",
      "is_ftp_login 4\n",
      "ct_ftp_cmd 4\n",
      "ct_flw_http_mthd 11\n",
      "ct_src_ltm 50\n",
      "is_sm_ips_ports 2\n",
      "attack_cat 10\n",
      "label 2\n"
     ]
    }
   ],
   "source": [
    "for col in df_training.columns:\n",
    "    if 50 >=df_training[col].nunique() :\n",
    "        print(col, df_training[col].nunique())"
   ]
  },
  {
   "cell_type": "markdown",
   "metadata": {},
   "source": [
    "# EDA"
   ]
  },
  {
   "cell_type": "code",
   "execution_count": 4,
   "metadata": {},
   "outputs": [
    {
     "name": "stdout",
     "output_type": "stream",
     "text": [
      "<class 'pandas.core.frame.DataFrame'>\n",
      "RangeIndex: 175341 entries, 0 to 175340\n",
      "Data columns (total 45 columns):\n",
      " #   Column             Non-Null Count   Dtype  \n",
      "---  ------             --------------   -----  \n",
      " 0   id                 175341 non-null  int64  \n",
      " 1   dur                175341 non-null  float64\n",
      " 2   proto              175341 non-null  object \n",
      " 3   service            175341 non-null  object \n",
      " 4   state              175341 non-null  object \n",
      " 5   spkts              175341 non-null  int64  \n",
      " 6   dpkts              175341 non-null  int64  \n",
      " 7   sbytes             175341 non-null  int64  \n",
      " 8   dbytes             175341 non-null  int64  \n",
      " 9   rate               175341 non-null  float64\n",
      " 10  sttl               175341 non-null  int64  \n",
      " 11  dttl               175341 non-null  int64  \n",
      " 12  sload              175341 non-null  float64\n",
      " 13  dload              175341 non-null  float64\n",
      " 14  sloss              175341 non-null  int64  \n",
      " 15  dloss              175341 non-null  int64  \n",
      " 16  sinpkt             175341 non-null  float64\n",
      " 17  dinpkt             175341 non-null  float64\n",
      " 18  sjit               175341 non-null  float64\n",
      " 19  djit               175341 non-null  float64\n",
      " 20  swin               175341 non-null  int64  \n",
      " 21  stcpb              175341 non-null  int64  \n",
      " 22  dtcpb              175341 non-null  int64  \n",
      " 23  dwin               175341 non-null  int64  \n",
      " 24  tcprtt             175341 non-null  float64\n",
      " 25  synack             175341 non-null  float64\n",
      " 26  ackdat             175341 non-null  float64\n",
      " 27  smean              175341 non-null  int64  \n",
      " 28  dmean              175341 non-null  int64  \n",
      " 29  trans_depth        175341 non-null  int64  \n",
      " 30  response_body_len  175341 non-null  int64  \n",
      " 31  ct_srv_src         175341 non-null  int64  \n",
      " 32  ct_state_ttl       175341 non-null  int64  \n",
      " 33  ct_dst_ltm         175341 non-null  int64  \n",
      " 34  ct_src_dport_ltm   175341 non-null  int64  \n",
      " 35  ct_dst_sport_ltm   175341 non-null  int64  \n",
      " 36  ct_dst_src_ltm     175341 non-null  int64  \n",
      " 37  is_ftp_login       175341 non-null  int64  \n",
      " 38  ct_ftp_cmd         175341 non-null  int64  \n",
      " 39  ct_flw_http_mthd   175341 non-null  int64  \n",
      " 40  ct_src_ltm         175341 non-null  int64  \n",
      " 41  ct_srv_dst         175341 non-null  int64  \n",
      " 42  is_sm_ips_ports    175341 non-null  int64  \n",
      " 43  attack_cat         175341 non-null  object \n",
      " 44  label              175341 non-null  int64  \n",
      "dtypes: float64(11), int64(30), object(4)\n",
      "memory usage: 60.2+ MB\n"
     ]
    }
   ],
   "source": [
    "df_training.info()"
   ]
  },
  {
   "cell_type": "code",
   "execution_count": 5,
   "metadata": {},
   "outputs": [
    {
     "data": {
      "text/html": [
       "<div>\n",
       "<style scoped>\n",
       "    .dataframe tbody tr th:only-of-type {\n",
       "        vertical-align: middle;\n",
       "    }\n",
       "\n",
       "    .dataframe tbody tr th {\n",
       "        vertical-align: top;\n",
       "    }\n",
       "\n",
       "    .dataframe thead th {\n",
       "        text-align: right;\n",
       "    }\n",
       "</style>\n",
       "<table border=\"1\" class=\"dataframe\">\n",
       "  <thead>\n",
       "    <tr style=\"text-align: right;\">\n",
       "      <th></th>\n",
       "      <th>id</th>\n",
       "      <th>dur</th>\n",
       "      <th>spkts</th>\n",
       "      <th>dpkts</th>\n",
       "      <th>sbytes</th>\n",
       "      <th>dbytes</th>\n",
       "      <th>rate</th>\n",
       "      <th>sttl</th>\n",
       "      <th>dttl</th>\n",
       "      <th>sload</th>\n",
       "      <th>...</th>\n",
       "      <th>ct_src_dport_ltm</th>\n",
       "      <th>ct_dst_sport_ltm</th>\n",
       "      <th>ct_dst_src_ltm</th>\n",
       "      <th>is_ftp_login</th>\n",
       "      <th>ct_ftp_cmd</th>\n",
       "      <th>ct_flw_http_mthd</th>\n",
       "      <th>ct_src_ltm</th>\n",
       "      <th>ct_srv_dst</th>\n",
       "      <th>is_sm_ips_ports</th>\n",
       "      <th>label</th>\n",
       "    </tr>\n",
       "  </thead>\n",
       "  <tbody>\n",
       "    <tr>\n",
       "      <th>count</th>\n",
       "      <td>175341.000000</td>\n",
       "      <td>175341.000000</td>\n",
       "      <td>175341.000000</td>\n",
       "      <td>175341.000000</td>\n",
       "      <td>1.753410e+05</td>\n",
       "      <td>1.753410e+05</td>\n",
       "      <td>1.753410e+05</td>\n",
       "      <td>175341.000000</td>\n",
       "      <td>175341.000000</td>\n",
       "      <td>1.753410e+05</td>\n",
       "      <td>...</td>\n",
       "      <td>175341.000000</td>\n",
       "      <td>175341.000000</td>\n",
       "      <td>175341.000000</td>\n",
       "      <td>175341.000000</td>\n",
       "      <td>175341.000000</td>\n",
       "      <td>175341.000000</td>\n",
       "      <td>175341.000000</td>\n",
       "      <td>175341.000000</td>\n",
       "      <td>175341.000000</td>\n",
       "      <td>175341.000000</td>\n",
       "    </tr>\n",
       "    <tr>\n",
       "      <th>mean</th>\n",
       "      <td>87671.000000</td>\n",
       "      <td>1.359389</td>\n",
       "      <td>20.298664</td>\n",
       "      <td>18.969591</td>\n",
       "      <td>8.844844e+03</td>\n",
       "      <td>1.492892e+04</td>\n",
       "      <td>9.540619e+04</td>\n",
       "      <td>179.546997</td>\n",
       "      <td>79.609567</td>\n",
       "      <td>7.345403e+07</td>\n",
       "      <td>...</td>\n",
       "      <td>5.383538</td>\n",
       "      <td>4.206255</td>\n",
       "      <td>8.729881</td>\n",
       "      <td>0.014948</td>\n",
       "      <td>0.014948</td>\n",
       "      <td>0.133066</td>\n",
       "      <td>6.955789</td>\n",
       "      <td>9.100758</td>\n",
       "      <td>0.015752</td>\n",
       "      <td>0.680622</td>\n",
       "    </tr>\n",
       "    <tr>\n",
       "      <th>std</th>\n",
       "      <td>50616.731112</td>\n",
       "      <td>6.480249</td>\n",
       "      <td>136.887597</td>\n",
       "      <td>110.258271</td>\n",
       "      <td>1.747656e+05</td>\n",
       "      <td>1.436542e+05</td>\n",
       "      <td>1.654010e+05</td>\n",
       "      <td>102.940011</td>\n",
       "      <td>110.506863</td>\n",
       "      <td>1.883574e+08</td>\n",
       "      <td>...</td>\n",
       "      <td>8.047104</td>\n",
       "      <td>5.783585</td>\n",
       "      <td>10.956186</td>\n",
       "      <td>0.126048</td>\n",
       "      <td>0.126048</td>\n",
       "      <td>0.701208</td>\n",
       "      <td>8.321493</td>\n",
       "      <td>10.756952</td>\n",
       "      <td>0.124516</td>\n",
       "      <td>0.466237</td>\n",
       "    </tr>\n",
       "    <tr>\n",
       "      <th>min</th>\n",
       "      <td>1.000000</td>\n",
       "      <td>0.000000</td>\n",
       "      <td>1.000000</td>\n",
       "      <td>0.000000</td>\n",
       "      <td>2.800000e+01</td>\n",
       "      <td>0.000000e+00</td>\n",
       "      <td>0.000000e+00</td>\n",
       "      <td>0.000000</td>\n",
       "      <td>0.000000</td>\n",
       "      <td>0.000000e+00</td>\n",
       "      <td>...</td>\n",
       "      <td>1.000000</td>\n",
       "      <td>1.000000</td>\n",
       "      <td>1.000000</td>\n",
       "      <td>0.000000</td>\n",
       "      <td>0.000000</td>\n",
       "      <td>0.000000</td>\n",
       "      <td>1.000000</td>\n",
       "      <td>1.000000</td>\n",
       "      <td>0.000000</td>\n",
       "      <td>0.000000</td>\n",
       "    </tr>\n",
       "    <tr>\n",
       "      <th>25%</th>\n",
       "      <td>43836.000000</td>\n",
       "      <td>0.000008</td>\n",
       "      <td>2.000000</td>\n",
       "      <td>0.000000</td>\n",
       "      <td>1.140000e+02</td>\n",
       "      <td>0.000000e+00</td>\n",
       "      <td>3.278614e+01</td>\n",
       "      <td>62.000000</td>\n",
       "      <td>0.000000</td>\n",
       "      <td>1.305334e+04</td>\n",
       "      <td>...</td>\n",
       "      <td>1.000000</td>\n",
       "      <td>1.000000</td>\n",
       "      <td>1.000000</td>\n",
       "      <td>0.000000</td>\n",
       "      <td>0.000000</td>\n",
       "      <td>0.000000</td>\n",
       "      <td>2.000000</td>\n",
       "      <td>2.000000</td>\n",
       "      <td>0.000000</td>\n",
       "      <td>0.000000</td>\n",
       "    </tr>\n",
       "    <tr>\n",
       "      <th>50%</th>\n",
       "      <td>87671.000000</td>\n",
       "      <td>0.001582</td>\n",
       "      <td>2.000000</td>\n",
       "      <td>2.000000</td>\n",
       "      <td>4.300000e+02</td>\n",
       "      <td>1.640000e+02</td>\n",
       "      <td>3.225807e+03</td>\n",
       "      <td>254.000000</td>\n",
       "      <td>29.000000</td>\n",
       "      <td>8.796748e+05</td>\n",
       "      <td>...</td>\n",
       "      <td>1.000000</td>\n",
       "      <td>1.000000</td>\n",
       "      <td>3.000000</td>\n",
       "      <td>0.000000</td>\n",
       "      <td>0.000000</td>\n",
       "      <td>0.000000</td>\n",
       "      <td>3.000000</td>\n",
       "      <td>4.000000</td>\n",
       "      <td>0.000000</td>\n",
       "      <td>1.000000</td>\n",
       "    </tr>\n",
       "    <tr>\n",
       "      <th>75%</th>\n",
       "      <td>131506.000000</td>\n",
       "      <td>0.668069</td>\n",
       "      <td>12.000000</td>\n",
       "      <td>10.000000</td>\n",
       "      <td>1.418000e+03</td>\n",
       "      <td>1.102000e+03</td>\n",
       "      <td>1.250000e+05</td>\n",
       "      <td>254.000000</td>\n",
       "      <td>252.000000</td>\n",
       "      <td>8.888889e+07</td>\n",
       "      <td>...</td>\n",
       "      <td>5.000000</td>\n",
       "      <td>3.000000</td>\n",
       "      <td>12.000000</td>\n",
       "      <td>0.000000</td>\n",
       "      <td>0.000000</td>\n",
       "      <td>0.000000</td>\n",
       "      <td>9.000000</td>\n",
       "      <td>12.000000</td>\n",
       "      <td>0.000000</td>\n",
       "      <td>1.000000</td>\n",
       "    </tr>\n",
       "    <tr>\n",
       "      <th>max</th>\n",
       "      <td>175341.000000</td>\n",
       "      <td>59.999989</td>\n",
       "      <td>9616.000000</td>\n",
       "      <td>10974.000000</td>\n",
       "      <td>1.296523e+07</td>\n",
       "      <td>1.465555e+07</td>\n",
       "      <td>1.000000e+06</td>\n",
       "      <td>255.000000</td>\n",
       "      <td>254.000000</td>\n",
       "      <td>5.988000e+09</td>\n",
       "      <td>...</td>\n",
       "      <td>51.000000</td>\n",
       "      <td>46.000000</td>\n",
       "      <td>65.000000</td>\n",
       "      <td>4.000000</td>\n",
       "      <td>4.000000</td>\n",
       "      <td>30.000000</td>\n",
       "      <td>60.000000</td>\n",
       "      <td>62.000000</td>\n",
       "      <td>1.000000</td>\n",
       "      <td>1.000000</td>\n",
       "    </tr>\n",
       "  </tbody>\n",
       "</table>\n",
       "<p>8 rows × 41 columns</p>\n",
       "</div>"
      ],
      "text/plain": [
       "                  id            dur          spkts          dpkts  \\\n",
       "count  175341.000000  175341.000000  175341.000000  175341.000000   \n",
       "mean    87671.000000       1.359389      20.298664      18.969591   \n",
       "std     50616.731112       6.480249     136.887597     110.258271   \n",
       "min         1.000000       0.000000       1.000000       0.000000   \n",
       "25%     43836.000000       0.000008       2.000000       0.000000   \n",
       "50%     87671.000000       0.001582       2.000000       2.000000   \n",
       "75%    131506.000000       0.668069      12.000000      10.000000   \n",
       "max    175341.000000      59.999989    9616.000000   10974.000000   \n",
       "\n",
       "             sbytes        dbytes          rate           sttl           dttl  \\\n",
       "count  1.753410e+05  1.753410e+05  1.753410e+05  175341.000000  175341.000000   \n",
       "mean   8.844844e+03  1.492892e+04  9.540619e+04     179.546997      79.609567   \n",
       "std    1.747656e+05  1.436542e+05  1.654010e+05     102.940011     110.506863   \n",
       "min    2.800000e+01  0.000000e+00  0.000000e+00       0.000000       0.000000   \n",
       "25%    1.140000e+02  0.000000e+00  3.278614e+01      62.000000       0.000000   \n",
       "50%    4.300000e+02  1.640000e+02  3.225807e+03     254.000000      29.000000   \n",
       "75%    1.418000e+03  1.102000e+03  1.250000e+05     254.000000     252.000000   \n",
       "max    1.296523e+07  1.465555e+07  1.000000e+06     255.000000     254.000000   \n",
       "\n",
       "              sload  ...  ct_src_dport_ltm  ct_dst_sport_ltm  ct_dst_src_ltm  \\\n",
       "count  1.753410e+05  ...     175341.000000     175341.000000   175341.000000   \n",
       "mean   7.345403e+07  ...          5.383538          4.206255        8.729881   \n",
       "std    1.883574e+08  ...          8.047104          5.783585       10.956186   \n",
       "min    0.000000e+00  ...          1.000000          1.000000        1.000000   \n",
       "25%    1.305334e+04  ...          1.000000          1.000000        1.000000   \n",
       "50%    8.796748e+05  ...          1.000000          1.000000        3.000000   \n",
       "75%    8.888889e+07  ...          5.000000          3.000000       12.000000   \n",
       "max    5.988000e+09  ...         51.000000         46.000000       65.000000   \n",
       "\n",
       "        is_ftp_login     ct_ftp_cmd  ct_flw_http_mthd     ct_src_ltm  \\\n",
       "count  175341.000000  175341.000000     175341.000000  175341.000000   \n",
       "mean        0.014948       0.014948          0.133066       6.955789   \n",
       "std         0.126048       0.126048          0.701208       8.321493   \n",
       "min         0.000000       0.000000          0.000000       1.000000   \n",
       "25%         0.000000       0.000000          0.000000       2.000000   \n",
       "50%         0.000000       0.000000          0.000000       3.000000   \n",
       "75%         0.000000       0.000000          0.000000       9.000000   \n",
       "max         4.000000       4.000000         30.000000      60.000000   \n",
       "\n",
       "          ct_srv_dst  is_sm_ips_ports          label  \n",
       "count  175341.000000    175341.000000  175341.000000  \n",
       "mean        9.100758         0.015752       0.680622  \n",
       "std        10.756952         0.124516       0.466237  \n",
       "min         1.000000         0.000000       0.000000  \n",
       "25%         2.000000         0.000000       0.000000  \n",
       "50%         4.000000         0.000000       1.000000  \n",
       "75%        12.000000         0.000000       1.000000  \n",
       "max        62.000000         1.000000       1.000000  \n",
       "\n",
       "[8 rows x 41 columns]"
      ]
     },
     "execution_count": 5,
     "metadata": {},
     "output_type": "execute_result"
    }
   ],
   "source": [
    "df_training.describe()\n",
    "# before log transformation"
   ]
  },
  {
   "cell_type": "code",
   "execution_count": null,
   "metadata": {},
   "outputs": [],
   "source": [
    "df_training.describe()\n",
    "# After log transformation"
   ]
  },
  {
   "cell_type": "code",
   "execution_count": null,
   "metadata": {},
   "outputs": [],
   "source": [
    "def plot_normal_distribution(df):\n",
    "    for column in df.columns:\n",
    "        sns.displot(df[column])\n",
    "        plt.show()\n",
    "        \n",
    "plot_normal_distribution(df_training)"
   ]
  },
  {
   "cell_type": "markdown",
   "metadata": {},
   "source": [
    "# Data Preprocessing"
   ]
  },
  {
   "cell_type": "markdown",
   "metadata": {},
   "source": [
    "## Removing columns"
   ]
  },
  {
   "cell_type": "code",
   "execution_count": 25,
   "metadata": {},
   "outputs": [],
   "source": [
    "columns_to_remove = ['proto','state','service','attack_cat']\n",
    "df_training.drop(columns_to_remove, axis=1, inplace=True)\n",
    "df_testing.drop(columns_to_remove, axis=1,inplace=True)\n"
   ]
  },
  {
   "cell_type": "markdown",
   "metadata": {},
   "source": [
    "### Remove columns for multi-class classification"
   ]
  },
  {
   "cell_type": "code",
   "execution_count": 28,
   "metadata": {},
   "outputs": [],
   "source": [
    "columns_to_remove = ['proto','state','service','label']\n",
    "df_training.drop(columns_to_remove, axis=1, inplace=True)\n",
    "df_testing.drop(columns_to_remove, axis=1,inplace=True)"
   ]
  },
  {
   "cell_type": "markdown",
   "metadata": {},
   "source": [
    "## Log Modification"
   ]
  },
  {
   "cell_type": "code",
   "execution_count": 29,
   "metadata": {},
   "outputs": [],
   "source": [
    "for column in df_training.columns:\n",
    "    if column !='label' and df_training[column].nunique() > 50:\n",
    "        df_training[column] = np.log(df_training[column]+1)\n",
    "        df_testing[column] = np.log(df_testing[column]+1)\n",
    "    "
   ]
  },
  {
   "cell_type": "markdown",
   "metadata": {},
   "source": [
    "## Data Standardization"
   ]
  },
  {
   "cell_type": "code",
   "execution_count": 30,
   "metadata": {},
   "outputs": [],
   "source": [
    "standard_scaler = StandardScaler()\n",
    "\n",
    "for column in df_training.columns:\n",
    "    if column != 'label' and column != 'attack_cat':\n",
    "        standard_scaler.fit(df_training[column].values.reshape(-1,1))\n",
    "        df_training[column] = standard_scaler.transform(df_training[column].values.reshape(-1,1))\n",
    "        df_testing[column] = standard_scaler.transform(df_testing[column].values.reshape(-1,1))"
   ]
  },
  {
   "cell_type": "code",
   "execution_count": 31,
   "metadata": {},
   "outputs": [
    {
     "data": {
      "text/html": [
       "<div>\n",
       "<style scoped>\n",
       "    .dataframe tbody tr th:only-of-type {\n",
       "        vertical-align: middle;\n",
       "    }\n",
       "\n",
       "    .dataframe tbody tr th {\n",
       "        vertical-align: top;\n",
       "    }\n",
       "\n",
       "    .dataframe thead th {\n",
       "        text-align: right;\n",
       "    }\n",
       "</style>\n",
       "<table border=\"1\" class=\"dataframe\">\n",
       "  <thead>\n",
       "    <tr style=\"text-align: right;\">\n",
       "      <th></th>\n",
       "      <th>dur</th>\n",
       "      <th>spkts</th>\n",
       "      <th>dpkts</th>\n",
       "      <th>sbytes</th>\n",
       "      <th>dbytes</th>\n",
       "      <th>rate</th>\n",
       "      <th>sttl</th>\n",
       "      <th>dttl</th>\n",
       "      <th>sload</th>\n",
       "      <th>dload</th>\n",
       "      <th>...</th>\n",
       "      <th>ct_dst_ltm</th>\n",
       "      <th>ct_src_dport_ltm</th>\n",
       "      <th>ct_dst_sport_ltm</th>\n",
       "      <th>ct_dst_src_ltm</th>\n",
       "      <th>is_ftp_login</th>\n",
       "      <th>ct_ftp_cmd</th>\n",
       "      <th>ct_flw_http_mthd</th>\n",
       "      <th>ct_src_ltm</th>\n",
       "      <th>ct_srv_dst</th>\n",
       "      <th>is_sm_ips_ports</th>\n",
       "    </tr>\n",
       "  </thead>\n",
       "  <tbody>\n",
       "    <tr>\n",
       "      <th>count</th>\n",
       "      <td>1.753410e+05</td>\n",
       "      <td>1.753410e+05</td>\n",
       "      <td>1.753410e+05</td>\n",
       "      <td>1.753410e+05</td>\n",
       "      <td>1.753410e+05</td>\n",
       "      <td>1.753410e+05</td>\n",
       "      <td>1.753410e+05</td>\n",
       "      <td>1.753410e+05</td>\n",
       "      <td>1.753410e+05</td>\n",
       "      <td>1.753410e+05</td>\n",
       "      <td>...</td>\n",
       "      <td>1.753410e+05</td>\n",
       "      <td>1.753410e+05</td>\n",
       "      <td>1.753410e+05</td>\n",
       "      <td>1.753410e+05</td>\n",
       "      <td>1.753410e+05</td>\n",
       "      <td>1.753410e+05</td>\n",
       "      <td>1.753410e+05</td>\n",
       "      <td>1.753410e+05</td>\n",
       "      <td>1.753410e+05</td>\n",
       "      <td>1.753410e+05</td>\n",
       "    </tr>\n",
       "    <tr>\n",
       "      <th>mean</th>\n",
       "      <td>-2.463828e-17</td>\n",
       "      <td>-2.334152e-16</td>\n",
       "      <td>-1.867322e-16</td>\n",
       "      <td>7.780508e-18</td>\n",
       "      <td>1.945127e-16</td>\n",
       "      <td>-9.855310e-17</td>\n",
       "      <td>-1.607972e-16</td>\n",
       "      <td>-1.141141e-16</td>\n",
       "      <td>2.230412e-16</td>\n",
       "      <td>-2.593503e-17</td>\n",
       "      <td>...</td>\n",
       "      <td>1.115206e-16</td>\n",
       "      <td>9.336610e-17</td>\n",
       "      <td>3.630904e-17</td>\n",
       "      <td>4.460825e-16</td>\n",
       "      <td>-6.483757e-18</td>\n",
       "      <td>-6.483757e-18</td>\n",
       "      <td>-5.187005e-18</td>\n",
       "      <td>3.630904e-17</td>\n",
       "      <td>3.942124e-16</td>\n",
       "      <td>5.576031e-17</td>\n",
       "    </tr>\n",
       "    <tr>\n",
       "      <th>std</th>\n",
       "      <td>1.000003e+00</td>\n",
       "      <td>1.000003e+00</td>\n",
       "      <td>1.000003e+00</td>\n",
       "      <td>1.000003e+00</td>\n",
       "      <td>1.000003e+00</td>\n",
       "      <td>1.000003e+00</td>\n",
       "      <td>1.000003e+00</td>\n",
       "      <td>1.000003e+00</td>\n",
       "      <td>1.000003e+00</td>\n",
       "      <td>1.000003e+00</td>\n",
       "      <td>...</td>\n",
       "      <td>1.000003e+00</td>\n",
       "      <td>1.000003e+00</td>\n",
       "      <td>1.000003e+00</td>\n",
       "      <td>1.000003e+00</td>\n",
       "      <td>1.000003e+00</td>\n",
       "      <td>1.000003e+00</td>\n",
       "      <td>1.000003e+00</td>\n",
       "      <td>1.000003e+00</td>\n",
       "      <td>1.000003e+00</td>\n",
       "      <td>1.000003e+00</td>\n",
       "    </tr>\n",
       "    <tr>\n",
       "      <th>min</th>\n",
       "      <td>-5.172943e-01</td>\n",
       "      <td>-1.162850e+00</td>\n",
       "      <td>-8.966151e-01</td>\n",
       "      <td>-1.763954e+00</td>\n",
       "      <td>-9.665093e-01</td>\n",
       "      <td>-1.891934e+00</td>\n",
       "      <td>-1.744196e+00</td>\n",
       "      <td>-7.204059e-01</td>\n",
       "      <td>-2.985984e+00</td>\n",
       "      <td>-9.692400e-01</td>\n",
       "      <td>...</td>\n",
       "      <td>-6.450129e-01</td>\n",
       "      <td>-5.447364e-01</td>\n",
       "      <td>-5.543732e-01</td>\n",
       "      <td>-1.064936e+00</td>\n",
       "      <td>-1.185902e-01</td>\n",
       "      <td>-1.185902e-01</td>\n",
       "      <td>-1.897681e-01</td>\n",
       "      <td>-7.157137e-01</td>\n",
       "      <td>-1.167162e+00</td>\n",
       "      <td>-1.265080e-01</td>\n",
       "    </tr>\n",
       "    <tr>\n",
       "      <th>25%</th>\n",
       "      <td>-5.172821e-01</td>\n",
       "      <td>-8.085943e-01</td>\n",
       "      <td>-8.966151e-01</td>\n",
       "      <td>-9.319330e-01</td>\n",
       "      <td>-9.665093e-01</td>\n",
       "      <td>-1.044313e+00</td>\n",
       "      <td>-1.141901e+00</td>\n",
       "      <td>-7.204059e-01</td>\n",
       "      <td>-9.544468e-01</td>\n",
       "      <td>-9.692400e-01</td>\n",
       "      <td>...</td>\n",
       "      <td>-6.450129e-01</td>\n",
       "      <td>-5.447364e-01</td>\n",
       "      <td>-5.543732e-01</td>\n",
       "      <td>-1.064936e+00</td>\n",
       "      <td>-1.185902e-01</td>\n",
       "      <td>-1.185902e-01</td>\n",
       "      <td>-1.897681e-01</td>\n",
       "      <td>-5.955426e-01</td>\n",
       "      <td>-7.478987e-01</td>\n",
       "      <td>-1.265080e-01</td>\n",
       "    </tr>\n",
       "    <tr>\n",
       "      <th>50%</th>\n",
       "      <td>-5.148791e-01</td>\n",
       "      <td>-8.085943e-01</td>\n",
       "      <td>-1.888374e-01</td>\n",
       "      <td>-1.340109e-01</td>\n",
       "      <td>3.222099e-01</td>\n",
       "      <td>5.353285e-02</td>\n",
       "      <td>7.232680e-01</td>\n",
       "      <td>-4.579780e-01</td>\n",
       "      <td>-5.186542e-02</td>\n",
       "      <td>2.859528e-01</td>\n",
       "      <td>...</td>\n",
       "      <td>-5.208272e-01</td>\n",
       "      <td>-5.447364e-01</td>\n",
       "      <td>-5.543732e-01</td>\n",
       "      <td>-3.629182e-01</td>\n",
       "      <td>-1.185902e-01</td>\n",
       "      <td>-1.185902e-01</td>\n",
       "      <td>-1.897681e-01</td>\n",
       "      <td>-4.753715e-01</td>\n",
       "      <td>-2.196893e-01</td>\n",
       "      <td>-1.265080e-01</td>\n",
       "    </tr>\n",
       "    <tr>\n",
       "      <th>75%</th>\n",
       "      <td>2.644889e-01</td>\n",
       "      <td>4.725493e-01</td>\n",
       "      <td>6.482218e-01</td>\n",
       "      <td>5.856538e-01</td>\n",
       "      <td>8.017225e-01</td>\n",
       "      <td>9.340900e-01</td>\n",
       "      <td>7.232680e-01</td>\n",
       "      <td>1.560002e+00</td>\n",
       "      <td>9.375684e-01</td>\n",
       "      <td>7.958433e-01</td>\n",
       "      <td>...</td>\n",
       "      <td>1.001016e-01</td>\n",
       "      <td>-4.766180e-02</td>\n",
       "      <td>-2.085659e-01</td>\n",
       "      <td>8.308206e-01</td>\n",
       "      <td>-1.185902e-01</td>\n",
       "      <td>-1.185902e-01</td>\n",
       "      <td>-1.897681e-01</td>\n",
       "      <td>2.456551e-01</td>\n",
       "      <td>7.683391e-01</td>\n",
       "      <td>-1.265080e-01</td>\n",
       "    </tr>\n",
       "    <tr>\n",
       "      <th>max</th>\n",
       "      <td>5.763772e+00</td>\n",
       "      <td>6.244529e+00</td>\n",
       "      <td>5.097057e+00</td>\n",
       "      <td>6.093708e+00</td>\n",
       "      <td>3.198105e+00</td>\n",
       "      <td>1.434814e+00</td>\n",
       "      <td>7.329824e-01</td>\n",
       "      <td>1.578100e+00</td>\n",
       "      <td>1.840084e+00</td>\n",
       "      <td>1.949832e+00</td>\n",
       "      <td>...</td>\n",
       "      <td>5.564275e+00</td>\n",
       "      <td>5.668697e+00</td>\n",
       "      <td>7.226290e+00</td>\n",
       "      <td>2.476318e+00</td>\n",
       "      <td>3.161543e+01</td>\n",
       "      <td>3.161543e+01</td>\n",
       "      <td>4.259369e+01</td>\n",
       "      <td>6.374381e+00</td>\n",
       "      <td>2.400231e+00</td>\n",
       "      <td>7.904641e+00</td>\n",
       "    </tr>\n",
       "  </tbody>\n",
       "</table>\n",
       "<p>8 rows × 39 columns</p>\n",
       "</div>"
      ],
      "text/plain": [
       "                dur         spkts         dpkts        sbytes        dbytes  \\\n",
       "count  1.753410e+05  1.753410e+05  1.753410e+05  1.753410e+05  1.753410e+05   \n",
       "mean  -2.463828e-17 -2.334152e-16 -1.867322e-16  7.780508e-18  1.945127e-16   \n",
       "std    1.000003e+00  1.000003e+00  1.000003e+00  1.000003e+00  1.000003e+00   \n",
       "min   -5.172943e-01 -1.162850e+00 -8.966151e-01 -1.763954e+00 -9.665093e-01   \n",
       "25%   -5.172821e-01 -8.085943e-01 -8.966151e-01 -9.319330e-01 -9.665093e-01   \n",
       "50%   -5.148791e-01 -8.085943e-01 -1.888374e-01 -1.340109e-01  3.222099e-01   \n",
       "75%    2.644889e-01  4.725493e-01  6.482218e-01  5.856538e-01  8.017225e-01   \n",
       "max    5.763772e+00  6.244529e+00  5.097057e+00  6.093708e+00  3.198105e+00   \n",
       "\n",
       "               rate          sttl          dttl         sload         dload  \\\n",
       "count  1.753410e+05  1.753410e+05  1.753410e+05  1.753410e+05  1.753410e+05   \n",
       "mean  -9.855310e-17 -1.607972e-16 -1.141141e-16  2.230412e-16 -2.593503e-17   \n",
       "std    1.000003e+00  1.000003e+00  1.000003e+00  1.000003e+00  1.000003e+00   \n",
       "min   -1.891934e+00 -1.744196e+00 -7.204059e-01 -2.985984e+00 -9.692400e-01   \n",
       "25%   -1.044313e+00 -1.141901e+00 -7.204059e-01 -9.544468e-01 -9.692400e-01   \n",
       "50%    5.353285e-02  7.232680e-01 -4.579780e-01 -5.186542e-02  2.859528e-01   \n",
       "75%    9.340900e-01  7.232680e-01  1.560002e+00  9.375684e-01  7.958433e-01   \n",
       "max    1.434814e+00  7.329824e-01  1.578100e+00  1.840084e+00  1.949832e+00   \n",
       "\n",
       "       ...    ct_dst_ltm  ct_src_dport_ltm  ct_dst_sport_ltm  ct_dst_src_ltm  \\\n",
       "count  ...  1.753410e+05      1.753410e+05      1.753410e+05    1.753410e+05   \n",
       "mean   ...  1.115206e-16      9.336610e-17      3.630904e-17    4.460825e-16   \n",
       "std    ...  1.000003e+00      1.000003e+00      1.000003e+00    1.000003e+00   \n",
       "min    ... -6.450129e-01     -5.447364e-01     -5.543732e-01   -1.064936e+00   \n",
       "25%    ... -6.450129e-01     -5.447364e-01     -5.543732e-01   -1.064936e+00   \n",
       "50%    ... -5.208272e-01     -5.447364e-01     -5.543732e-01   -3.629182e-01   \n",
       "75%    ...  1.001016e-01     -4.766180e-02     -2.085659e-01    8.308206e-01   \n",
       "max    ...  5.564275e+00      5.668697e+00      7.226290e+00    2.476318e+00   \n",
       "\n",
       "       is_ftp_login    ct_ftp_cmd  ct_flw_http_mthd    ct_src_ltm  \\\n",
       "count  1.753410e+05  1.753410e+05      1.753410e+05  1.753410e+05   \n",
       "mean  -6.483757e-18 -6.483757e-18     -5.187005e-18  3.630904e-17   \n",
       "std    1.000003e+00  1.000003e+00      1.000003e+00  1.000003e+00   \n",
       "min   -1.185902e-01 -1.185902e-01     -1.897681e-01 -7.157137e-01   \n",
       "25%   -1.185902e-01 -1.185902e-01     -1.897681e-01 -5.955426e-01   \n",
       "50%   -1.185902e-01 -1.185902e-01     -1.897681e-01 -4.753715e-01   \n",
       "75%   -1.185902e-01 -1.185902e-01     -1.897681e-01  2.456551e-01   \n",
       "max    3.161543e+01  3.161543e+01      4.259369e+01  6.374381e+00   \n",
       "\n",
       "         ct_srv_dst  is_sm_ips_ports  \n",
       "count  1.753410e+05     1.753410e+05  \n",
       "mean   3.942124e-16     5.576031e-17  \n",
       "std    1.000003e+00     1.000003e+00  \n",
       "min   -1.167162e+00    -1.265080e-01  \n",
       "25%   -7.478987e-01    -1.265080e-01  \n",
       "50%   -2.196893e-01    -1.265080e-01  \n",
       "75%    7.683391e-01    -1.265080e-01  \n",
       "max    2.400231e+00     7.904641e+00  \n",
       "\n",
       "[8 rows x 39 columns]"
      ]
     },
     "execution_count": 31,
     "metadata": {},
     "output_type": "execute_result"
    }
   ],
   "source": [
    "# after standardization\n",
    "df_training.describe()"
   ]
  },
  {
   "cell_type": "markdown",
   "metadata": {},
   "source": []
  },
  {
   "cell_type": "markdown",
   "metadata": {},
   "source": [
    "# Train Test Split"
   ]
  },
  {
   "cell_type": "markdown",
   "metadata": {},
   "source": [
    "## Splitting"
   ]
  },
  {
   "cell_type": "code",
   "execution_count": 6,
   "metadata": {},
   "outputs": [],
   "source": [
    "X_train = df_training.drop('label', axis=1)\n",
    "y_train = df_training['label']\n",
    "\n",
    "X_test = df_testing.drop('label', axis=1)\n",
    "y_test = df_testing['label']\n",
    "\n"
   ]
  },
  {
   "cell_type": "markdown",
   "metadata": {},
   "source": [
    "### Spliting for multiclass classification"
   ]
  },
  {
   "cell_type": "code",
   "execution_count": 32,
   "metadata": {},
   "outputs": [],
   "source": [
    "X_train = df_training.drop('attack_cat', axis=1)\n",
    "y_train = df_training['attack_cat']\n",
    "\n",
    "X_test = df_testing.drop('attack_cat', axis=1)\n",
    "y_test = df_testing['attack_cat']"
   ]
  },
  {
   "cell_type": "markdown",
   "metadata": {},
   "source": [
    "### Encoding for multiclass classification"
   ]
  },
  {
   "cell_type": "code",
   "execution_count": 39,
   "metadata": {},
   "outputs": [
    {
     "data": {
      "text/html": [
       "<div>\n",
       "<style scoped>\n",
       "    .dataframe tbody tr th:only-of-type {\n",
       "        vertical-align: middle;\n",
       "    }\n",
       "\n",
       "    .dataframe tbody tr th {\n",
       "        vertical-align: top;\n",
       "    }\n",
       "\n",
       "    .dataframe thead th {\n",
       "        text-align: right;\n",
       "    }\n",
       "</style>\n",
       "<table border=\"1\" class=\"dataframe\">\n",
       "  <thead>\n",
       "    <tr style=\"text-align: right;\">\n",
       "      <th></th>\n",
       "      <th>dur</th>\n",
       "      <th>spkts</th>\n",
       "      <th>dpkts</th>\n",
       "      <th>sbytes</th>\n",
       "      <th>dbytes</th>\n",
       "      <th>rate</th>\n",
       "      <th>sttl</th>\n",
       "      <th>dttl</th>\n",
       "      <th>sload</th>\n",
       "      <th>dload</th>\n",
       "      <th>...</th>\n",
       "      <th>ct_dst_ltm</th>\n",
       "      <th>ct_src_dport_ltm</th>\n",
       "      <th>ct_dst_sport_ltm</th>\n",
       "      <th>ct_dst_src_ltm</th>\n",
       "      <th>is_ftp_login</th>\n",
       "      <th>ct_ftp_cmd</th>\n",
       "      <th>ct_flw_http_mthd</th>\n",
       "      <th>ct_src_ltm</th>\n",
       "      <th>ct_srv_dst</th>\n",
       "      <th>is_sm_ips_ports</th>\n",
       "    </tr>\n",
       "    <tr>\n",
       "      <th>id</th>\n",
       "      <th></th>\n",
       "      <th></th>\n",
       "      <th></th>\n",
       "      <th></th>\n",
       "      <th></th>\n",
       "      <th></th>\n",
       "      <th></th>\n",
       "      <th></th>\n",
       "      <th></th>\n",
       "      <th></th>\n",
       "      <th></th>\n",
       "      <th></th>\n",
       "      <th></th>\n",
       "      <th></th>\n",
       "      <th></th>\n",
       "      <th></th>\n",
       "      <th></th>\n",
       "      <th></th>\n",
       "      <th></th>\n",
       "      <th></th>\n",
       "      <th></th>\n",
       "    </tr>\n",
       "  </thead>\n",
       "  <tbody>\n",
       "    <tr>\n",
       "      <th>1</th>\n",
       "      <td>-0.342123</td>\n",
       "      <td>-0.068307</td>\n",
       "      <td>0.140261</td>\n",
       "      <td>-0.441590</td>\n",
       "      <td>0.334160</td>\n",
       "      <td>-0.852011</td>\n",
       "      <td>0.703839</td>\n",
       "      <td>1.578100</td>\n",
       "      <td>-0.937019</td>\n",
       "      <td>0.591119</td>\n",
       "      <td>...</td>\n",
       "      <td>-0.645013</td>\n",
       "      <td>-0.544736</td>\n",
       "      <td>-0.554373</td>\n",
       "      <td>-1.064936</td>\n",
       "      <td>-0.118590</td>\n",
       "      <td>-0.118590</td>\n",
       "      <td>-0.189768</td>\n",
       "      <td>-0.715714</td>\n",
       "      <td>-1.167162</td>\n",
       "      <td>-0.126508</td>\n",
       "    </tr>\n",
       "    <tr>\n",
       "      <th>2</th>\n",
       "      <td>0.247757</td>\n",
       "      <td>0.597577</td>\n",
       "      <td>1.463624</td>\n",
       "      <td>0.188354</td>\n",
       "      <td>1.720441</td>\n",
       "      <td>-0.838341</td>\n",
       "      <td>-1.141901</td>\n",
       "      <td>1.560002</td>\n",
       "      <td>-1.049058</td>\n",
       "      <td>1.295137</td>\n",
       "      <td>...</td>\n",
       "      <td>-0.645013</td>\n",
       "      <td>-0.544736</td>\n",
       "      <td>-0.554373</td>\n",
       "      <td>-0.654282</td>\n",
       "      <td>-0.118590</td>\n",
       "      <td>-0.118590</td>\n",
       "      <td>-0.189768</td>\n",
       "      <td>-0.715714</td>\n",
       "      <td>0.128233</td>\n",
       "      <td>-0.126508</td>\n",
       "    </tr>\n",
       "    <tr>\n",
       "      <th>3</th>\n",
       "      <td>0.956178</td>\n",
       "      <td>0.151267</td>\n",
       "      <td>0.928674</td>\n",
       "      <td>-0.234394</td>\n",
       "      <td>1.427966</td>\n",
       "      <td>-1.237125</td>\n",
       "      <td>-1.141901</td>\n",
       "      <td>1.560002</td>\n",
       "      <td>-1.408041</td>\n",
       "      <td>0.930891</td>\n",
       "      <td>...</td>\n",
       "      <td>-0.520827</td>\n",
       "      <td>-0.544736</td>\n",
       "      <td>-0.554373</td>\n",
       "      <td>-0.362918</td>\n",
       "      <td>-0.118590</td>\n",
       "      <td>-0.118590</td>\n",
       "      <td>-0.189768</td>\n",
       "      <td>-0.595543</td>\n",
       "      <td>0.128233</td>\n",
       "      <td>-0.126508</td>\n",
       "    </tr>\n",
       "    <tr>\n",
       "      <th>4</th>\n",
       "      <td>0.989886</td>\n",
       "      <td>0.472549</td>\n",
       "      <td>0.755846</td>\n",
       "      <td>0.094296</td>\n",
       "      <td>0.711339</td>\n",
       "      <td>-1.245081</td>\n",
       "      <td>-1.141901</td>\n",
       "      <td>1.560002</td>\n",
       "      <td>-1.289018</td>\n",
       "      <td>0.431105</td>\n",
       "      <td>...</td>\n",
       "      <td>-0.520827</td>\n",
       "      <td>-0.544736</td>\n",
       "      <td>-0.554373</td>\n",
       "      <td>-0.362918</td>\n",
       "      <td>7.814915</td>\n",
       "      <td>7.814915</td>\n",
       "      <td>-0.189768</td>\n",
       "      <td>-0.595543</td>\n",
       "      <td>-1.167162</td>\n",
       "      <td>-0.126508</td>\n",
       "    </tr>\n",
       "    <tr>\n",
       "      <th>5</th>\n",
       "      <td>0.049848</td>\n",
       "      <td>0.326594</td>\n",
       "      <td>0.357032</td>\n",
       "      <td>-0.003462</td>\n",
       "      <td>0.445572</td>\n",
       "      <td>-1.040160</td>\n",
       "      <td>0.723268</td>\n",
       "      <td>1.560002</td>\n",
       "      <td>-1.044852</td>\n",
       "      <td>0.460678</td>\n",
       "      <td>...</td>\n",
       "      <td>-0.520827</td>\n",
       "      <td>-0.420468</td>\n",
       "      <td>-0.554373</td>\n",
       "      <td>1.994143</td>\n",
       "      <td>-0.118590</td>\n",
       "      <td>-0.118590</td>\n",
       "      <td>-0.189768</td>\n",
       "      <td>-0.595543</td>\n",
       "      <td>1.930517</td>\n",
       "      <td>-0.126508</td>\n",
       "    </tr>\n",
       "  </tbody>\n",
       "</table>\n",
       "<p>5 rows × 39 columns</p>\n",
       "</div>"
      ],
      "text/plain": [
       "         dur     spkts     dpkts    sbytes    dbytes      rate      sttl  \\\n",
       "id                                                                         \n",
       "1  -0.342123 -0.068307  0.140261 -0.441590  0.334160 -0.852011  0.703839   \n",
       "2   0.247757  0.597577  1.463624  0.188354  1.720441 -0.838341 -1.141901   \n",
       "3   0.956178  0.151267  0.928674 -0.234394  1.427966 -1.237125 -1.141901   \n",
       "4   0.989886  0.472549  0.755846  0.094296  0.711339 -1.245081 -1.141901   \n",
       "5   0.049848  0.326594  0.357032 -0.003462  0.445572 -1.040160  0.723268   \n",
       "\n",
       "        dttl     sload     dload  ...  ct_dst_ltm  ct_src_dport_ltm  \\\n",
       "id                                ...                                 \n",
       "1   1.578100 -0.937019  0.591119  ...   -0.645013         -0.544736   \n",
       "2   1.560002 -1.049058  1.295137  ...   -0.645013         -0.544736   \n",
       "3   1.560002 -1.408041  0.930891  ...   -0.520827         -0.544736   \n",
       "4   1.560002 -1.289018  0.431105  ...   -0.520827         -0.544736   \n",
       "5   1.560002 -1.044852  0.460678  ...   -0.520827         -0.420468   \n",
       "\n",
       "    ct_dst_sport_ltm  ct_dst_src_ltm  is_ftp_login  ct_ftp_cmd  \\\n",
       "id                                                               \n",
       "1          -0.554373       -1.064936     -0.118590   -0.118590   \n",
       "2          -0.554373       -0.654282     -0.118590   -0.118590   \n",
       "3          -0.554373       -0.362918     -0.118590   -0.118590   \n",
       "4          -0.554373       -0.362918      7.814915    7.814915   \n",
       "5          -0.554373        1.994143     -0.118590   -0.118590   \n",
       "\n",
       "    ct_flw_http_mthd  ct_src_ltm  ct_srv_dst  is_sm_ips_ports  \n",
       "id                                                             \n",
       "1          -0.189768   -0.715714   -1.167162        -0.126508  \n",
       "2          -0.189768   -0.715714    0.128233        -0.126508  \n",
       "3          -0.189768   -0.595543    0.128233        -0.126508  \n",
       "4          -0.189768   -0.595543   -1.167162        -0.126508  \n",
       "5          -0.189768   -0.595543    1.930517        -0.126508  \n",
       "\n",
       "[5 rows x 39 columns]"
      ]
     },
     "execution_count": 39,
     "metadata": {},
     "output_type": "execute_result"
    }
   ],
   "source": [
    "X_train.head()"
   ]
  },
  {
   "cell_type": "code",
   "execution_count": 87,
   "metadata": {},
   "outputs": [
    {
     "data": {
      "text/plain": [
       "array([6, 3, 5, 4, 5, 5, 3, 3, 7, 5, 6, 2, 4, 4, 6, 6, 6, 5, 3, 3, 4, 3,\n",
       "       6, 5, 3, 6, 6, 5, 4, 4, 2, 7, 3, 6, 6, 6, 6, 3, 0, 6, 4, 6, 3, 7,\n",
       "       5, 0, 6, 6, 6, 6])"
      ]
     },
     "execution_count": 87,
     "metadata": {},
     "output_type": "execute_result"
    }
   ],
   "source": [
    "y_train[:50]"
   ]
  },
  {
   "cell_type": "code",
   "execution_count": 37,
   "metadata": {},
   "outputs": [],
   "source": [
    "# encode attack_cat using label encoder\n",
    "from sklearn.preprocessing import LabelEncoder\n",
    "labelencoder_y = LabelEncoder()\n",
    "y_train = labelencoder_y.fit_transform(y_train)\n",
    "y_test = labelencoder_y.transform(y_test)\n",
    "\n",
    "\n",
    "# y_train = pd.get_dummies(y_train)\n",
    "# y_test = pd.get_dummies(y_test)\n"
   ]
  },
  {
   "cell_type": "code",
   "execution_count": 50,
   "metadata": {},
   "outputs": [
    {
     "name": "stdout",
     "output_type": "stream",
     "text": [
      "{6: 44831, 0: 1607, 3: 26621, 2: 9894, 5: 31921, 7: 8393, 4: 14614, 8: 900, 1: 1386, 9: 105}\n"
     ]
    }
   ],
   "source": [
    "f={}\n",
    "for i in range(len(y_train)):\n",
    "    if y_train[i] not in f:\n",
    "        f[y_train[i]]=1\n",
    "    else:\n",
    "        f[y_train[i]]+=1\n",
    "print(f)"
   ]
  },
  {
   "cell_type": "code",
   "execution_count": 52,
   "metadata": {},
   "outputs": [
    {
     "name": "stdout",
     "output_type": "stream",
     "text": [
      "{0: 27.897324206596142, 1: 32.34559884559884, 2: 4.5311299777643015, 3: 1.6840464295105368, 4: 3.0676748323525387, 5: 1.40443595125466, 6: 1.0, 7: 5.341475038722745, 8: 49.812222222222225, 9: 426.96190476190475}\n"
     ]
    }
   ],
   "source": [
    "# Calculate class weights to handle class imbalance\n",
    "class_counts = np.bincount(y_train)\n",
    "class_weights = dict(enumerate((max(class_counts) / class_counts).astype(float)))\n",
    "print(class_weights)\n"
   ]
  },
  {
   "cell_type": "markdown",
   "metadata": {},
   "source": [
    "### Random Oversampling for multiclass classification"
   ]
  },
  {
   "cell_type": "code",
   "execution_count": 51,
   "metadata": {},
   "outputs": [],
   "source": [
    "from imblearn.over_sampling import RandomOverSampler\n",
    "\n",
    "# Create a RandomOverSampler object\n",
    "oversampler = RandomOverSampler()\n",
    "\n",
    "# Fit and transform the data\n",
    "X_train_oversampled, y_train_oversampled = oversampler.fit_resample(X_train, y_train)\n"
   ]
  },
  {
   "cell_type": "code",
   "execution_count": null,
   "metadata": {},
   "outputs": [],
   "source": [
    "X_train, y_train = X_train_oversampled, y_train_oversampled"
   ]
  },
  {
   "cell_type": "code",
   "execution_count": null,
   "metadata": {},
   "outputs": [],
   "source": [
    "X_train.shape,y_train.shape,X_test.shape,y_test.shape"
   ]
  },
  {
   "cell_type": "markdown",
   "metadata": {},
   "source": [
    "## Validation split"
   ]
  },
  {
   "cell_type": "code",
   "execution_count": 53,
   "metadata": {},
   "outputs": [],
   "source": [
    "X_train,X_val,y_train,y_val = train_test_split(X_train,y_train,test_size=0.2,random_state=42)"
   ]
  },
  {
   "cell_type": "code",
   "execution_count": 54,
   "metadata": {},
   "outputs": [
    {
     "data": {
      "text/plain": [
       "((112217, 39), (112217,), (28055, 39), (28055,))"
      ]
     },
     "execution_count": 54,
     "metadata": {},
     "output_type": "execute_result"
    }
   ],
   "source": [
    "X_train.shape,y_train.shape,X_val.shape,y_val.shape"
   ]
  },
  {
   "cell_type": "code",
   "execution_count": 65,
   "metadata": {},
   "outputs": [
    {
     "name": "stderr",
     "output_type": "stream",
     "text": [
      "[Parallel(n_jobs=50)]: Using backend ThreadingBackend with 50 concurrent workers.\n",
      "[Parallel(n_jobs=50)]: Done 100 out of 100 | elapsed:    0.9s finished\n"
     ]
    },
    {
     "data": {
      "text/html": [
       "<style>#sk-container-id-3 {color: black;}#sk-container-id-3 pre{padding: 0;}#sk-container-id-3 div.sk-toggleable {background-color: white;}#sk-container-id-3 label.sk-toggleable__label {cursor: pointer;display: block;width: 100%;margin-bottom: 0;padding: 0.3em;box-sizing: border-box;text-align: center;}#sk-container-id-3 label.sk-toggleable__label-arrow:before {content: \"▸\";float: left;margin-right: 0.25em;color: #696969;}#sk-container-id-3 label.sk-toggleable__label-arrow:hover:before {color: black;}#sk-container-id-3 div.sk-estimator:hover label.sk-toggleable__label-arrow:before {color: black;}#sk-container-id-3 div.sk-toggleable__content {max-height: 0;max-width: 0;overflow: hidden;text-align: left;background-color: #f0f8ff;}#sk-container-id-3 div.sk-toggleable__content pre {margin: 0.2em;color: black;border-radius: 0.25em;background-color: #f0f8ff;}#sk-container-id-3 input.sk-toggleable__control:checked~div.sk-toggleable__content {max-height: 200px;max-width: 100%;overflow: auto;}#sk-container-id-3 input.sk-toggleable__control:checked~label.sk-toggleable__label-arrow:before {content: \"▾\";}#sk-container-id-3 div.sk-estimator input.sk-toggleable__control:checked~label.sk-toggleable__label {background-color: #d4ebff;}#sk-container-id-3 div.sk-label input.sk-toggleable__control:checked~label.sk-toggleable__label {background-color: #d4ebff;}#sk-container-id-3 input.sk-hidden--visually {border: 0;clip: rect(1px 1px 1px 1px);clip: rect(1px, 1px, 1px, 1px);height: 1px;margin: -1px;overflow: hidden;padding: 0;position: absolute;width: 1px;}#sk-container-id-3 div.sk-estimator {font-family: monospace;background-color: #f0f8ff;border: 1px dotted black;border-radius: 0.25em;box-sizing: border-box;margin-bottom: 0.5em;}#sk-container-id-3 div.sk-estimator:hover {background-color: #d4ebff;}#sk-container-id-3 div.sk-parallel-item::after {content: \"\";width: 100%;border-bottom: 1px solid gray;flex-grow: 1;}#sk-container-id-3 div.sk-label:hover label.sk-toggleable__label {background-color: #d4ebff;}#sk-container-id-3 div.sk-serial::before {content: \"\";position: absolute;border-left: 1px solid gray;box-sizing: border-box;top: 0;bottom: 0;left: 50%;z-index: 0;}#sk-container-id-3 div.sk-serial {display: flex;flex-direction: column;align-items: center;background-color: white;padding-right: 0.2em;padding-left: 0.2em;position: relative;}#sk-container-id-3 div.sk-item {position: relative;z-index: 1;}#sk-container-id-3 div.sk-parallel {display: flex;align-items: stretch;justify-content: center;background-color: white;position: relative;}#sk-container-id-3 div.sk-item::before, #sk-container-id-3 div.sk-parallel-item::before {content: \"\";position: absolute;border-left: 1px solid gray;box-sizing: border-box;top: 0;bottom: 0;left: 50%;z-index: -1;}#sk-container-id-3 div.sk-parallel-item {display: flex;flex-direction: column;z-index: 1;position: relative;background-color: white;}#sk-container-id-3 div.sk-parallel-item:first-child::after {align-self: flex-end;width: 50%;}#sk-container-id-3 div.sk-parallel-item:last-child::after {align-self: flex-start;width: 50%;}#sk-container-id-3 div.sk-parallel-item:only-child::after {width: 0;}#sk-container-id-3 div.sk-dashed-wrapped {border: 1px dashed gray;margin: 0 0.4em 0.5em 0.4em;box-sizing: border-box;padding-bottom: 0.4em;background-color: white;}#sk-container-id-3 div.sk-label label {font-family: monospace;font-weight: bold;display: inline-block;line-height: 1.2em;}#sk-container-id-3 div.sk-label-container {text-align: center;}#sk-container-id-3 div.sk-container {/* jupyter's `normalize.less` sets `[hidden] { display: none; }` but bootstrap.min.css set `[hidden] { display: none !important; }` so we also need the `!important` here to be able to override the default hidden behavior on the sphinx rendered scikit-learn.org. See: https://github.com/scikit-learn/scikit-learn/issues/21755 */display: inline-block !important;position: relative;}#sk-container-id-3 div.sk-text-repr-fallback {display: none;}</style><div id=\"sk-container-id-3\" class=\"sk-top-container\"><div class=\"sk-text-repr-fallback\"><pre>RandomForestClassifier(criterion=&#x27;entropy&#x27;, n_jobs=50, random_state=42,\n",
       "                       verbose=1)</pre><b>In a Jupyter environment, please rerun this cell to show the HTML representation or trust the notebook. <br />On GitHub, the HTML representation is unable to render, please try loading this page with nbviewer.org.</b></div><div class=\"sk-container\" hidden><div class=\"sk-item\"><div class=\"sk-estimator sk-toggleable\"><input class=\"sk-toggleable__control sk-hidden--visually\" id=\"sk-estimator-id-3\" type=\"checkbox\" checked><label for=\"sk-estimator-id-3\" class=\"sk-toggleable__label sk-toggleable__label-arrow\">RandomForestClassifier</label><div class=\"sk-toggleable__content\"><pre>RandomForestClassifier(criterion=&#x27;entropy&#x27;, n_jobs=50, random_state=42,\n",
       "                       verbose=1)</pre></div></div></div></div></div>"
      ],
      "text/plain": [
       "RandomForestClassifier(criterion='entropy', n_jobs=50, random_state=42,\n",
       "                       verbose=1)"
      ]
     },
     "execution_count": 65,
     "metadata": {},
     "output_type": "execute_result"
    }
   ],
   "source": [
    "from sklearn.ensemble import RandomForestClassifier\n",
    "\n",
    "# Fit a Random Forest model using class weights\n",
    "rf = RandomForestClassifier(n_estimators=100, n_jobs=50, random_state=42, verbose=1, criterion='entropy',warm_start=False)\n",
    "rf.fit(X_train, y_train)\n",
    "\n"
   ]
  },
  {
   "cell_type": "code",
   "execution_count": 66,
   "metadata": {},
   "outputs": [
    {
     "name": "stderr",
     "output_type": "stream",
     "text": [
      "[Parallel(n_jobs=50)]: Using backend ThreadingBackend with 50 concurrent workers.\n"
     ]
    },
    {
     "name": "stdout",
     "output_type": "stream",
     "text": [
      "Accuracy: 0.7495263081183501\n"
     ]
    },
    {
     "name": "stderr",
     "output_type": "stream",
     "text": [
      "[Parallel(n_jobs=50)]: Done 100 out of 100 | elapsed:    0.2s finished\n"
     ]
    }
   ],
   "source": [
    "y_pred = rf.predict(X_test)\n",
    "accuracy = accuracy_score(y_test, y_pred)\n",
    "print(\"Accuracy:\", accuracy)\n"
   ]
  },
  {
   "cell_type": "code",
   "execution_count": 67,
   "metadata": {},
   "outputs": [
    {
     "name": "stdout",
     "output_type": "stream",
     "text": [
      "              precision    recall  f1-score   support\n",
      "\n",
      "           0       0.01      0.01      0.01       677\n",
      "           1       0.10      0.21      0.14       583\n",
      "           2       0.37      0.08      0.13      4089\n",
      "           3       0.56      0.83      0.67     11132\n",
      "           4       0.27      0.53      0.36      6062\n",
      "           5       0.99      0.97      0.98     18871\n",
      "           6       0.96      0.74      0.84     37000\n",
      "           7       0.84      0.80      0.82      3496\n",
      "           8       0.28      0.61      0.39       378\n",
      "           9       0.56      0.68      0.61        44\n",
      "\n",
      "    accuracy                           0.75     82332\n",
      "   macro avg       0.49      0.55      0.49     82332\n",
      "weighted avg       0.81      0.75      0.76     82332\n",
      "\n"
     ]
    },
    {
     "data": {
      "image/png": "[encoded data removed]",
      "text/plain": [
       "<Figure size 1000x1000 with 2 Axes>"
      ]
     },
     "metadata": {},
     "output_type": "display_data"
    }
   ],
   "source": [
    "print(classification_report(y_test, y_pred))\n",
    "# plot confusion matrix\n",
    "cm = confusion_matrix(y_test, y_pred)\n",
    "plt.figure(figsize=(10,10))\n",
    "sns.heatmap(cm, annot=True, fmt=\".0f\", linewidths=.5, square = True, cmap = 'Blues_r');\n",
    "plt.ylabel('Actual label');\n",
    "plt.xlabel('Predicted label');\n"
   ]
  },
  {
   "cell_type": "code",
   "execution_count": 68,
   "metadata": {},
   "outputs": [],
   "source": [
    "\n",
    "# Get feature importances\n",
    "feature_importances = rf.feature_importances_"
   ]
  },
  {
   "cell_type": "code",
   "execution_count": 44,
   "metadata": {},
   "outputs": [
    {
     "data": {
      "text/plain": [
       "array([2.53301689e-02, 9.38280637e-03, 1.49808360e-02, 4.24626549e-02,\n",
       "       3.48146291e-02, 4.63444468e-02, 1.47269875e-01, 5.25307784e-02,\n",
       "       4.84680088e-02, 6.67049909e-02, 1.18438815e-02, 8.80576954e-03,\n",
       "       2.82458444e-02, 3.22511137e-02, 1.40812990e-02, 1.09714324e-02,\n",
       "       8.03620835e-03, 8.42620438e-03, 8.05522186e-03, 2.33623927e-04,\n",
       "       2.57836069e-02, 2.18951245e-02, 2.04871041e-02, 4.02369029e-02,\n",
       "       3.05743252e-02, 1.66711928e-03, 1.58309908e-03, 2.61853875e-02,\n",
       "       1.03636426e-01, 9.82160136e-03, 8.54517308e-03, 1.94236262e-02,\n",
       "       2.60861343e-02, 7.61478011e-05, 7.49643097e-05, 1.84389046e-03,\n",
       "       8.93104287e-03, 2.86061618e-02, 5.30236777e-03])"
      ]
     },
     "execution_count": 44,
     "metadata": {},
     "output_type": "execute_result"
    }
   ],
   "source": [
    "feature_importances"
   ]
  },
  {
   "cell_type": "code",
   "execution_count": 69,
   "metadata": {},
   "outputs": [],
   "source": [
    "feature_importances = pd.DataFrame({'feature': X_train.columns, 'importance': feature_importances}).sort_values('importance', ascending = False)\n"
   ]
  },
  {
   "cell_type": "code",
   "execution_count": 70,
   "metadata": {},
   "outputs": [
    {
     "data": {
      "image/png": "[encoded data removed]",
      "text/plain": [
       "<Figure size 800x600 with 1 Axes>"
      ]
     },
     "metadata": {},
     "output_type": "display_data"
    }
   ],
   "source": [
    "# plot feature importances\n",
    "plt.figure(figsize = (8, 6))\n",
    "sns.barplot(x = 'importance', y = 'feature', data = feature_importances)\n",
    "plt.title('Feature Importances')\n",
    "plt.show()\n"
   ]
  },
  {
   "cell_type": "code",
   "execution_count": 61,
   "metadata": {},
   "outputs": [],
   "source": [
    "# select features with importance greater than 0.01\n",
    "selected_features = feature_importances[feature_importances['importance'] > 0.05]['feature'].values\n"
   ]
  },
  {
   "cell_type": "code",
   "execution_count": 62,
   "metadata": {},
   "outputs": [
    {
     "data": {
      "text/plain": [
       "(7, 39)"
      ]
     },
     "execution_count": 62,
     "metadata": {},
     "output_type": "execute_result"
    }
   ],
   "source": [
    "# total number of features selected vs total number of features\n",
    "len(selected_features), X_train.shape[1]"
   ]
  },
  {
   "cell_type": "code",
   "execution_count": 63,
   "metadata": {},
   "outputs": [],
   "source": [
    "# new training and testing data with selected features\n",
    "X_train = X_train[selected_features]\n",
    "X_test = X_test[selected_features]\n",
    "X_val = X_val[selected_features]"
   ]
  },
  {
   "cell_type": "code",
   "execution_count": 64,
   "metadata": {},
   "outputs": [
    {
     "data": {
      "text/plain": [
       "((112217, 7), (82332, 7), (28055, 7), (112217,), (82332,), (28055,))"
      ]
     },
     "execution_count": 64,
     "metadata": {},
     "output_type": "execute_result"
    }
   ],
   "source": [
    "X_train.shape,X_test.shape,X_val.shape,y_train.shape,y_test.shape,y_val.shape"
   ]
  },
  {
   "cell_type": "markdown",
   "metadata": {},
   "source": [
    "# Model ANN"
   ]
  },
  {
   "cell_type": "markdown",
   "metadata": {},
   "source": [
    "## Model"
   ]
  },
  {
   "cell_type": "code",
   "execution_count": 73,
   "metadata": {},
   "outputs": [],
   "source": [
    "def get_model_ann():\n",
    "  model = Sequential()\n",
    "  model.add(Dense(50, input_dim=X_train.shape[1], activation='relu'))\n",
    "  model.add(Dense(25, activation='relu'))\n",
    "  model.add(Dense(1, activation='sigmoid'))\n",
    "  \n",
    "  model.compile(loss='binary_crossentropy', optimizer='adam', metrics=['accuracy'])\n",
    "  return model\n",
    "\n",
    "def get_model_ann_multiclass():\n",
    "  model = Sequential()\n",
    "  model.add(Dense(50, input_dim=X_train.shape[1], activation='relu'))\n",
    "  model.add(Dense(25, activation='relu'))\n",
    "  model.add(Dense(10, activation='softmax'))\n",
    "  \n",
    "  model.compile(loss='sparse_categorical_crossentropy', optimizer='adam', metrics=['accuracy'])\n",
    "  return model\n",
    "\n",
    "# model_ann = get_model_ann()  \n",
    "model_ann = get_model_ann_multiclass()"
   ]
  },
  {
   "cell_type": "markdown",
   "metadata": {},
   "source": [
    "## Train"
   ]
  },
  {
   "cell_type": "code",
   "execution_count": 75,
   "metadata": {},
   "outputs": [
    {
     "name": "stdout",
     "output_type": "stream",
     "text": [
      "Epoch 1/50\n"
     ]
    },
    {
     "name": "stderr",
     "output_type": "stream",
     "text": [
      "2023-11-08 05:11:50.599790: I tensorflow/compiler/xla/service/service.cc:168] XLA service 0x7f2b50a0b550 initialized for platform CUDA (this does not guarantee that XLA will be used). Devices:\n",
      "2023-11-08 05:11:50.599853: I tensorflow/compiler/xla/service/service.cc:176]   StreamExecutor device (0): Tesla T4, Compute Capability 7.5\n",
      "2023-11-08 05:11:50.599867: I tensorflow/compiler/xla/service/service.cc:176]   StreamExecutor device (1): Tesla T4, Compute Capability 7.5\n",
      "2023-11-08 05:11:50.599877: I tensorflow/compiler/xla/service/service.cc:176]   StreamExecutor device (2): Tesla T4, Compute Capability 7.5\n",
      "2023-11-08 05:11:50.609014: I tensorflow/compiler/mlir/tensorflow/utils/dump_mlir_util.cc:255] disabling MLIR crash reproducer, set env var `MLIR_CRASH_REPRODUCER_DIRECTORY` to enable.\n",
      "2023-11-08 05:11:50.772409: I tensorflow/compiler/xla/stream_executor/cuda/cuda_dnn.cc:432] Loaded cuDNN version 8600\n",
      "2023-11-08 05:11:50.932157: I ./tensorflow/compiler/jit/device_compiler.h:186] Compiled cluster using XLA!  This line is logged at most once for the lifetime of the process.\n"
     ]
    },
    {
     "name": "stdout",
     "output_type": "stream",
     "text": [
      "439/439 [==============================] - 4s 5ms/step - loss: 0.9819 - accuracy: 0.6655 - val_loss: 0.7284 - val_accuracy: 0.7479\n",
      "Epoch 2/50\n",
      "439/439 [==============================] - 2s 5ms/step - loss: 0.6802 - accuracy: 0.7598 - val_loss: 0.6695 - val_accuracy: 0.7627\n",
      "Epoch 3/50\n",
      "439/439 [==============================] - 2s 5ms/step - loss: 0.6424 - accuracy: 0.7697 - val_loss: 0.6467 - val_accuracy: 0.7683\n",
      "Epoch 4/50\n",
      "439/439 [==============================] - 2s 5ms/step - loss: 0.6211 - accuracy: 0.7743 - val_loss: 0.6302 - val_accuracy: 0.7690\n",
      "Epoch 5/50\n",
      "439/439 [==============================] - 2s 5ms/step - loss: 0.6056 - accuracy: 0.7755 - val_loss: 0.6160 - val_accuracy: 0.7731\n",
      "Epoch 6/50\n",
      "439/439 [==============================] - 2s 5ms/step - loss: 0.5943 - accuracy: 0.7776 - val_loss: 0.6052 - val_accuracy: 0.7738\n",
      "Epoch 7/50\n",
      "439/439 [==============================] - 2s 5ms/step - loss: 0.5858 - accuracy: 0.7797 - val_loss: 0.5980 - val_accuracy: 0.7750\n",
      "Epoch 8/50\n",
      "439/439 [==============================] - 2s 5ms/step - loss: 0.5785 - accuracy: 0.7825 - val_loss: 0.5938 - val_accuracy: 0.7779\n",
      "Epoch 9/50\n",
      "439/439 [==============================] - 2s 5ms/step - loss: 0.5731 - accuracy: 0.7832 - val_loss: 0.5874 - val_accuracy: 0.7790\n",
      "Epoch 10/50\n",
      "439/439 [==============================] - 2s 5ms/step - loss: 0.5685 - accuracy: 0.7840 - val_loss: 0.5825 - val_accuracy: 0.7797\n",
      "Epoch 11/50\n",
      "439/439 [==============================] - 2s 5ms/step - loss: 0.5644 - accuracy: 0.7849 - val_loss: 0.5791 - val_accuracy: 0.7801\n",
      "Epoch 12/50\n",
      "439/439 [==============================] - 2s 5ms/step - loss: 0.5610 - accuracy: 0.7865 - val_loss: 0.5772 - val_accuracy: 0.7819\n",
      "Epoch 13/50\n",
      "439/439 [==============================] - 2s 5ms/step - loss: 0.5582 - accuracy: 0.7871 - val_loss: 0.5739 - val_accuracy: 0.7818\n",
      "Epoch 14/50\n",
      "439/439 [==============================] - 2s 5ms/step - loss: 0.5560 - accuracy: 0.7868 - val_loss: 0.5713 - val_accuracy: 0.7804\n",
      "Epoch 15/50\n",
      "439/439 [==============================] - 2s 5ms/step - loss: 0.5536 - accuracy: 0.7875 - val_loss: 0.5683 - val_accuracy: 0.7820\n",
      "Epoch 16/50\n",
      "439/439 [==============================] - 2s 5ms/step - loss: 0.5521 - accuracy: 0.7880 - val_loss: 0.5666 - val_accuracy: 0.7836\n",
      "Epoch 17/50\n",
      "439/439 [==============================] - 2s 5ms/step - loss: 0.5501 - accuracy: 0.7889 - val_loss: 0.5655 - val_accuracy: 0.7821\n",
      "Epoch 18/50\n",
      "439/439 [==============================] - 2s 5ms/step - loss: 0.5486 - accuracy: 0.7893 - val_loss: 0.5656 - val_accuracy: 0.7837\n",
      "Epoch 19/50\n",
      "439/439 [==============================] - 2s 5ms/step - loss: 0.5475 - accuracy: 0.7892 - val_loss: 0.5639 - val_accuracy: 0.7824\n",
      "Epoch 20/50\n",
      "439/439 [==============================] - 2s 5ms/step - loss: 0.5458 - accuracy: 0.7902 - val_loss: 0.5622 - val_accuracy: 0.7840\n",
      "Epoch 21/50\n",
      "439/439 [==============================] - 2s 5ms/step - loss: 0.5445 - accuracy: 0.7895 - val_loss: 0.5610 - val_accuracy: 0.7834\n",
      "Epoch 22/50\n",
      "439/439 [==============================] - 2s 5ms/step - loss: 0.5433 - accuracy: 0.7906 - val_loss: 0.5608 - val_accuracy: 0.7848\n",
      "Epoch 23/50\n",
      "439/439 [==============================] - 2s 5ms/step - loss: 0.5422 - accuracy: 0.7902 - val_loss: 0.5590 - val_accuracy: 0.7866\n",
      "Epoch 24/50\n",
      "439/439 [==============================] - 2s 5ms/step - loss: 0.5410 - accuracy: 0.7907 - val_loss: 0.5582 - val_accuracy: 0.7856\n",
      "Epoch 25/50\n",
      "439/439 [==============================] - 2s 5ms/step - loss: 0.5400 - accuracy: 0.7911 - val_loss: 0.5571 - val_accuracy: 0.7826\n",
      "Epoch 26/50\n",
      "439/439 [==============================] - 2s 6ms/step - loss: 0.5393 - accuracy: 0.7916 - val_loss: 0.5558 - val_accuracy: 0.7829\n",
      "Epoch 27/50\n",
      "439/439 [==============================] - 2s 5ms/step - loss: 0.5381 - accuracy: 0.7914 - val_loss: 0.5551 - val_accuracy: 0.7846\n",
      "Epoch 28/50\n",
      "439/439 [==============================] - 2s 5ms/step - loss: 0.5376 - accuracy: 0.7917 - val_loss: 0.5546 - val_accuracy: 0.7837\n",
      "Epoch 29/50\n",
      "439/439 [==============================] - 2s 5ms/step - loss: 0.5365 - accuracy: 0.7923 - val_loss: 0.5542 - val_accuracy: 0.7859\n",
      "Epoch 30/50\n",
      "439/439 [==============================] - 2s 5ms/step - loss: 0.5355 - accuracy: 0.7917 - val_loss: 0.5523 - val_accuracy: 0.7863\n",
      "Epoch 31/50\n",
      "439/439 [==============================] - 2s 5ms/step - loss: 0.5348 - accuracy: 0.7924 - val_loss: 0.5537 - val_accuracy: 0.7854\n",
      "Epoch 32/50\n",
      "439/439 [==============================] - 2s 5ms/step - loss: 0.5338 - accuracy: 0.7930 - val_loss: 0.5512 - val_accuracy: 0.7841\n",
      "Epoch 33/50\n",
      "439/439 [==============================] - 2s 5ms/step - loss: 0.5335 - accuracy: 0.7930 - val_loss: 0.5515 - val_accuracy: 0.7868\n",
      "Epoch 34/50\n",
      "439/439 [==============================] - 2s 5ms/step - loss: 0.5327 - accuracy: 0.7932 - val_loss: 0.5530 - val_accuracy: 0.7857\n",
      "Epoch 35/50\n",
      "439/439 [==============================] - 2s 5ms/step - loss: 0.5320 - accuracy: 0.7936 - val_loss: 0.5497 - val_accuracy: 0.7862\n",
      "Epoch 36/50\n",
      "439/439 [==============================] - 2s 5ms/step - loss: 0.5312 - accuracy: 0.7931 - val_loss: 0.5478 - val_accuracy: 0.7880\n",
      "Epoch 37/50\n",
      "439/439 [==============================] - 2s 5ms/step - loss: 0.5305 - accuracy: 0.7940 - val_loss: 0.5495 - val_accuracy: 0.7870\n",
      "Epoch 38/50\n",
      "439/439 [==============================] - 2s 5ms/step - loss: 0.5299 - accuracy: 0.7942 - val_loss: 0.5489 - val_accuracy: 0.7874\n",
      "Epoch 39/50\n",
      "439/439 [==============================] - 2s 5ms/step - loss: 0.5297 - accuracy: 0.7942 - val_loss: 0.5464 - val_accuracy: 0.7876\n",
      "Epoch 40/50\n",
      "439/439 [==============================] - 2s 5ms/step - loss: 0.5292 - accuracy: 0.7948 - val_loss: 0.5457 - val_accuracy: 0.7877\n",
      "Epoch 41/50\n",
      "439/439 [==============================] - 2s 5ms/step - loss: 0.5284 - accuracy: 0.7946 - val_loss: 0.5458 - val_accuracy: 0.7899\n",
      "Epoch 42/50\n",
      "439/439 [==============================] - 2s 5ms/step - loss: 0.5277 - accuracy: 0.7947 - val_loss: 0.5444 - val_accuracy: 0.7869\n",
      "Epoch 43/50\n",
      "439/439 [==============================] - 2s 5ms/step - loss: 0.5273 - accuracy: 0.7943 - val_loss: 0.5470 - val_accuracy: 0.7857\n",
      "Epoch 44/50\n",
      "439/439 [==============================] - 2s 5ms/step - loss: 0.5269 - accuracy: 0.7952 - val_loss: 0.5445 - val_accuracy: 0.7859\n",
      "Epoch 45/50\n",
      "439/439 [==============================] - 2s 5ms/step - loss: 0.5263 - accuracy: 0.7950 - val_loss: 0.5439 - val_accuracy: 0.7875\n",
      "Epoch 46/50\n",
      "439/439 [==============================] - 2s 5ms/step - loss: 0.5261 - accuracy: 0.7946 - val_loss: 0.5460 - val_accuracy: 0.7871\n",
      "Epoch 47/50\n",
      "439/439 [==============================] - 2s 4ms/step - loss: 0.5255 - accuracy: 0.7955 - val_loss: 0.5415 - val_accuracy: 0.7907\n",
      "Epoch 48/50\n",
      "439/439 [==============================] - 2s 4ms/step - loss: 0.5251 - accuracy: 0.7953 - val_loss: 0.5405 - val_accuracy: 0.7885\n",
      "Epoch 49/50\n",
      "439/439 [==============================] - 2s 5ms/step - loss: 0.5246 - accuracy: 0.7953 - val_loss: 0.5436 - val_accuracy: 0.7885\n",
      "Epoch 50/50\n",
      "439/439 [==============================] - 2s 5ms/step - loss: 0.5240 - accuracy: 0.7956 - val_loss: 0.5418 - val_accuracy: 0.7890\n"
     ]
    }
   ],
   "source": [
    "history_ann = model_ann.fit(X_train, y_train, epochs=50, batch_size=256, verbose=1, validation_data=(X_val, y_val))\n"
   ]
  },
  {
   "cell_type": "markdown",
   "metadata": {},
   "source": [
    "## Predict"
   ]
  },
  {
   "cell_type": "code",
   "execution_count": 15,
   "metadata": {},
   "outputs": [],
   "source": [
    "# load model\n",
    "model_ann = load_model('models/saved_models/model_ann_20231103-112820_0.887.keras')"
   ]
  },
  {
   "cell_type": "markdown",
   "metadata": {},
   "source": [
    "### Binary prediction"
   ]
  },
  {
   "cell_type": "code",
   "execution_count": 76,
   "metadata": {},
   "outputs": [
    {
     "name": "stdout",
     "output_type": "stream",
     "text": [
      "2573/2573 [==============================] - 3s 1ms/step\n"
     ]
    }
   ],
   "source": [
    "y_prediction_ann = model_ann.predict(X_test)\n"
   ]
  },
  {
   "cell_type": "code",
   "execution_count": 19,
   "metadata": {},
   "outputs": [],
   "source": [
    "threshold = 0.5\n",
    "y_prediction_ann = np.where(y_prediction_ann > threshold, 1, 0)"
   ]
  },
  {
   "cell_type": "code",
   "execution_count": 20,
   "metadata": {},
   "outputs": [
    {
     "name": "stdout",
     "output_type": "stream",
     "text": [
      "ANN Accuracy:  0.8532283923626294\n"
     ]
    }
   ],
   "source": [
    "accuracyScore_ann = accuracy_score(y_test, y_prediction_ann)\n",
    "print(\"ANN Accuracy: \", accuracyScore_ann)"
   ]
  },
  {
   "cell_type": "code",
   "execution_count": null,
   "metadata": {},
   "outputs": [],
   "source": []
  },
  {
   "cell_type": "code",
   "execution_count": 21,
   "metadata": {},
   "outputs": [
    {
     "name": "stdout",
     "output_type": "stream",
     "text": [
      "2573/2573 [==============================] - 21s 8ms/step - loss: 0.2809 - accuracy: 0.8532\n",
      "Accuracy: 85.322839\n",
      "Loss: 28.093141\n"
     ]
    }
   ],
   "source": [
    "loss, accuracy = model_ann.evaluate(X_test, y_test, verbose=1)\n",
    "print('Accuracy: %f' % (accuracy*100))\n",
    "print('Loss: %f' % (loss*100))"
   ]
  },
  {
   "cell_type": "markdown",
   "metadata": {},
   "source": [
    "### Multi ClassPredicition\n"
   ]
  },
  {
   "cell_type": "code",
   "execution_count": 78,
   "metadata": {},
   "outputs": [],
   "source": [
    "y_prediction_ann_multiclass = np.argmax(y_prediction_ann, axis=1)"
   ]
  },
  {
   "cell_type": "code",
   "execution_count": null,
   "metadata": {},
   "outputs": [],
   "source": []
  },
  {
   "cell_type": "code",
   "execution_count": 79,
   "metadata": {},
   "outputs": [
    {
     "name": "stdout",
     "output_type": "stream",
     "text": [
      "ANN Accuracy with multiclass:  0.6614803478598844\n"
     ]
    }
   ],
   "source": [
    "# calculate accuracy\n",
    "accuracyScore_ann = accuracy_score(y_test, y_prediction_ann_multiclass)\n",
    "print(\"ANN Accuracy with multiclass: \", accuracyScore_ann)"
   ]
  },
  {
   "cell_type": "markdown",
   "metadata": {},
   "source": [
    "### Plot graph of probability of each class"
   ]
  },
  {
   "cell_type": "code",
   "execution_count": 80,
   "metadata": {},
   "outputs": [
    {
     "data": {
      "image/png": "[encoded data removed]",
      "text/plain": [
       "<Figure size 640x480 with 1 Axes>"
      ]
     },
     "metadata": {},
     "output_type": "display_data"
    },
    {
     "data": {
      "image/png": "[encoded data removed]",
      "text/plain": [
       "<Figure size 640x480 with 1 Axes>"
      ]
     },
     "metadata": {},
     "output_type": "display_data"
    },
    {
     "data": {
      "image/png": "[encoded data removed]",
      "text/plain": [
       "<Figure size 640x480 with 1 Axes>"
      ]
     },
     "metadata": {},
     "output_type": "display_data"
    },
    {
     "data": {
      "image/png": "[encoded data removed]",
      "text/plain": [
       "<Figure size 640x480 with 1 Axes>"
      ]
     },
     "metadata": {},
     "output_type": "display_data"
    }
   ],
   "source": [
    "def plot_probabilities(y_prediction_array, true_label,predicted_label=None):\n",
    "  if predicted_label is None:\n",
    "    predicted_label = np.argmax(y_prediction_array)\n",
    "  plt.grid(False)\n",
    "  plt.xticks(range(10))\n",
    "  plt.yticks([])\n",
    "  thisplot = plt.bar(range(10), y_prediction_array, color=\"#777777\")\n",
    "  plt.ylim([0, 1])\n",
    "  thisplot[predicted_label].set_color('red')\n",
    "  thisplot[true_label].set_color('blue')\n",
    "\n",
    "  plt.show()\n",
    "\n",
    "\n",
    "for i in range(56, 60):\n",
    "  plot_probabilities(y_prediction_ann[i], y_test[i], y_prediction_ann_multiclass[i])"
   ]
  },
  {
   "cell_type": "code",
   "execution_count": 81,
   "metadata": {},
   "outputs": [
    {
     "data": {
      "image/png": "[encoded data removed]",
      "text/plain": [
       "<Figure size 1000x1000 with 2 Axes>"
      ]
     },
     "metadata": {},
     "output_type": "display_data"
    }
   ],
   "source": [
    "def plot_confusion_matrix(y_test, y_prediction, title):\n",
    "    cm = confusion_matrix(y_test, y_prediction)\n",
    "    plt.figure(figsize=(10, 10))\n",
    "    sns.heatmap(cm, annot=True, fmt=\"d\")\n",
    "    plt.title(title)\n",
    "    plt.ylabel('Actual label')\n",
    "    plt.xlabel('Predicted label')\n",
    "    plt.show()\n",
    "plot_confusion_matrix(y_test, y_prediction_ann_multiclass, \"ANN Confusion Matrix\")"
   ]
  },
  {
   "cell_type": "markdown",
   "metadata": {},
   "source": [
    "### Predict for multi-class classification"
   ]
  },
  {
   "cell_type": "code",
   "execution_count": 82,
   "metadata": {},
   "outputs": [
    {
     "name": "stderr",
     "output_type": "stream",
     "text": [
      "/home/sukhmeet/miniconda3/envs/tf/lib/python3.9/site-packages/keras/src/engine/training.py:3000: UserWarning: You are saving your model as an HDF5 file via `model.save()`. This file format is considered legacy. We recommend using instead the native Keras format, e.g. `model.save('my_model.keras')`.\n",
      "  saving_api.save_model(\n"
     ]
    }
   ],
   "source": [
    "# save model with time and accuracy\n",
    "import datetime\n",
    "model_ann.save('model_ann_'+datetime.datetime.now().strftime(\"%Y%m%d-%H%M%S\")+'_'+str(accuracyScore_ann)[0:5]+'.h5')"
   ]
  },
  {
   "cell_type": "markdown",
   "metadata": {},
   "source": [
    "## Confusion Matrix"
   ]
  },
  {
   "cell_type": "code",
   "execution_count": 83,
   "metadata": {},
   "outputs": [
    {
     "ename": "ValueError",
     "evalue": "Classification metrics can't handle a mix of multiclass and continuous-multioutput targets",
     "output_type": "error",
     "traceback": [
      "\u001b[0;31m---------------------------------------------------------------------------\u001b[0m",
      "\u001b[0;31mValueError\u001b[0m                                Traceback (most recent call last)",
      "\u001b[1;32m/home/sukhmeet/temp/IDS-Project/code/code.ipynb Cell 81\u001b[0m line \u001b[0;36m1\n\u001b[0;32m----> <a href='vscode-notebook-cell://ssh-remote%2B172.26.1.165/home/sukhmeet/temp/IDS-Project/code/code.ipynb#Y135sdnNjb2RlLXJlbW90ZQ%3D%3D?line=0'>1</a>\u001b[0m \u001b[39mprint\u001b[39m(classification_report(y_test, y_prediction_ann))\n",
      "File \u001b[0;32m~/miniconda3/envs/tf/lib/python3.9/site-packages/sklearn/utils/_param_validation.py:211\u001b[0m, in \u001b[0;36mvalidate_params.<locals>.decorator.<locals>.wrapper\u001b[0;34m(*args, **kwargs)\u001b[0m\n\u001b[1;32m    205\u001b[0m \u001b[39mtry\u001b[39;00m:\n\u001b[1;32m    206\u001b[0m     \u001b[39mwith\u001b[39;00m config_context(\n\u001b[1;32m    207\u001b[0m         skip_parameter_validation\u001b[39m=\u001b[39m(\n\u001b[1;32m    208\u001b[0m             prefer_skip_nested_validation \u001b[39mor\u001b[39;00m global_skip_validation\n\u001b[1;32m    209\u001b[0m         )\n\u001b[1;32m    210\u001b[0m     ):\n\u001b[0;32m--> 211\u001b[0m         \u001b[39mreturn\u001b[39;00m func(\u001b[39m*\u001b[39;49margs, \u001b[39m*\u001b[39;49m\u001b[39m*\u001b[39;49mkwargs)\n\u001b[1;32m    212\u001b[0m \u001b[39mexcept\u001b[39;00m InvalidParameterError \u001b[39mas\u001b[39;00m e:\n\u001b[1;32m    213\u001b[0m     \u001b[39m# When the function is just a wrapper around an estimator, we allow\u001b[39;00m\n\u001b[1;32m    214\u001b[0m     \u001b[39m# the function to delegate validation to the estimator, but we replace\u001b[39;00m\n\u001b[1;32m    215\u001b[0m     \u001b[39m# the name of the estimator by the name of the function in the error\u001b[39;00m\n\u001b[1;32m    216\u001b[0m     \u001b[39m# message to avoid confusion.\u001b[39;00m\n\u001b[1;32m    217\u001b[0m     msg \u001b[39m=\u001b[39m re\u001b[39m.\u001b[39msub(\n\u001b[1;32m    218\u001b[0m         \u001b[39mr\u001b[39m\u001b[39m\"\u001b[39m\u001b[39mparameter of \u001b[39m\u001b[39m\\\u001b[39m\u001b[39mw+ must be\u001b[39m\u001b[39m\"\u001b[39m,\n\u001b[1;32m    219\u001b[0m         \u001b[39mf\u001b[39m\u001b[39m\"\u001b[39m\u001b[39mparameter of \u001b[39m\u001b[39m{\u001b[39;00mfunc\u001b[39m.\u001b[39m\u001b[39m__qualname__\u001b[39m\u001b[39m}\u001b[39;00m\u001b[39m must be\u001b[39m\u001b[39m\"\u001b[39m,\n\u001b[1;32m    220\u001b[0m         \u001b[39mstr\u001b[39m(e),\n\u001b[1;32m    221\u001b[0m     )\n",
      "File \u001b[0;32m~/miniconda3/envs/tf/lib/python3.9/site-packages/sklearn/metrics/_classification.py:2539\u001b[0m, in \u001b[0;36mclassification_report\u001b[0;34m(y_true, y_pred, labels, target_names, sample_weight, digits, output_dict, zero_division)\u001b[0m\n\u001b[1;32m   2405\u001b[0m \u001b[39m@validate_params\u001b[39m(\n\u001b[1;32m   2406\u001b[0m     {\n\u001b[1;32m   2407\u001b[0m         \u001b[39m\"\u001b[39m\u001b[39my_true\u001b[39m\u001b[39m\"\u001b[39m: [\u001b[39m\"\u001b[39m\u001b[39marray-like\u001b[39m\u001b[39m\"\u001b[39m, \u001b[39m\"\u001b[39m\u001b[39msparse matrix\u001b[39m\u001b[39m\"\u001b[39m],\n\u001b[0;32m   (...)\u001b[0m\n\u001b[1;32m   2430\u001b[0m     zero_division\u001b[39m=\u001b[39m\u001b[39m\"\u001b[39m\u001b[39mwarn\u001b[39m\u001b[39m\"\u001b[39m,\n\u001b[1;32m   2431\u001b[0m ):\n\u001b[1;32m   2432\u001b[0m \u001b[39m    \u001b[39m\u001b[39m\"\"\"Build a text report showing the main classification metrics.\u001b[39;00m\n\u001b[1;32m   2433\u001b[0m \n\u001b[1;32m   2434\u001b[0m \u001b[39m    Read more in the :ref:`User Guide <classification_report>`.\u001b[39;00m\n\u001b[0;32m   (...)\u001b[0m\n\u001b[1;32m   2536\u001b[0m \u001b[39m    <BLANKLINE>\u001b[39;00m\n\u001b[1;32m   2537\u001b[0m \u001b[39m    \"\"\"\u001b[39;00m\n\u001b[0;32m-> 2539\u001b[0m     y_type, y_true, y_pred \u001b[39m=\u001b[39m _check_targets(y_true, y_pred)\n\u001b[1;32m   2541\u001b[0m     \u001b[39mif\u001b[39;00m labels \u001b[39mis\u001b[39;00m \u001b[39mNone\u001b[39;00m:\n\u001b[1;32m   2542\u001b[0m         labels \u001b[39m=\u001b[39m unique_labels(y_true, y_pred)\n",
      "File \u001b[0;32m~/miniconda3/envs/tf/lib/python3.9/site-packages/sklearn/metrics/_classification.py:93\u001b[0m, in \u001b[0;36m_check_targets\u001b[0;34m(y_true, y_pred)\u001b[0m\n\u001b[1;32m     90\u001b[0m     y_type \u001b[39m=\u001b[39m {\u001b[39m\"\u001b[39m\u001b[39mmulticlass\u001b[39m\u001b[39m\"\u001b[39m}\n\u001b[1;32m     92\u001b[0m \u001b[39mif\u001b[39;00m \u001b[39mlen\u001b[39m(y_type) \u001b[39m>\u001b[39m \u001b[39m1\u001b[39m:\n\u001b[0;32m---> 93\u001b[0m     \u001b[39mraise\u001b[39;00m \u001b[39mValueError\u001b[39;00m(\n\u001b[1;32m     94\u001b[0m         \u001b[39m\"\u001b[39m\u001b[39mClassification metrics can\u001b[39m\u001b[39m'\u001b[39m\u001b[39mt handle a mix of \u001b[39m\u001b[39m{0}\u001b[39;00m\u001b[39m and \u001b[39m\u001b[39m{1}\u001b[39;00m\u001b[39m targets\u001b[39m\u001b[39m\"\u001b[39m\u001b[39m.\u001b[39mformat(\n\u001b[1;32m     95\u001b[0m             type_true, type_pred\n\u001b[1;32m     96\u001b[0m         )\n\u001b[1;32m     97\u001b[0m     )\n\u001b[1;32m     99\u001b[0m \u001b[39m# We can't have more than one value on y_type => The set is no more needed\u001b[39;00m\n\u001b[1;32m    100\u001b[0m y_type \u001b[39m=\u001b[39m y_type\u001b[39m.\u001b[39mpop()\n",
      "\u001b[0;31mValueError\u001b[0m: Classification metrics can't handle a mix of multiclass and continuous-multioutput targets"
     ]
    }
   ],
   "source": [
    "print(classification_report(y_test, y_prediction_ann))"
   ]
  },
  {
   "cell_type": "code",
   "execution_count": 84,
   "metadata": {},
   "outputs": [
    {
     "ename": "ValueError",
     "evalue": "Classification metrics can't handle a mix of multiclass and continuous-multioutput targets",
     "output_type": "error",
     "traceback": [
      "\u001b[0;31m---------------------------------------------------------------------------\u001b[0m",
      "\u001b[0;31mValueError\u001b[0m                                Traceback (most recent call last)",
      "\u001b[1;32m/home/sukhmeet/temp/IDS-Project/code/code.ipynb Cell 82\u001b[0m line \u001b[0;36m2\n\u001b[1;32m      <a href='vscode-notebook-cell://ssh-remote%2B172.26.1.165/home/sukhmeet/temp/IDS-Project/code/code.ipynb#Y136sdnNjb2RlLXJlbW90ZQ%3D%3D?line=0'>1</a>\u001b[0m \u001b[39m## give confusion matrix\u001b[39;00m\n\u001b[0;32m----> <a href='vscode-notebook-cell://ssh-remote%2B172.26.1.165/home/sukhmeet/temp/IDS-Project/code/code.ipynb#Y136sdnNjb2RlLXJlbW90ZQ%3D%3D?line=1'>2</a>\u001b[0m cm_ann \u001b[39m=\u001b[39m confusion_matrix(y_test, y_prediction_ann)\n\u001b[1;32m      <a href='vscode-notebook-cell://ssh-remote%2B172.26.1.165/home/sukhmeet/temp/IDS-Project/code/code.ipynb#Y136sdnNjb2RlLXJlbW90ZQ%3D%3D?line=2'>3</a>\u001b[0m \u001b[39m##  plot it\u001b[39;00m\n\u001b[1;32m      <a href='vscode-notebook-cell://ssh-remote%2B172.26.1.165/home/sukhmeet/temp/IDS-Project/code/code.ipynb#Y136sdnNjb2RlLXJlbW90ZQ%3D%3D?line=3'>4</a>\u001b[0m plt\u001b[39m.\u001b[39mfigure(figsize\u001b[39m=\u001b[39m(\u001b[39m10\u001b[39m,\u001b[39m10\u001b[39m))\n",
      "File \u001b[0;32m~/miniconda3/envs/tf/lib/python3.9/site-packages/sklearn/utils/_param_validation.py:211\u001b[0m, in \u001b[0;36mvalidate_params.<locals>.decorator.<locals>.wrapper\u001b[0;34m(*args, **kwargs)\u001b[0m\n\u001b[1;32m    205\u001b[0m \u001b[39mtry\u001b[39;00m:\n\u001b[1;32m    206\u001b[0m     \u001b[39mwith\u001b[39;00m config_context(\n\u001b[1;32m    207\u001b[0m         skip_parameter_validation\u001b[39m=\u001b[39m(\n\u001b[1;32m    208\u001b[0m             prefer_skip_nested_validation \u001b[39mor\u001b[39;00m global_skip_validation\n\u001b[1;32m    209\u001b[0m         )\n\u001b[1;32m    210\u001b[0m     ):\n\u001b[0;32m--> 211\u001b[0m         \u001b[39mreturn\u001b[39;00m func(\u001b[39m*\u001b[39;49margs, \u001b[39m*\u001b[39;49m\u001b[39m*\u001b[39;49mkwargs)\n\u001b[1;32m    212\u001b[0m \u001b[39mexcept\u001b[39;00m InvalidParameterError \u001b[39mas\u001b[39;00m e:\n\u001b[1;32m    213\u001b[0m     \u001b[39m# When the function is just a wrapper around an estimator, we allow\u001b[39;00m\n\u001b[1;32m    214\u001b[0m     \u001b[39m# the function to delegate validation to the estimator, but we replace\u001b[39;00m\n\u001b[1;32m    215\u001b[0m     \u001b[39m# the name of the estimator by the name of the function in the error\u001b[39;00m\n\u001b[1;32m    216\u001b[0m     \u001b[39m# message to avoid confusion.\u001b[39;00m\n\u001b[1;32m    217\u001b[0m     msg \u001b[39m=\u001b[39m re\u001b[39m.\u001b[39msub(\n\u001b[1;32m    218\u001b[0m         \u001b[39mr\u001b[39m\u001b[39m\"\u001b[39m\u001b[39mparameter of \u001b[39m\u001b[39m\\\u001b[39m\u001b[39mw+ must be\u001b[39m\u001b[39m\"\u001b[39m,\n\u001b[1;32m    219\u001b[0m         \u001b[39mf\u001b[39m\u001b[39m\"\u001b[39m\u001b[39mparameter of \u001b[39m\u001b[39m{\u001b[39;00mfunc\u001b[39m.\u001b[39m\u001b[39m__qualname__\u001b[39m\u001b[39m}\u001b[39;00m\u001b[39m must be\u001b[39m\u001b[39m\"\u001b[39m,\n\u001b[1;32m    220\u001b[0m         \u001b[39mstr\u001b[39m(e),\n\u001b[1;32m    221\u001b[0m     )\n",
      "File \u001b[0;32m~/miniconda3/envs/tf/lib/python3.9/site-packages/sklearn/metrics/_classification.py:326\u001b[0m, in \u001b[0;36mconfusion_matrix\u001b[0;34m(y_true, y_pred, labels, sample_weight, normalize)\u001b[0m\n\u001b[1;32m    231\u001b[0m \u001b[39m@validate_params\u001b[39m(\n\u001b[1;32m    232\u001b[0m     {\n\u001b[1;32m    233\u001b[0m         \u001b[39m\"\u001b[39m\u001b[39my_true\u001b[39m\u001b[39m\"\u001b[39m: [\u001b[39m\"\u001b[39m\u001b[39marray-like\u001b[39m\u001b[39m\"\u001b[39m],\n\u001b[0;32m   (...)\u001b[0m\n\u001b[1;32m    242\u001b[0m     y_true, y_pred, \u001b[39m*\u001b[39m, labels\u001b[39m=\u001b[39m\u001b[39mNone\u001b[39;00m, sample_weight\u001b[39m=\u001b[39m\u001b[39mNone\u001b[39;00m, normalize\u001b[39m=\u001b[39m\u001b[39mNone\u001b[39;00m\n\u001b[1;32m    243\u001b[0m ):\n\u001b[1;32m    244\u001b[0m \u001b[39m    \u001b[39m\u001b[39m\"\"\"Compute confusion matrix to evaluate the accuracy of a classification.\u001b[39;00m\n\u001b[1;32m    245\u001b[0m \n\u001b[1;32m    246\u001b[0m \u001b[39m    By definition a confusion matrix :math:`C` is such that :math:`C_{i, j}`\u001b[39;00m\n\u001b[0;32m   (...)\u001b[0m\n\u001b[1;32m    324\u001b[0m \u001b[39m    (0, 2, 1, 1)\u001b[39;00m\n\u001b[1;32m    325\u001b[0m \u001b[39m    \"\"\"\u001b[39;00m\n\u001b[0;32m--> 326\u001b[0m     y_type, y_true, y_pred \u001b[39m=\u001b[39m _check_targets(y_true, y_pred)\n\u001b[1;32m    327\u001b[0m     \u001b[39mif\u001b[39;00m y_type \u001b[39mnot\u001b[39;00m \u001b[39min\u001b[39;00m (\u001b[39m\"\u001b[39m\u001b[39mbinary\u001b[39m\u001b[39m\"\u001b[39m, \u001b[39m\"\u001b[39m\u001b[39mmulticlass\u001b[39m\u001b[39m\"\u001b[39m):\n\u001b[1;32m    328\u001b[0m         \u001b[39mraise\u001b[39;00m \u001b[39mValueError\u001b[39;00m(\u001b[39m\"\u001b[39m\u001b[39m%s\u001b[39;00m\u001b[39m is not supported\u001b[39m\u001b[39m\"\u001b[39m \u001b[39m%\u001b[39m y_type)\n",
      "File \u001b[0;32m~/miniconda3/envs/tf/lib/python3.9/site-packages/sklearn/metrics/_classification.py:93\u001b[0m, in \u001b[0;36m_check_targets\u001b[0;34m(y_true, y_pred)\u001b[0m\n\u001b[1;32m     90\u001b[0m     y_type \u001b[39m=\u001b[39m {\u001b[39m\"\u001b[39m\u001b[39mmulticlass\u001b[39m\u001b[39m\"\u001b[39m}\n\u001b[1;32m     92\u001b[0m \u001b[39mif\u001b[39;00m \u001b[39mlen\u001b[39m(y_type) \u001b[39m>\u001b[39m \u001b[39m1\u001b[39m:\n\u001b[0;32m---> 93\u001b[0m     \u001b[39mraise\u001b[39;00m \u001b[39mValueError\u001b[39;00m(\n\u001b[1;32m     94\u001b[0m         \u001b[39m\"\u001b[39m\u001b[39mClassification metrics can\u001b[39m\u001b[39m'\u001b[39m\u001b[39mt handle a mix of \u001b[39m\u001b[39m{0}\u001b[39;00m\u001b[39m and \u001b[39m\u001b[39m{1}\u001b[39;00m\u001b[39m targets\u001b[39m\u001b[39m\"\u001b[39m\u001b[39m.\u001b[39mformat(\n\u001b[1;32m     95\u001b[0m             type_true, type_pred\n\u001b[1;32m     96\u001b[0m         )\n\u001b[1;32m     97\u001b[0m     )\n\u001b[1;32m     99\u001b[0m \u001b[39m# We can't have more than one value on y_type => The set is no more needed\u001b[39;00m\n\u001b[1;32m    100\u001b[0m y_type \u001b[39m=\u001b[39m y_type\u001b[39m.\u001b[39mpop()\n",
      "\u001b[0;31mValueError\u001b[0m: Classification metrics can't handle a mix of multiclass and continuous-multioutput targets"
     ]
    }
   ],
   "source": [
    "## give confusion matrix\n",
    "cm_ann = confusion_matrix(y_test, y_prediction_ann)\n",
    "##  plot it\n",
    "plt.figure(figsize=(10,10))\n",
    "plt.title('ANN Confusion Matrix')\n",
    "sns.heatmap(cm_ann, annot=True, fmt='d', cmap='Blues')\n",
    "plt.xlabel('Predicted')\n",
    "plt.ylabel('Actual')\n",
    "plt.show()\n"
   ]
  },
  {
   "cell_type": "markdown",
   "metadata": {},
   "source": [
    "## Roc Curve"
   ]
  },
  {
   "cell_type": "code",
   "execution_count": 85,
   "metadata": {},
   "outputs": [
    {
     "ename": "ValueError",
     "evalue": "multiclass format is not supported",
     "output_type": "error",
     "traceback": [
      "\u001b[0;31m---------------------------------------------------------------------------\u001b[0m",
      "\u001b[0;31mValueError\u001b[0m                                Traceback (most recent call last)",
      "\u001b[1;32m/home/sukhmeet/temp/IDS-Project/code/code.ipynb Cell 84\u001b[0m line \u001b[0;36m1\n\u001b[0;32m----> <a href='vscode-notebook-cell://ssh-remote%2B172.26.1.165/home/sukhmeet/temp/IDS-Project/code/code.ipynb#Y141sdnNjb2RlLXJlbW90ZQ%3D%3D?line=0'>1</a>\u001b[0m fpr, tpr, thresholds \u001b[39m=\u001b[39m roc_curve(y_test, y_prediction_ann)\n\u001b[1;32m      <a href='vscode-notebook-cell://ssh-remote%2B172.26.1.165/home/sukhmeet/temp/IDS-Project/code/code.ipynb#Y141sdnNjb2RlLXJlbW90ZQ%3D%3D?line=1'>2</a>\u001b[0m roc_auc \u001b[39m=\u001b[39m auc(fpr, tpr)\n",
      "File \u001b[0;32m~/miniconda3/envs/tf/lib/python3.9/site-packages/sklearn/utils/_param_validation.py:211\u001b[0m, in \u001b[0;36mvalidate_params.<locals>.decorator.<locals>.wrapper\u001b[0;34m(*args, **kwargs)\u001b[0m\n\u001b[1;32m    205\u001b[0m \u001b[39mtry\u001b[39;00m:\n\u001b[1;32m    206\u001b[0m     \u001b[39mwith\u001b[39;00m config_context(\n\u001b[1;32m    207\u001b[0m         skip_parameter_validation\u001b[39m=\u001b[39m(\n\u001b[1;32m    208\u001b[0m             prefer_skip_nested_validation \u001b[39mor\u001b[39;00m global_skip_validation\n\u001b[1;32m    209\u001b[0m         )\n\u001b[1;32m    210\u001b[0m     ):\n\u001b[0;32m--> 211\u001b[0m         \u001b[39mreturn\u001b[39;00m func(\u001b[39m*\u001b[39;49margs, \u001b[39m*\u001b[39;49m\u001b[39m*\u001b[39;49mkwargs)\n\u001b[1;32m    212\u001b[0m \u001b[39mexcept\u001b[39;00m InvalidParameterError \u001b[39mas\u001b[39;00m e:\n\u001b[1;32m    213\u001b[0m     \u001b[39m# When the function is just a wrapper around an estimator, we allow\u001b[39;00m\n\u001b[1;32m    214\u001b[0m     \u001b[39m# the function to delegate validation to the estimator, but we replace\u001b[39;00m\n\u001b[1;32m    215\u001b[0m     \u001b[39m# the name of the estimator by the name of the function in the error\u001b[39;00m\n\u001b[1;32m    216\u001b[0m     \u001b[39m# message to avoid confusion.\u001b[39;00m\n\u001b[1;32m    217\u001b[0m     msg \u001b[39m=\u001b[39m re\u001b[39m.\u001b[39msub(\n\u001b[1;32m    218\u001b[0m         \u001b[39mr\u001b[39m\u001b[39m\"\u001b[39m\u001b[39mparameter of \u001b[39m\u001b[39m\\\u001b[39m\u001b[39mw+ must be\u001b[39m\u001b[39m\"\u001b[39m,\n\u001b[1;32m    219\u001b[0m         \u001b[39mf\u001b[39m\u001b[39m\"\u001b[39m\u001b[39mparameter of \u001b[39m\u001b[39m{\u001b[39;00mfunc\u001b[39m.\u001b[39m\u001b[39m__qualname__\u001b[39m\u001b[39m}\u001b[39;00m\u001b[39m must be\u001b[39m\u001b[39m\"\u001b[39m,\n\u001b[1;32m    220\u001b[0m         \u001b[39mstr\u001b[39m(e),\n\u001b[1;32m    221\u001b[0m     )\n",
      "File \u001b[0;32m~/miniconda3/envs/tf/lib/python3.9/site-packages/sklearn/metrics/_ranking.py:1094\u001b[0m, in \u001b[0;36mroc_curve\u001b[0;34m(y_true, y_score, pos_label, sample_weight, drop_intermediate)\u001b[0m\n\u001b[1;32m    992\u001b[0m \u001b[39m@validate_params\u001b[39m(\n\u001b[1;32m    993\u001b[0m     {\n\u001b[1;32m    994\u001b[0m         \u001b[39m\"\u001b[39m\u001b[39my_true\u001b[39m\u001b[39m\"\u001b[39m: [\u001b[39m\"\u001b[39m\u001b[39marray-like\u001b[39m\u001b[39m\"\u001b[39m],\n\u001b[0;32m   (...)\u001b[0m\n\u001b[1;32m   1003\u001b[0m     y_true, y_score, \u001b[39m*\u001b[39m, pos_label\u001b[39m=\u001b[39m\u001b[39mNone\u001b[39;00m, sample_weight\u001b[39m=\u001b[39m\u001b[39mNone\u001b[39;00m, drop_intermediate\u001b[39m=\u001b[39m\u001b[39mTrue\u001b[39;00m\n\u001b[1;32m   1004\u001b[0m ):\n\u001b[1;32m   1005\u001b[0m \u001b[39m    \u001b[39m\u001b[39m\"\"\"Compute Receiver operating characteristic (ROC).\u001b[39;00m\n\u001b[1;32m   1006\u001b[0m \n\u001b[1;32m   1007\u001b[0m \u001b[39m    Note: this implementation is restricted to the binary classification task.\u001b[39;00m\n\u001b[0;32m   (...)\u001b[0m\n\u001b[1;32m   1092\u001b[0m \u001b[39m    array([ inf, 0.8 , 0.4 , 0.35, 0.1 ])\u001b[39;00m\n\u001b[1;32m   1093\u001b[0m \u001b[39m    \"\"\"\u001b[39;00m\n\u001b[0;32m-> 1094\u001b[0m     fps, tps, thresholds \u001b[39m=\u001b[39m _binary_clf_curve(\n\u001b[1;32m   1095\u001b[0m         y_true, y_score, pos_label\u001b[39m=\u001b[39;49mpos_label, sample_weight\u001b[39m=\u001b[39;49msample_weight\n\u001b[1;32m   1096\u001b[0m     )\n\u001b[1;32m   1098\u001b[0m     \u001b[39m# Attempt to drop thresholds corresponding to points in between and\u001b[39;00m\n\u001b[1;32m   1099\u001b[0m     \u001b[39m# collinear with other points. These are always suboptimal and do not\u001b[39;00m\n\u001b[1;32m   1100\u001b[0m     \u001b[39m# appear on a plotted ROC curve (and thus do not affect the AUC).\u001b[39;00m\n\u001b[0;32m   (...)\u001b[0m\n\u001b[1;32m   1105\u001b[0m     \u001b[39m# but does not drop more complicated cases like fps = [1, 3, 7],\u001b[39;00m\n\u001b[1;32m   1106\u001b[0m     \u001b[39m# tps = [1, 2, 4]; there is no harm in keeping too many thresholds.\u001b[39;00m\n\u001b[1;32m   1107\u001b[0m     \u001b[39mif\u001b[39;00m drop_intermediate \u001b[39mand\u001b[39;00m \u001b[39mlen\u001b[39m(fps) \u001b[39m>\u001b[39m \u001b[39m2\u001b[39m:\n",
      "File \u001b[0;32m~/miniconda3/envs/tf/lib/python3.9/site-packages/sklearn/metrics/_ranking.py:803\u001b[0m, in \u001b[0;36m_binary_clf_curve\u001b[0;34m(y_true, y_score, pos_label, sample_weight)\u001b[0m\n\u001b[1;32m    801\u001b[0m y_type \u001b[39m=\u001b[39m type_of_target(y_true, input_name\u001b[39m=\u001b[39m\u001b[39m\"\u001b[39m\u001b[39my_true\u001b[39m\u001b[39m\"\u001b[39m)\n\u001b[1;32m    802\u001b[0m \u001b[39mif\u001b[39;00m \u001b[39mnot\u001b[39;00m (y_type \u001b[39m==\u001b[39m \u001b[39m\"\u001b[39m\u001b[39mbinary\u001b[39m\u001b[39m\"\u001b[39m \u001b[39mor\u001b[39;00m (y_type \u001b[39m==\u001b[39m \u001b[39m\"\u001b[39m\u001b[39mmulticlass\u001b[39m\u001b[39m\"\u001b[39m \u001b[39mand\u001b[39;00m pos_label \u001b[39mis\u001b[39;00m \u001b[39mnot\u001b[39;00m \u001b[39mNone\u001b[39;00m)):\n\u001b[0;32m--> 803\u001b[0m     \u001b[39mraise\u001b[39;00m \u001b[39mValueError\u001b[39;00m(\u001b[39m\"\u001b[39m\u001b[39m{0}\u001b[39;00m\u001b[39m format is not supported\u001b[39m\u001b[39m\"\u001b[39m\u001b[39m.\u001b[39mformat(y_type))\n\u001b[1;32m    805\u001b[0m check_consistent_length(y_true, y_score, sample_weight)\n\u001b[1;32m    806\u001b[0m y_true \u001b[39m=\u001b[39m column_or_1d(y_true)\n",
      "\u001b[0;31mValueError\u001b[0m: multiclass format is not supported"
     ]
    }
   ],
   "source": [
    "fpr, tpr, thresholds = roc_curve(y_test, y_prediction_ann)\n",
    "roc_auc = auc(fpr, tpr)\n",
    "\n"
   ]
  },
  {
   "cell_type": "code",
   "execution_count": 86,
   "metadata": {},
   "outputs": [
    {
     "ename": "NameError",
     "evalue": "name 'fpr' is not defined",
     "output_type": "error",
     "traceback": [
      "\u001b[0;31m---------------------------------------------------------------------------\u001b[0m",
      "\u001b[0;31mNameError\u001b[0m                                 Traceback (most recent call last)",
      "\u001b[1;32m/home/sukhmeet/temp/IDS-Project/code/code.ipynb Cell 85\u001b[0m line \u001b[0;36m2\n\u001b[1;32m      <a href='vscode-notebook-cell://ssh-remote%2B172.26.1.165/home/sukhmeet/temp/IDS-Project/code/code.ipynb#Y142sdnNjb2RlLXJlbW90ZQ%3D%3D?line=0'>1</a>\u001b[0m plt\u001b[39m.\u001b[39mfigure()\n\u001b[0;32m----> <a href='vscode-notebook-cell://ssh-remote%2B172.26.1.165/home/sukhmeet/temp/IDS-Project/code/code.ipynb#Y142sdnNjb2RlLXJlbW90ZQ%3D%3D?line=1'>2</a>\u001b[0m plt\u001b[39m.\u001b[39mplot(fpr, tpr, color\u001b[39m=\u001b[39m\u001b[39m'\u001b[39m\u001b[39mdarkorange\u001b[39m\u001b[39m'\u001b[39m, lw\u001b[39m=\u001b[39m\u001b[39m2\u001b[39m, label\u001b[39m=\u001b[39m\u001b[39m'\u001b[39m\u001b[39mROC curve (area = \u001b[39m\u001b[39m%0.2f\u001b[39;00m\u001b[39m)\u001b[39m\u001b[39m'\u001b[39m \u001b[39m%\u001b[39m roc_auc)\n\u001b[1;32m      <a href='vscode-notebook-cell://ssh-remote%2B172.26.1.165/home/sukhmeet/temp/IDS-Project/code/code.ipynb#Y142sdnNjb2RlLXJlbW90ZQ%3D%3D?line=2'>3</a>\u001b[0m plt\u001b[39m.\u001b[39mplot([\u001b[39m0\u001b[39m, \u001b[39m1\u001b[39m], [\u001b[39m0\u001b[39m, \u001b[39m1\u001b[39m], color\u001b[39m=\u001b[39m\u001b[39m'\u001b[39m\u001b[39mnavy\u001b[39m\u001b[39m'\u001b[39m, lw\u001b[39m=\u001b[39m\u001b[39m2\u001b[39m, linestyle\u001b[39m=\u001b[39m\u001b[39m'\u001b[39m\u001b[39m--\u001b[39m\u001b[39m'\u001b[39m)\n\u001b[1;32m      <a href='vscode-notebook-cell://ssh-remote%2B172.26.1.165/home/sukhmeet/temp/IDS-Project/code/code.ipynb#Y142sdnNjb2RlLXJlbW90ZQ%3D%3D?line=3'>4</a>\u001b[0m plt\u001b[39m.\u001b[39mxlim([\u001b[39m0.0\u001b[39m, \u001b[39m1.0\u001b[39m])\n",
      "\u001b[0;31mNameError\u001b[0m: name 'fpr' is not defined"
     ]
    },
    {
     "data": {
      "text/plain": [
       "<Figure size 640x480 with 0 Axes>"
      ]
     },
     "metadata": {},
     "output_type": "display_data"
    }
   ],
   "source": [
    "plt.figure()\n",
    "plt.plot(fpr, tpr, color='darkorange', lw=2, label='ROC curve (area = %0.2f)' % roc_auc)\n",
    "plt.plot([0, 1], [0, 1], color='navy', lw=2, linestyle='--')\n",
    "plt.xlim([0.0, 1.0])\n",
    "plt.ylim([0.0, 1.05])\n",
    "plt.xlabel('False Positive Rate')\n",
    "plt.ylabel('True Positive Rate')\n",
    "plt.title('Receiver Operating Characteristic')\n",
    "plt.legend(loc=\"lower right\")\n",
    "plt.show()\n",
    "\n",
    "# Calculate AUC score\n",
    "auc_score = roc_auc_score(y_test, y_pred)\n",
    "print(\"AUC Score:\", auc_score)\n"
   ]
  },
  {
   "cell_type": "markdown",
   "metadata": {},
   "source": [
    "# Random Forest"
   ]
  },
  {
   "cell_type": "code",
   "execution_count": 62,
   "metadata": {},
   "outputs": [
    {
     "name": "stderr",
     "output_type": "stream",
     "text": [
      "[Parallel(n_jobs=50)]: Using backend ThreadingBackend with 50 concurrent workers.\n",
      "[Parallel(n_jobs=50)]: Done 100 out of 100 | elapsed:    0.9s finished\n"
     ]
    },
    {
     "data": {
      "text/html": [
       "<style>#sk-container-id-9 {color: black;}#sk-container-id-9 pre{padding: 0;}#sk-container-id-9 div.sk-toggleable {background-color: white;}#sk-container-id-9 label.sk-toggleable__label {cursor: pointer;display: block;width: 100%;margin-bottom: 0;padding: 0.3em;box-sizing: border-box;text-align: center;}#sk-container-id-9 label.sk-toggleable__label-arrow:before {content: \"▸\";float: left;margin-right: 0.25em;color: #696969;}#sk-container-id-9 label.sk-toggleable__label-arrow:hover:before {color: black;}#sk-container-id-9 div.sk-estimator:hover label.sk-toggleable__label-arrow:before {color: black;}#sk-container-id-9 div.sk-toggleable__content {max-height: 0;max-width: 0;overflow: hidden;text-align: left;background-color: #f0f8ff;}#sk-container-id-9 div.sk-toggleable__content pre {margin: 0.2em;color: black;border-radius: 0.25em;background-color: #f0f8ff;}#sk-container-id-9 input.sk-toggleable__control:checked~div.sk-toggleable__content {max-height: 200px;max-width: 100%;overflow: auto;}#sk-container-id-9 input.sk-toggleable__control:checked~label.sk-toggleable__label-arrow:before {content: \"▾\";}#sk-container-id-9 div.sk-estimator input.sk-toggleable__control:checked~label.sk-toggleable__label {background-color: #d4ebff;}#sk-container-id-9 div.sk-label input.sk-toggleable__control:checked~label.sk-toggleable__label {background-color: #d4ebff;}#sk-container-id-9 input.sk-hidden--visually {border: 0;clip: rect(1px 1px 1px 1px);clip: rect(1px, 1px, 1px, 1px);height: 1px;margin: -1px;overflow: hidden;padding: 0;position: absolute;width: 1px;}#sk-container-id-9 div.sk-estimator {font-family: monospace;background-color: #f0f8ff;border: 1px dotted black;border-radius: 0.25em;box-sizing: border-box;margin-bottom: 0.5em;}#sk-container-id-9 div.sk-estimator:hover {background-color: #d4ebff;}#sk-container-id-9 div.sk-parallel-item::after {content: \"\";width: 100%;border-bottom: 1px solid gray;flex-grow: 1;}#sk-container-id-9 div.sk-label:hover label.sk-toggleable__label {background-color: #d4ebff;}#sk-container-id-9 div.sk-serial::before {content: \"\";position: absolute;border-left: 1px solid gray;box-sizing: border-box;top: 0;bottom: 0;left: 50%;z-index: 0;}#sk-container-id-9 div.sk-serial {display: flex;flex-direction: column;align-items: center;background-color: white;padding-right: 0.2em;padding-left: 0.2em;position: relative;}#sk-container-id-9 div.sk-item {position: relative;z-index: 1;}#sk-container-id-9 div.sk-parallel {display: flex;align-items: stretch;justify-content: center;background-color: white;position: relative;}#sk-container-id-9 div.sk-item::before, #sk-container-id-9 div.sk-parallel-item::before {content: \"\";position: absolute;border-left: 1px solid gray;box-sizing: border-box;top: 0;bottom: 0;left: 50%;z-index: -1;}#sk-container-id-9 div.sk-parallel-item {display: flex;flex-direction: column;z-index: 1;position: relative;background-color: white;}#sk-container-id-9 div.sk-parallel-item:first-child::after {align-self: flex-end;width: 50%;}#sk-container-id-9 div.sk-parallel-item:last-child::after {align-self: flex-start;width: 50%;}#sk-container-id-9 div.sk-parallel-item:only-child::after {width: 0;}#sk-container-id-9 div.sk-dashed-wrapped {border: 1px dashed gray;margin: 0 0.4em 0.5em 0.4em;box-sizing: border-box;padding-bottom: 0.4em;background-color: white;}#sk-container-id-9 div.sk-label label {font-family: monospace;font-weight: bold;display: inline-block;line-height: 1.2em;}#sk-container-id-9 div.sk-label-container {text-align: center;}#sk-container-id-9 div.sk-container {/* jupyter's `normalize.less` sets `[hidden] { display: none; }` but bootstrap.min.css set `[hidden] { display: none !important; }` so we also need the `!important` here to be able to override the default hidden behavior on the sphinx rendered scikit-learn.org. See: https://github.com/scikit-learn/scikit-learn/issues/21755 */display: inline-block !important;position: relative;}#sk-container-id-9 div.sk-text-repr-fallback {display: none;}</style><div id=\"sk-container-id-9\" class=\"sk-top-container\"><div class=\"sk-text-repr-fallback\"><pre>RandomForestClassifier(criterion=&#x27;entropy&#x27;, n_jobs=50, random_state=42,\n",
       "                       verbose=1, warm_start=True)</pre><b>In a Jupyter environment, please rerun this cell to show the HTML representation or trust the notebook. <br />On GitHub, the HTML representation is unable to render, please try loading this page with nbviewer.org.</b></div><div class=\"sk-container\" hidden><div class=\"sk-item\"><div class=\"sk-estimator sk-toggleable\"><input class=\"sk-toggleable__control sk-hidden--visually\" id=\"sk-estimator-id-9\" type=\"checkbox\" checked><label for=\"sk-estimator-id-9\" class=\"sk-toggleable__label sk-toggleable__label-arrow\">RandomForestClassifier</label><div class=\"sk-toggleable__content\"><pre>RandomForestClassifier(criterion=&#x27;entropy&#x27;, n_jobs=50, random_state=42,\n",
       "                       verbose=1, warm_start=True)</pre></div></div></div></div></div>"
      ],
      "text/plain": [
       "RandomForestClassifier(criterion='entropy', n_jobs=50, random_state=42,\n",
       "                       verbose=1, warm_start=True)"
      ]
     },
     "execution_count": 62,
     "metadata": {},
     "output_type": "execute_result"
    }
   ],
   "source": [
    "\n",
    "rf = RandomForestClassifier(n_estimators=100, n_jobs=50, random_state=42, verbose=1, criterion='entropy',warm_start=True)\n",
    "\n",
    "rf.fit(X_train, y_train)"
   ]
  },
  {
   "cell_type": "code",
   "execution_count": 63,
   "metadata": {},
   "outputs": [
    {
     "name": "stdout",
     "output_type": "stream",
     "text": [
      "Accuracy: 0.794891415245591\n"
     ]
    },
    {
     "name": "stderr",
     "output_type": "stream",
     "text": [
      "[Parallel(n_jobs=50)]: Using backend ThreadingBackend with 50 concurrent workers.\n",
      "[Parallel(n_jobs=50)]: Done 100 out of 100 | elapsed:    0.1s finished\n"
     ]
    }
   ],
   "source": [
    "y_pred = rf.predict(X_test)\n",
    "accuracy = accuracy_score(y_test, y_pred)\n",
    "print(\"Accuracy:\", accuracy)"
   ]
  },
  {
   "cell_type": "code",
   "execution_count": null,
   "metadata": {},
   "outputs": [],
   "source": []
  },
  {
   "cell_type": "markdown",
   "metadata": {},
   "source": [
    "# XGBoost"
   ]
  },
  {
   "cell_type": "code",
   "execution_count": null,
   "metadata": {},
   "outputs": [],
   "source": [
    "# write code for xgboost\n",
    "xgb = XGBClassifier(n_estimators=100, n_jobs=50, random_state=42, verbose=1, criterion='entropy',warm_start=True)\n",
    "xgb.fit(X_train, y_train)\n"
   ]
  },
  {
   "cell_type": "code",
   "execution_count": null,
   "metadata": {},
   "outputs": [],
   "source": [
    "#predict\n",
    "y_pred = xgb.predict(X_test)\n"
   ]
  },
  {
   "cell_type": "code",
   "execution_count": null,
   "metadata": {},
   "outputs": [],
   "source": [
    "accuracy = accuracy_score(y_test, y_pred)\n",
    "print(\"Accuracy:\", accuracy)\n"
   ]
  },
  {
   "cell_type": "code",
   "execution_count": null,
   "metadata": {},
   "outputs": [],
   "source": []
  },
  {
   "cell_type": "markdown",
   "metadata": {},
   "source": [
    "# LSTM"
   ]
  },
  {
   "cell_type": "code",
   "execution_count": 65,
   "metadata": {},
   "outputs": [
    {
     "name": "stderr",
     "output_type": "stream",
     "text": [
      "2023-11-02 07:02:12.260809: I tensorflow/core/common_runtime/gpu/gpu_device.cc:1639] Created device /job:localhost/replica:0/task:0/device:GPU:0 with 5329 MB memory:  -> device: 0, name: Tesla T4, pci bus id: 0000:3b:00.0, compute capability: 7.5\n",
      "2023-11-02 07:02:12.262956: I tensorflow/core/common_runtime/gpu/gpu_device.cc:1639] Created device /job:localhost/replica:0/task:0/device:GPU:1 with 220 MB memory:  -> device: 1, name: Tesla T4, pci bus id: 0000:af:00.0, compute capability: 7.5\n",
      "2023-11-02 07:02:12.264834: I tensorflow/core/common_runtime/gpu/gpu_device.cc:1639] Created device /job:localhost/replica:0/task:0/device:GPU:2 with 5099 MB memory:  -> device: 2, name: Tesla T4, pci bus id: 0000:d8:00.0, compute capability: 7.5\n"
     ]
    }
   ],
   "source": [
    "def get_model_lstm():\n",
    "    model = Sequential()\n",
    "    model.add(LSTM(50, input_shape=(X_train.shape[1], 1), return_sequences=True))\n",
    "    model.add(Dropout(0.2))\n",
    "    model.add(LSTM(25, return_sequences=True))\n",
    "    model.add(Dropout(0.2))\n",
    "    model.add(LSTM(10))\n",
    "    model.add(Dropout(0.2))\n",
    "    model.add(Dense(1, activation='sigmoid'))\n",
    "\n",
    "    model.compile(loss='binary_crossentropy', optimizer='adam', metrics=['accuracy'])\n",
    "\n",
    "    return model\n",
    "\n",
    "model_lstm = get_model_lstm()\n"
   ]
  },
  {
   "cell_type": "code",
   "execution_count": 66,
   "metadata": {},
   "outputs": [],
   "source": [
    "# reshape data for LSTM\n",
    "X_train = X_train.values.reshape((X_train.shape[0], X_train.shape[1], 1))\n",
    "X_test = X_test.values.reshape((X_test.shape[0], X_test.shape[1], 1))\n",
    "X_val = X_val.values.reshape((X_val.shape[0], X_val.shape[1], 1))\n"
   ]
  },
  {
   "cell_type": "code",
   "execution_count": 1,
   "metadata": {},
   "outputs": [
    {
     "ename": "NameError",
     "evalue": "name 'X_train' is not defined",
     "output_type": "error",
     "traceback": [
      "\u001b[0;31m---------------------------------------------------------------------------\u001b[0m",
      "\u001b[0;31mNameError\u001b[0m                                 Traceback (most recent call last)",
      "\u001b[1;32m/home/sukhmeet/temp/IDS-Project/code/code.ipynb Cell 93\u001b[0m line \u001b[0;36m1\n\u001b[0;32m----> <a href='vscode-notebook-cell://ssh-remote%2B172.26.1.165/home/sukhmeet/temp/IDS-Project/code/code.ipynb#Y161sdnNjb2RlLXJlbW90ZQ%3D%3D?line=0'>1</a>\u001b[0m \u001b[39mprint\u001b[39m(X_train\u001b[39m.\u001b[39mshape, y_train\u001b[39m.\u001b[39mshape, X_test\u001b[39m.\u001b[39mshape, y_test\u001b[39m.\u001b[39mshape, X_val\u001b[39m.\u001b[39mshape, y_val\u001b[39m.\u001b[39mshape)\n",
      "\u001b[0;31mNameError\u001b[0m: name 'X_train' is not defined"
     ]
    }
   ],
   "source": [
    "print(X_train.shape, y_train.shape, X_test.shape, y_test.shape, X_val.shape, y_val.shape)"
   ]
  },
  {
   "cell_type": "code",
   "execution_count": 68,
   "metadata": {},
   "outputs": [
    {
     "name": "stdout",
     "output_type": "stream",
     "text": [
      "Epoch 1/100\n"
     ]
    },
    {
     "name": "stderr",
     "output_type": "stream",
     "text": [
      "2023-11-02 07:02:19.420077: I tensorflow/compiler/xla/stream_executor/cuda/cuda_dnn.cc:432] Loaded cuDNN version 8600\n",
      "2023-11-02 07:02:19.723367: I tensorflow/compiler/xla/service/service.cc:168] XLA service 0x7f1f0c013090 initialized for platform CUDA (this does not guarantee that XLA will be used). Devices:\n",
      "2023-11-02 07:02:19.723443: I tensorflow/compiler/xla/service/service.cc:176]   StreamExecutor device (0): Tesla T4, Compute Capability 7.5\n",
      "2023-11-02 07:02:19.723467: I tensorflow/compiler/xla/service/service.cc:176]   StreamExecutor device (1): Tesla T4, Compute Capability 7.5\n",
      "2023-11-02 07:02:19.723482: I tensorflow/compiler/xla/service/service.cc:176]   StreamExecutor device (2): Tesla T4, Compute Capability 7.5\n",
      "2023-11-02 07:02:19.731008: I tensorflow/compiler/mlir/tensorflow/utils/dump_mlir_util.cc:255] disabling MLIR crash reproducer, set env var `MLIR_CRASH_REPRODUCER_DIRECTORY` to enable.\n",
      "2023-11-02 07:02:19.895518: I ./tensorflow/compiler/jit/device_compiler.h:186] Compiled cluster using XLA!  This line is logged at most once for the lifetime of the process.\n"
     ]
    },
    {
     "name": "stdout",
     "output_type": "stream",
     "text": [
      "110/110 [==============================] - 10s 32ms/step - loss: 0.4840 - accuracy: 0.8814 - val_loss: 0.3221 - val_accuracy: 0.9219\n",
      "Epoch 2/100\n",
      "110/110 [==============================] - 3s 23ms/step - loss: 0.2797 - accuracy: 0.9223 - val_loss: 0.2557 - val_accuracy: 0.9219\n",
      "Epoch 3/100\n",
      "110/110 [==============================] - 3s 24ms/step - loss: 0.2530 - accuracy: 0.9223 - val_loss: 0.2354 - val_accuracy: 0.9219\n",
      "Epoch 4/100\n",
      "110/110 [==============================] - 3s 23ms/step - loss: 0.2321 - accuracy: 0.9223 - val_loss: 0.2223 - val_accuracy: 0.9219\n",
      "Epoch 5/100\n",
      "110/110 [==============================] - 3s 24ms/step - loss: 0.2253 - accuracy: 0.9224 - val_loss: 0.2198 - val_accuracy: 0.9219\n",
      "Epoch 6/100\n",
      "110/110 [==============================] - 3s 24ms/step - loss: 0.2233 - accuracy: 0.9223 - val_loss: 0.2178 - val_accuracy: 0.9219\n",
      "Epoch 7/100\n",
      "110/110 [==============================] - 3s 25ms/step - loss: 0.2209 - accuracy: 0.9223 - val_loss: 0.2177 - val_accuracy: 0.9219\n",
      "Epoch 8/100\n",
      "110/110 [==============================] - 3s 24ms/step - loss: 0.2207 - accuracy: 0.9223 - val_loss: 0.2166 - val_accuracy: 0.9219\n",
      "Epoch 9/100\n",
      "110/110 [==============================] - 3s 24ms/step - loss: 0.2193 - accuracy: 0.9223 - val_loss: 0.2157 - val_accuracy: 0.9219\n",
      "Epoch 10/100\n",
      "110/110 [==============================] - 3s 25ms/step - loss: 0.2191 - accuracy: 0.9223 - val_loss: 0.2155 - val_accuracy: 0.9219\n",
      "Epoch 11/100\n",
      "110/110 [==============================] - 3s 24ms/step - loss: 0.2185 - accuracy: 0.9223 - val_loss: 0.2147 - val_accuracy: 0.9219\n",
      "Epoch 12/100\n",
      "110/110 [==============================] - 3s 24ms/step - loss: 0.2181 - accuracy: 0.9222 - val_loss: 0.2141 - val_accuracy: 0.9219\n",
      "Epoch 13/100\n",
      "110/110 [==============================] - 3s 25ms/step - loss: 0.2179 - accuracy: 0.9223 - val_loss: 0.2153 - val_accuracy: 0.9219\n",
      "Epoch 14/100\n",
      "110/110 [==============================] - 2s 23ms/step - loss: 0.2172 - accuracy: 0.9223 - val_loss: 0.2140 - val_accuracy: 0.9219\n",
      "Epoch 15/100\n",
      "110/110 [==============================] - 3s 24ms/step - loss: 0.2169 - accuracy: 0.9223 - val_loss: 0.2134 - val_accuracy: 0.9219\n",
      "Epoch 16/100\n",
      "110/110 [==============================] - 3s 24ms/step - loss: 0.2171 - accuracy: 0.9223 - val_loss: 0.2144 - val_accuracy: 0.9219\n",
      "Epoch 17/100\n",
      "110/110 [==============================] - 3s 24ms/step - loss: 0.2162 - accuracy: 0.9223 - val_loss: 0.2138 - val_accuracy: 0.9219\n",
      "Epoch 18/100\n",
      "110/110 [==============================] - 2s 22ms/step - loss: 0.2164 - accuracy: 0.9222 - val_loss: 0.2133 - val_accuracy: 0.9219\n",
      "Epoch 19/100\n",
      "110/110 [==============================] - 3s 24ms/step - loss: 0.2155 - accuracy: 0.9223 - val_loss: 0.2132 - val_accuracy: 0.9219\n",
      "Epoch 20/100\n",
      "110/110 [==============================] - 3s 23ms/step - loss: 0.2155 - accuracy: 0.9223 - val_loss: 0.2132 - val_accuracy: 0.9219\n",
      "Epoch 21/100\n",
      "110/110 [==============================] - 2s 22ms/step - loss: 0.2169 - accuracy: 0.9223 - val_loss: 0.2124 - val_accuracy: 0.9219\n",
      "Epoch 22/100\n",
      "110/110 [==============================] - 3s 24ms/step - loss: 0.2158 - accuracy: 0.9223 - val_loss: 0.2179 - val_accuracy: 0.9219\n",
      "Epoch 23/100\n",
      "110/110 [==============================] - 3s 24ms/step - loss: 0.2159 - accuracy: 0.9223 - val_loss: 0.2126 - val_accuracy: 0.9219\n",
      "Epoch 24/100\n",
      "110/110 [==============================] - 3s 25ms/step - loss: 0.2146 - accuracy: 0.9223 - val_loss: 0.2122 - val_accuracy: 0.9219\n",
      "Epoch 25/100\n",
      "110/110 [==============================] - 3s 24ms/step - loss: 0.2151 - accuracy: 0.9223 - val_loss: 0.2130 - val_accuracy: 0.9219\n",
      "Epoch 26/100\n",
      "110/110 [==============================] - 3s 23ms/step - loss: 0.2149 - accuracy: 0.9223 - val_loss: 0.2118 - val_accuracy: 0.9219\n",
      "Epoch 27/100\n",
      "110/110 [==============================] - 2s 23ms/step - loss: 0.2150 - accuracy: 0.9222 - val_loss: 0.2130 - val_accuracy: 0.9219\n",
      "Epoch 28/100\n",
      "110/110 [==============================] - 3s 23ms/step - loss: 0.2154 - accuracy: 0.9223 - val_loss: 0.2119 - val_accuracy: 0.9219\n",
      "Epoch 29/100\n",
      "110/110 [==============================] - 2s 22ms/step - loss: 0.2143 - accuracy: 0.9223 - val_loss: 0.2127 - val_accuracy: 0.9219\n",
      "Epoch 30/100\n",
      "110/110 [==============================] - 2s 23ms/step - loss: 0.2144 - accuracy: 0.9223 - val_loss: 0.2120 - val_accuracy: 0.9219\n",
      "Epoch 31/100\n",
      "110/110 [==============================] - 3s 24ms/step - loss: 0.2144 - accuracy: 0.9223 - val_loss: 0.2117 - val_accuracy: 0.9219\n",
      "Epoch 32/100\n",
      "110/110 [==============================] - 3s 25ms/step - loss: 0.2141 - accuracy: 0.9223 - val_loss: 0.2116 - val_accuracy: 0.9219\n",
      "Epoch 33/100\n",
      "110/110 [==============================] - 3s 24ms/step - loss: 0.2142 - accuracy: 0.9224 - val_loss: 0.2150 - val_accuracy: 0.9219\n",
      "Epoch 34/100\n",
      "110/110 [==============================] - 3s 24ms/step - loss: 0.2142 - accuracy: 0.9222 - val_loss: 0.2115 - val_accuracy: 0.9219\n",
      "Epoch 35/100\n",
      "110/110 [==============================] - 3s 25ms/step - loss: 0.2138 - accuracy: 0.9223 - val_loss: 0.2115 - val_accuracy: 0.9219\n",
      "Epoch 36/100\n",
      "110/110 [==============================] - 3s 23ms/step - loss: 0.2142 - accuracy: 0.9223 - val_loss: 0.2118 - val_accuracy: 0.9219\n",
      "Epoch 37/100\n",
      "110/110 [==============================] - 3s 23ms/step - loss: 0.2136 - accuracy: 0.9223 - val_loss: 0.2110 - val_accuracy: 0.9219\n",
      "Epoch 38/100\n",
      "110/110 [==============================] - 3s 23ms/step - loss: 0.2135 - accuracy: 0.9223 - val_loss: 0.2113 - val_accuracy: 0.9219\n",
      "Epoch 39/100\n",
      "110/110 [==============================] - 3s 23ms/step - loss: 0.2133 - accuracy: 0.9223 - val_loss: 0.2108 - val_accuracy: 0.9219\n",
      "Epoch 40/100\n",
      "110/110 [==============================] - 2s 23ms/step - loss: 0.2136 - accuracy: 0.9223 - val_loss: 0.2123 - val_accuracy: 0.9219\n",
      "Epoch 41/100\n",
      "110/110 [==============================] - 3s 23ms/step - loss: 0.2131 - accuracy: 0.9223 - val_loss: 0.2113 - val_accuracy: 0.9219\n",
      "Epoch 42/100\n",
      "110/110 [==============================] - 3s 23ms/step - loss: 0.2129 - accuracy: 0.9223 - val_loss: 0.2111 - val_accuracy: 0.9219\n",
      "Epoch 43/100\n",
      "110/110 [==============================] - 3s 24ms/step - loss: 0.2132 - accuracy: 0.9222 - val_loss: 0.2104 - val_accuracy: 0.9219\n",
      "Epoch 44/100\n",
      "110/110 [==============================] - 3s 23ms/step - loss: 0.2123 - accuracy: 0.9223 - val_loss: 0.2102 - val_accuracy: 0.9219\n",
      "Epoch 45/100\n",
      "110/110 [==============================] - 3s 23ms/step - loss: 0.2128 - accuracy: 0.9223 - val_loss: 0.2110 - val_accuracy: 0.9219\n",
      "Epoch 46/100\n",
      "110/110 [==============================] - 3s 23ms/step - loss: 0.2122 - accuracy: 0.9223 - val_loss: 0.2109 - val_accuracy: 0.9219\n",
      "Epoch 47/100\n",
      "110/110 [==============================] - 3s 23ms/step - loss: 0.2119 - accuracy: 0.9223 - val_loss: 0.2102 - val_accuracy: 0.9219\n",
      "Epoch 48/100\n",
      "110/110 [==============================] - 2s 23ms/step - loss: 0.2117 - accuracy: 0.9223 - val_loss: 0.2102 - val_accuracy: 0.9219\n",
      "Epoch 49/100\n",
      "110/110 [==============================] - 3s 23ms/step - loss: 0.2117 - accuracy: 0.9223 - val_loss: 0.2096 - val_accuracy: 0.9219\n",
      "Epoch 50/100\n",
      "110/110 [==============================] - 3s 23ms/step - loss: 0.2116 - accuracy: 0.9223 - val_loss: 0.2107 - val_accuracy: 0.9219\n",
      "Epoch 51/100\n",
      "110/110 [==============================] - 3s 24ms/step - loss: 0.2118 - accuracy: 0.9223 - val_loss: 0.2097 - val_accuracy: 0.9219\n",
      "Epoch 52/100\n",
      "110/110 [==============================] - 3s 24ms/step - loss: 0.2111 - accuracy: 0.9223 - val_loss: 0.2093 - val_accuracy: 0.9219\n",
      "Epoch 53/100\n",
      "110/110 [==============================] - 3s 23ms/step - loss: 0.2112 - accuracy: 0.9223 - val_loss: 0.2096 - val_accuracy: 0.9219\n",
      "Epoch 54/100\n",
      "110/110 [==============================] - 3s 23ms/step - loss: 0.2116 - accuracy: 0.9224 - val_loss: 0.2093 - val_accuracy: 0.9219\n",
      "Epoch 55/100\n",
      "110/110 [==============================] - 3s 24ms/step - loss: 0.2108 - accuracy: 0.9224 - val_loss: 0.2098 - val_accuracy: 0.9219\n",
      "Epoch 56/100\n",
      "110/110 [==============================] - 3s 24ms/step - loss: 0.2110 - accuracy: 0.9223 - val_loss: 0.2106 - val_accuracy: 0.9219\n",
      "Epoch 57/100\n",
      "110/110 [==============================] - 3s 24ms/step - loss: 0.2106 - accuracy: 0.9223 - val_loss: 0.2092 - val_accuracy: 0.9219\n",
      "Epoch 58/100\n",
      "110/110 [==============================] - 3s 24ms/step - loss: 0.2107 - accuracy: 0.9223 - val_loss: 0.2093 - val_accuracy: 0.9219\n",
      "Epoch 59/100\n",
      "110/110 [==============================] - 3s 24ms/step - loss: 0.2100 - accuracy: 0.9223 - val_loss: 0.2091 - val_accuracy: 0.9219\n",
      "Epoch 60/100\n",
      "110/110 [==============================] - 3s 23ms/step - loss: 0.2105 - accuracy: 0.9223 - val_loss: 0.2089 - val_accuracy: 0.9219\n",
      "Epoch 61/100\n",
      "110/110 [==============================] - 3s 23ms/step - loss: 0.2106 - accuracy: 0.9223 - val_loss: 0.2095 - val_accuracy: 0.9219\n",
      "Epoch 62/100\n",
      "110/110 [==============================] - 2s 23ms/step - loss: 0.2105 - accuracy: 0.9224 - val_loss: 0.2087 - val_accuracy: 0.9219\n",
      "Epoch 63/100\n",
      "110/110 [==============================] - 3s 24ms/step - loss: 0.2100 - accuracy: 0.9223 - val_loss: 0.2088 - val_accuracy: 0.9219\n",
      "Epoch 64/100\n",
      "110/110 [==============================] - 3s 24ms/step - loss: 0.2106 - accuracy: 0.9223 - val_loss: 0.2087 - val_accuracy: 0.9219\n",
      "Epoch 65/100\n",
      "110/110 [==============================] - 3s 24ms/step - loss: 0.2103 - accuracy: 0.9224 - val_loss: 0.2092 - val_accuracy: 0.9219\n",
      "Epoch 66/100\n",
      "110/110 [==============================] - 3s 23ms/step - loss: 0.2100 - accuracy: 0.9224 - val_loss: 0.2086 - val_accuracy: 0.9219\n",
      "Epoch 67/100\n",
      "110/110 [==============================] - 3s 24ms/step - loss: 0.2100 - accuracy: 0.9223 - val_loss: 0.2089 - val_accuracy: 0.9219\n",
      "Epoch 68/100\n",
      "110/110 [==============================] - 3s 24ms/step - loss: 0.2098 - accuracy: 0.9224 - val_loss: 0.2091 - val_accuracy: 0.9219\n",
      "Epoch 69/100\n",
      "110/110 [==============================] - 3s 23ms/step - loss: 0.2104 - accuracy: 0.9223 - val_loss: 0.2090 - val_accuracy: 0.9219\n",
      "Epoch 70/100\n",
      "110/110 [==============================] - 3s 24ms/step - loss: 0.2100 - accuracy: 0.9224 - val_loss: 0.2089 - val_accuracy: 0.9219\n",
      "Epoch 71/100\n",
      "110/110 [==============================] - 3s 23ms/step - loss: 0.2102 - accuracy: 0.9224 - val_loss: 0.2085 - val_accuracy: 0.9219\n",
      "Epoch 72/100\n",
      "110/110 [==============================] - 3s 24ms/step - loss: 0.2093 - accuracy: 0.9224 - val_loss: 0.2085 - val_accuracy: 0.9219\n",
      "Epoch 73/100\n",
      "110/110 [==============================] - 3s 23ms/step - loss: 0.2099 - accuracy: 0.9224 - val_loss: 0.2100 - val_accuracy: 0.9219\n",
      "Epoch 74/100\n",
      "110/110 [==============================] - 3s 23ms/step - loss: 0.2097 - accuracy: 0.9224 - val_loss: 0.2109 - val_accuracy: 0.9218\n",
      "Epoch 75/100\n",
      "110/110 [==============================] - 3s 23ms/step - loss: 0.2098 - accuracy: 0.9224 - val_loss: 0.2085 - val_accuracy: 0.9219\n",
      "Epoch 76/100\n",
      "110/110 [==============================] - 3s 23ms/step - loss: 0.2093 - accuracy: 0.9224 - val_loss: 0.2088 - val_accuracy: 0.9219\n",
      "Epoch 77/100\n",
      "110/110 [==============================] - 2s 22ms/step - loss: 0.2102 - accuracy: 0.9224 - val_loss: 0.2087 - val_accuracy: 0.9218\n",
      "Epoch 78/100\n",
      "110/110 [==============================] - 3s 23ms/step - loss: 0.2102 - accuracy: 0.9224 - val_loss: 0.2089 - val_accuracy: 0.9219\n",
      "Epoch 79/100\n",
      "110/110 [==============================] - 3s 23ms/step - loss: 0.2100 - accuracy: 0.9224 - val_loss: 0.2093 - val_accuracy: 0.9219\n",
      "Epoch 80/100\n",
      "110/110 [==============================] - 3s 23ms/step - loss: 0.2095 - accuracy: 0.9224 - val_loss: 0.2085 - val_accuracy: 0.9219\n",
      "Epoch 81/100\n",
      "110/110 [==============================] - 3s 23ms/step - loss: 0.2098 - accuracy: 0.9224 - val_loss: 0.2090 - val_accuracy: 0.9219\n",
      "Epoch 82/100\n",
      "110/110 [==============================] - 3s 24ms/step - loss: 0.2097 - accuracy: 0.9224 - val_loss: 0.2088 - val_accuracy: 0.9219\n",
      "Epoch 83/100\n",
      "110/110 [==============================] - 3s 24ms/step - loss: 0.2098 - accuracy: 0.9224 - val_loss: 0.2085 - val_accuracy: 0.9219\n",
      "Epoch 84/100\n",
      "110/110 [==============================] - 3s 24ms/step - loss: 0.2093 - accuracy: 0.9224 - val_loss: 0.2084 - val_accuracy: 0.9219\n",
      "Epoch 85/100\n",
      "110/110 [==============================] - 3s 23ms/step - loss: 0.2098 - accuracy: 0.9224 - val_loss: 0.2082 - val_accuracy: 0.9219\n",
      "Epoch 86/100\n",
      "110/110 [==============================] - 3s 23ms/step - loss: 0.2094 - accuracy: 0.9224 - val_loss: 0.2092 - val_accuracy: 0.9219\n",
      "Epoch 87/100\n",
      "110/110 [==============================] - 3s 24ms/step - loss: 0.2090 - accuracy: 0.9224 - val_loss: 0.2085 - val_accuracy: 0.9219\n",
      "Epoch 88/100\n",
      "110/110 [==============================] - 3s 23ms/step - loss: 0.2097 - accuracy: 0.9224 - val_loss: 0.2090 - val_accuracy: 0.9219\n",
      "Epoch 89/100\n",
      "110/110 [==============================] - 3s 23ms/step - loss: 0.2099 - accuracy: 0.9224 - val_loss: 0.2097 - val_accuracy: 0.9219\n",
      "Epoch 90/100\n",
      "110/110 [==============================] - 3s 23ms/step - loss: 0.2097 - accuracy: 0.9224 - val_loss: 0.2084 - val_accuracy: 0.9219\n",
      "Epoch 91/100\n",
      "110/110 [==============================] - 3s 23ms/step - loss: 0.2092 - accuracy: 0.9224 - val_loss: 0.2101 - val_accuracy: 0.9219\n",
      "Epoch 92/100\n",
      "110/110 [==============================] - 3s 23ms/step - loss: 0.2092 - accuracy: 0.9224 - val_loss: 0.2089 - val_accuracy: 0.9219\n",
      "Epoch 93/100\n",
      "110/110 [==============================] - 3s 24ms/step - loss: 0.2098 - accuracy: 0.9224 - val_loss: 0.2083 - val_accuracy: 0.9219\n",
      "Epoch 94/100\n",
      "110/110 [==============================] - 3s 24ms/step - loss: 0.2095 - accuracy: 0.9224 - val_loss: 0.2108 - val_accuracy: 0.9219\n",
      "Epoch 95/100\n",
      "110/110 [==============================] - 3s 23ms/step - loss: 0.2093 - accuracy: 0.9224 - val_loss: 0.2092 - val_accuracy: 0.9219\n",
      "Epoch 96/100\n",
      "110/110 [==============================] - 3s 23ms/step - loss: 0.2092 - accuracy: 0.9223 - val_loss: 0.2086 - val_accuracy: 0.9219\n",
      "Epoch 97/100\n",
      "110/110 [==============================] - 3s 23ms/step - loss: 0.2096 - accuracy: 0.9224 - val_loss: 0.2092 - val_accuracy: 0.9219\n",
      "Epoch 98/100\n",
      "110/110 [==============================] - 3s 23ms/step - loss: 0.2092 - accuracy: 0.9224 - val_loss: 0.2085 - val_accuracy: 0.9219\n",
      "Epoch 99/100\n",
      "110/110 [==============================] - 3s 23ms/step - loss: 0.2095 - accuracy: 0.9224 - val_loss: 0.2082 - val_accuracy: 0.9219\n",
      "Epoch 100/100\n",
      "110/110 [==============================] - 3s 24ms/step - loss: 0.2092 - accuracy: 0.9224 - val_loss: 0.2092 - val_accuracy: 0.9219\n"
     ]
    }
   ],
   "source": [
    "# fit model\n",
    "history_lstm = model_lstm.fit(X_train, y_train, epochs=100, batch_size=1024, verbose=1, validation_data=(X_val, y_val))"
   ]
  },
  {
   "cell_type": "code",
   "execution_count": 69,
   "metadata": {},
   "outputs": [
    {
     "name": "stdout",
     "output_type": "stream",
     "text": [
      "2573/2573 [==============================] - 19s 7ms/step\n",
      "LSTM Accuracy:  0.7663241509983967\n"
     ]
    }
   ],
   "source": [
    "# evaluate model on test data\n",
    "y_prediction_lstm = model_lstm.predict(X_test)\n",
    "\n",
    "threshold = 0.5\n",
    "\n",
    "y_prediction_lstm = np.where(y_prediction_lstm > threshold, 1, 0)\n",
    "\n",
    "accuracyScore_lstm = accuracy_score(y_test, y_prediction_lstm)\n",
    "\n",
    "print(\"LSTM Accuracy: \", accuracyScore_lstm)\n",
    "\n"
   ]
  },
  {
   "cell_type": "code",
   "execution_count": 70,
   "metadata": {},
   "outputs": [
    {
     "name": "stderr",
     "output_type": "stream",
     "text": [
      "/home/sukhmeet/miniconda3/envs/tf/lib/python3.9/site-packages/keras/src/engine/training.py:3000: UserWarning: You are saving your model as an HDF5 file via `model.save()`. This file format is considered legacy. We recommend using instead the native Keras format, e.g. `model.save('my_model.keras')`.\n",
      "  saving_api.save_model(\n"
     ]
    }
   ],
   "source": [
    "# save model with time and accuracy\n",
    "import datetime\n",
    "model_lstm.save('model_lstm_'+datetime.datetime.now().strftime(\"%Y%m%d-%H%M%S\")+'_'+str(accuracyScore_lstm)[0:5]+'.h5')"
   ]
  },
  {
   "cell_type": "code",
   "execution_count": 71,
   "metadata": {},
   "outputs": [
    {
     "name": "stdout",
     "output_type": "stream",
     "text": [
      "   6/2573 [..............................] - ETA: 28s - loss: 1.4393 - accuracy: 0.0417 "
     ]
    },
    {
     "name": "stdout",
     "output_type": "stream",
     "text": [
      "2573/2573 [==============================] - 28s 11ms/step - loss: 0.4596 - accuracy: 0.7663\n",
      "Accuracy: 76.632416\n",
      "Loss: 45.959011\n"
     ]
    }
   ],
   "source": [
    "# evaluate model on test data\n",
    "loss_lstm, accuracy_lstm = model_lstm.evaluate(X_test, y_test, verbose=1)\n",
    "print('Accuracy: %f' % (accuracy_lstm*100))\n",
    "print('Loss: %f' % (loss_lstm*100))"
   ]
  },
  {
   "cell_type": "code",
   "execution_count": 72,
   "metadata": {},
   "outputs": [
    {
     "data": {
      "image/png": "[encoded data removed]",
      "text/plain": [
       "<Figure size 1000x1000 with 1 Axes>"
      ]
     },
     "metadata": {},
     "output_type": "display_data"
    }
   ],
   "source": [
    "# plot loss during training\n",
    "plt.figure(figsize=(10, 10))\n",
    "plt.title('Loss')\n",
    "plt.plot(history_lstm.history['loss'], label='train')\n",
    "plt.plot(history_lstm.history['val_loss'], label='test')\n",
    "plt.legend()\n",
    "plt.show()\n"
   ]
  },
  {
   "cell_type": "code",
   "execution_count": 75,
   "metadata": {},
   "outputs": [
    {
     "data": {
      "image/png": "[encoded data removed]",
      "text/plain": [
       "<Figure size 1000x1000 with 2 Axes>"
      ]
     },
     "metadata": {},
     "output_type": "display_data"
    }
   ],
   "source": [
    "# confusion matrix\n",
    "def plot_confusion_matrix(y_test, y_prediction, title):\n",
    "    cm = confusion_matrix(y_test, y_prediction)\n",
    "    plt.figure(figsize=(10, 10))\n",
    "    sns.heatmap(cm, annot=True, fmt=\"d\")\n",
    "    plt.title(title)\n",
    "    plt.ylabel('Actual label')\n",
    "    plt.xlabel('Predicted label')\n",
    "    plt.show()\n",
    "\n",
    "plot_confusion_matrix(y_test, y_prediction_lstm, \"LSTM Confusion Matrix\")\n"
   ]
  },
  {
   "cell_type": "code",
   "execution_count": null,
   "metadata": {},
   "outputs": [],
   "source": []
  },
  {
   "cell_type": "code",
   "execution_count": null,
   "metadata": {},
   "outputs": [],
   "source": []
  }
 ],
 "metadata": {
  "kernelspec": {
   "display_name": "Python 3",
   "language": "python",
   "name": "python3"
  },
  "language_info": {
   "codemirror_mode": {
    "name": "ipython",
    "version": 3
   },
   "file_extension": ".py",
   "mimetype": "text/x-python",
   "name": "python",
   "nbconvert_exporter": "python",
   "pygments_lexer": "ipython3",
   "version": "3.9.17"
  }
 },
 "nbformat": 4,
 "nbformat_minor": 2
}
