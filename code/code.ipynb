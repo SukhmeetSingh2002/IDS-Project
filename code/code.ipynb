{
 "cells": [
  {
   "cell_type": "code",
   "execution_count": null,
   "metadata": {},
   "outputs": [],
   "source": []
  },
  {
   "cell_type": "code",
   "execution_count": null,
   "metadata": {},
   "outputs": [],
   "source": [
    "# shape of test data\n",
    "X_test.shape"
   ]
  },
  {
   "cell_type": "code",
   "execution_count": null,
   "metadata": {},
   "outputs": [],
   "source": [
    "%pip install imblearn"
   ]
  },
  {
   "cell_type": "markdown",
   "metadata": {},
   "source": [
    "# Import Section"
   ]
  },
  {
   "cell_type": "code",
   "execution_count": 1,
   "metadata": {},
   "outputs": [
    {
     "name": "stderr",
     "output_type": "stream",
     "text": [
      "2023-11-03 11:34:26.270802: I tensorflow/core/util/port.cc:110] oneDNN custom operations are on. You may see slightly different numerical results due to floating-point round-off errors from different computation orders. To turn them off, set the environment variable `TF_ENABLE_ONEDNN_OPTS=0`.\n",
      "2023-11-03 11:34:26.318201: I tensorflow/core/platform/cpu_feature_guard.cc:182] This TensorFlow binary is optimized to use available CPU instructions in performance-critical operations.\n",
      "To enable the following instructions: AVX2 AVX512F AVX512_VNNI FMA, in other operations, rebuild TensorFlow with the appropriate compiler flags.\n",
      "2023-11-03 11:34:27.146696: W tensorflow/compiler/tf2tensorrt/utils/py_utils.cc:38] TF-TRT Warning: Could not find TensorRT\n"
     ]
    }
   ],
   "source": [
    "import numpy as np\n",
    "import matplotlib.pyplot as plt\n",
    "import pandas as pd\n",
    "import seaborn as sns\n",
    "\n",
    "\n",
    "from sklearn.preprocessing import StandardScaler\n",
    "from sklearn.model_selection import train_test_split\n",
    "from sklearn.metrics import accuracy_score, confusion_matrix, classification_report\n",
    "from sklearn.ensemble import RandomForestClassifier\n",
    "from keras import Sequential\n",
    "from keras.layers import Dense, Dropout, LSTM\n",
    "from keras.models import load_model\n",
    "from xgboost import XGBClassifier\n",
    "from sklearn.metrics import roc_curve, auc, roc_auc_score\n",
    "\n"
   ]
  },
  {
   "cell_type": "markdown",
   "metadata": {},
   "source": [
    "# Loading Dataset"
   ]
  },
  {
   "cell_type": "code",
   "execution_count": 2,
   "metadata": {},
   "outputs": [],
   "source": [
    "FILE_PATH_TRAINING = \"../dataset/UNSW_NB15_training-set.csv\"\n",
    "FILE_PATH_TESTING = \"../dataset/UNSW_NB15_testing-set.csv\"\n",
    "\n",
    "df_training =   pd.read_csv(FILE_PATH_TRAINING)\n",
    "df_testing =    pd.read_csv(FILE_PATH_TESTING)"
   ]
  },
  {
   "cell_type": "code",
   "execution_count": null,
   "metadata": {},
   "outputs": [],
   "source": [
    "df_training.shape, df_testing.shape"
   ]
  },
  {
   "cell_type": "code",
   "execution_count": null,
   "metadata": {},
   "outputs": [],
   "source": [
    "print(*df_training.columns, sep=\"\\n\")"
   ]
  },
  {
   "cell_type": "code",
   "execution_count": null,
   "metadata": {},
   "outputs": [],
   "source": [
    "for col in df_training.columns:\n",
    "    if 50 >=df_training[col].nunique() :\n",
    "        print(col, df_training[col].nunique())"
   ]
  },
  {
   "cell_type": "markdown",
   "metadata": {},
   "source": [
    "# EDA"
   ]
  },
  {
   "cell_type": "code",
   "execution_count": null,
   "metadata": {},
   "outputs": [],
   "source": [
    "df_training.info()"
   ]
  },
  {
   "cell_type": "code",
   "execution_count": null,
   "metadata": {},
   "outputs": [],
   "source": [
    "df_training.describe()\n",
    "# before log transformation"
   ]
  },
  {
   "cell_type": "code",
   "execution_count": null,
   "metadata": {},
   "outputs": [],
   "source": [
    "df_training.describe()\n",
    "# After log transformation"
   ]
  },
  {
   "cell_type": "code",
   "execution_count": null,
   "metadata": {},
   "outputs": [],
   "source": [
    "def plot_normal_distribution(df):\n",
    "    for column in df.columns:\n",
    "        sns.displot(df[column])\n",
    "        plt.show()\n",
    "        \n",
    "plot_normal_distribution(df_training)"
   ]
  },
  {
   "cell_type": "markdown",
   "metadata": {},
   "source": [
    "# Data Preprocessing"
   ]
  },
  {
   "cell_type": "markdown",
   "metadata": {},
   "source": [
    "## Removing columns"
   ]
  },
  {
   "cell_type": "code",
   "execution_count": 3,
   "metadata": {},
   "outputs": [],
   "source": [
    "columns_to_remove = ['id','proto','state','service','attack_cat']\n",
    "df_training.drop(columns_to_remove, axis=1, inplace=True)\n",
    "df_testing.drop(columns_to_remove, axis=1,inplace=True)\n"
   ]
  },
  {
   "cell_type": "markdown",
   "metadata": {},
   "source": [
    "### Remove columns for multi-class classification"
   ]
  },
  {
   "cell_type": "code",
   "execution_count": null,
   "metadata": {},
   "outputs": [],
   "source": [
    "columns_to_remove = ['id','proto','state','service','label']\n",
    "df_training.drop(columns_to_remove, axis=1, inplace=True)\n",
    "df_testing.drop(columns_to_remove, axis=1,inplace=True)"
   ]
  },
  {
   "cell_type": "markdown",
   "metadata": {},
   "source": [
    "## Log Modification"
   ]
  },
  {
   "cell_type": "code",
   "execution_count": 4,
   "metadata": {},
   "outputs": [],
   "source": [
    "for column in df_training.columns:\n",
    "    if column !='label' and df_training[column].nunique() > 50:\n",
    "        df_training[column] = np.log(df_training[column]+1)\n",
    "        df_testing[column] = np.log(df_testing[column]+1)\n",
    "    "
   ]
  },
  {
   "cell_type": "markdown",
   "metadata": {},
   "source": [
    "## Data Standardization"
   ]
  },
  {
   "cell_type": "code",
   "execution_count": 5,
   "metadata": {},
   "outputs": [],
   "source": [
    "standard_scaler = StandardScaler()\n",
    "\n",
    "for column in df_training.columns:\n",
    "    if column != 'label' and column != 'attack_cat':\n",
    "        standard_scaler.fit(df_training[column].values.reshape(-1,1))\n",
    "        df_training[column] = standard_scaler.transform(df_training[column].values.reshape(-1,1))\n",
    "        df_testing[column] = standard_scaler.transform(df_testing[column].values.reshape(-1,1))"
   ]
  },
  {
   "cell_type": "code",
   "execution_count": null,
   "metadata": {},
   "outputs": [],
   "source": [
    "# after standardization\n",
    "df_training.describe()"
   ]
  },
  {
   "cell_type": "markdown",
   "metadata": {},
   "source": []
  },
  {
   "cell_type": "markdown",
   "metadata": {},
   "source": [
    "# Train Test Split"
   ]
  },
  {
   "cell_type": "markdown",
   "metadata": {},
   "source": [
    "## Splitting"
   ]
  },
  {
   "cell_type": "code",
   "execution_count": 6,
   "metadata": {},
   "outputs": [],
   "source": [
    "X_train = df_training.drop('label', axis=1)\n",
    "y_train = df_training['label']\n",
    "\n",
    "X_test = df_testing.drop('label', axis=1)\n",
    "y_test = df_testing['label']\n",
    "\n"
   ]
  },
  {
   "cell_type": "markdown",
   "metadata": {},
   "source": [
    "### Spliting for multiclass classification"
   ]
  },
  {
   "cell_type": "code",
   "execution_count": null,
   "metadata": {},
   "outputs": [],
   "source": [
    "X_train = df_training.drop('attack_cat', axis=1)\n",
    "y_train = df_training['attack_cat']\n",
    "\n",
    "X_test = df_testing.drop('attack_cat', axis=1)\n",
    "y_test = df_testing['attack_cat']"
   ]
  },
  {
   "cell_type": "markdown",
   "metadata": {},
   "source": [
    "### Encoding for multiclass classification"
   ]
  },
  {
   "cell_type": "code",
   "execution_count": null,
   "metadata": {},
   "outputs": [],
   "source": [
    "# encode attack_cat using label encoder\n",
    "from sklearn.preprocessing import LabelEncoder\n",
    "labelencoder_y = LabelEncoder()\n",
    "y_train = labelencoder_y.fit_transform(y_train)\n",
    "y_test = labelencoder_y.transform(y_test)\n",
    "\n",
    "\n",
    "# y_train = pd.get_dummies(y_train)\n",
    "# y_test = pd.get_dummies(y_test)\n"
   ]
  },
  {
   "cell_type": "code",
   "execution_count": 10,
   "metadata": {},
   "outputs": [
    {
     "name": "stdout",
     "output_type": "stream",
     "text": [
      "{0: 56000, 1: 119341}\n"
     ]
    }
   ],
   "source": [
    "f={}\n",
    "for i in range(len(y_train)):\n",
    "    if y_train[i] not in f:\n",
    "        f[y_train[i]]=1\n",
    "    else:\n",
    "        f[y_train[i]]+=1\n",
    "print(f)"
   ]
  },
  {
   "cell_type": "code",
   "execution_count": 9,
   "metadata": {},
   "outputs": [
    {
     "name": "stdout",
     "output_type": "stream",
     "text": [
      "{0: 2.131089285714286, 1: 1.0}\n"
     ]
    }
   ],
   "source": [
    "# Calculate class weights to handle class imbalance\n",
    "class_counts = np.bincount(y_train)\n",
    "class_weights = dict(enumerate((max(class_counts) / class_counts).astype(float)))\n",
    "print(class_weights)\n"
   ]
  },
  {
   "cell_type": "markdown",
   "metadata": {},
   "source": [
    "### Random Oversampling for multiclass classification"
   ]
  },
  {
   "cell_type": "code",
   "execution_count": 31,
   "metadata": {},
   "outputs": [],
   "source": [
    "from imblearn.over_sampling import RandomOverSampler\n",
    "\n",
    "# Create a RandomOverSampler object\n",
    "oversampler = RandomOverSampler()\n",
    "\n",
    "# Fit and transform the data\n",
    "X_train_oversampled, y_train_oversampled = oversampler.fit_resample(X_train, y_train)\n"
   ]
  },
  {
   "cell_type": "code",
   "execution_count": null,
   "metadata": {},
   "outputs": [],
   "source": [
    "X_train, y_train = X_train_oversampled, y_train_oversampled"
   ]
  },
  {
   "cell_type": "code",
   "execution_count": null,
   "metadata": {},
   "outputs": [],
   "source": [
    "X_train.shape,y_train.shape,X_test.shape,y_test.shape"
   ]
  },
  {
   "cell_type": "markdown",
   "metadata": {},
   "source": [
    "## Validation split"
   ]
  },
  {
   "cell_type": "code",
   "execution_count": 11,
   "metadata": {},
   "outputs": [],
   "source": [
    "X_train,X_val,y_train,y_val = train_test_split(X_train,y_train,test_size=0.2,random_state=42)"
   ]
  },
  {
   "cell_type": "code",
   "execution_count": 35,
   "metadata": {},
   "outputs": [
    {
     "data": {
      "text/plain": [
       "((112217, 39), (112217,), (28055, 39), (28055,))"
      ]
     },
     "execution_count": 35,
     "metadata": {},
     "output_type": "execute_result"
    }
   ],
   "source": [
    "X_train.shape,y_train.shape,X_val.shape,y_val.shape"
   ]
  },
  {
   "cell_type": "code",
   "execution_count": 12,
   "metadata": {},
   "outputs": [
    {
     "name": "stderr",
     "output_type": "stream",
     "text": [
      "[Parallel(n_jobs=50)]: Using backend ThreadingBackend with 50 concurrent workers.\n",
      "[Parallel(n_jobs=50)]: Done 100 out of 100 | elapsed:    1.8s finished\n"
     ]
    },
    {
     "data": {
      "text/html": [
       "<style>#sk-container-id-1 {color: black;}#sk-container-id-1 pre{padding: 0;}#sk-container-id-1 div.sk-toggleable {background-color: white;}#sk-container-id-1 label.sk-toggleable__label {cursor: pointer;display: block;width: 100%;margin-bottom: 0;padding: 0.3em;box-sizing: border-box;text-align: center;}#sk-container-id-1 label.sk-toggleable__label-arrow:before {content: \"▸\";float: left;margin-right: 0.25em;color: #696969;}#sk-container-id-1 label.sk-toggleable__label-arrow:hover:before {color: black;}#sk-container-id-1 div.sk-estimator:hover label.sk-toggleable__label-arrow:before {color: black;}#sk-container-id-1 div.sk-toggleable__content {max-height: 0;max-width: 0;overflow: hidden;text-align: left;background-color: #f0f8ff;}#sk-container-id-1 div.sk-toggleable__content pre {margin: 0.2em;color: black;border-radius: 0.25em;background-color: #f0f8ff;}#sk-container-id-1 input.sk-toggleable__control:checked~div.sk-toggleable__content {max-height: 200px;max-width: 100%;overflow: auto;}#sk-container-id-1 input.sk-toggleable__control:checked~label.sk-toggleable__label-arrow:before {content: \"▾\";}#sk-container-id-1 div.sk-estimator input.sk-toggleable__control:checked~label.sk-toggleable__label {background-color: #d4ebff;}#sk-container-id-1 div.sk-label input.sk-toggleable__control:checked~label.sk-toggleable__label {background-color: #d4ebff;}#sk-container-id-1 input.sk-hidden--visually {border: 0;clip: rect(1px 1px 1px 1px);clip: rect(1px, 1px, 1px, 1px);height: 1px;margin: -1px;overflow: hidden;padding: 0;position: absolute;width: 1px;}#sk-container-id-1 div.sk-estimator {font-family: monospace;background-color: #f0f8ff;border: 1px dotted black;border-radius: 0.25em;box-sizing: border-box;margin-bottom: 0.5em;}#sk-container-id-1 div.sk-estimator:hover {background-color: #d4ebff;}#sk-container-id-1 div.sk-parallel-item::after {content: \"\";width: 100%;border-bottom: 1px solid gray;flex-grow: 1;}#sk-container-id-1 div.sk-label:hover label.sk-toggleable__label {background-color: #d4ebff;}#sk-container-id-1 div.sk-serial::before {content: \"\";position: absolute;border-left: 1px solid gray;box-sizing: border-box;top: 0;bottom: 0;left: 50%;z-index: 0;}#sk-container-id-1 div.sk-serial {display: flex;flex-direction: column;align-items: center;background-color: white;padding-right: 0.2em;padding-left: 0.2em;position: relative;}#sk-container-id-1 div.sk-item {position: relative;z-index: 1;}#sk-container-id-1 div.sk-parallel {display: flex;align-items: stretch;justify-content: center;background-color: white;position: relative;}#sk-container-id-1 div.sk-item::before, #sk-container-id-1 div.sk-parallel-item::before {content: \"\";position: absolute;border-left: 1px solid gray;box-sizing: border-box;top: 0;bottom: 0;left: 50%;z-index: -1;}#sk-container-id-1 div.sk-parallel-item {display: flex;flex-direction: column;z-index: 1;position: relative;background-color: white;}#sk-container-id-1 div.sk-parallel-item:first-child::after {align-self: flex-end;width: 50%;}#sk-container-id-1 div.sk-parallel-item:last-child::after {align-self: flex-start;width: 50%;}#sk-container-id-1 div.sk-parallel-item:only-child::after {width: 0;}#sk-container-id-1 div.sk-dashed-wrapped {border: 1px dashed gray;margin: 0 0.4em 0.5em 0.4em;box-sizing: border-box;padding-bottom: 0.4em;background-color: white;}#sk-container-id-1 div.sk-label label {font-family: monospace;font-weight: bold;display: inline-block;line-height: 1.2em;}#sk-container-id-1 div.sk-label-container {text-align: center;}#sk-container-id-1 div.sk-container {/* jupyter's `normalize.less` sets `[hidden] { display: none; }` but bootstrap.min.css set `[hidden] { display: none !important; }` so we also need the `!important` here to be able to override the default hidden behavior on the sphinx rendered scikit-learn.org. See: https://github.com/scikit-learn/scikit-learn/issues/21755 */display: inline-block !important;position: relative;}#sk-container-id-1 div.sk-text-repr-fallback {display: none;}</style><div id=\"sk-container-id-1\" class=\"sk-top-container\"><div class=\"sk-text-repr-fallback\"><pre>RandomForestClassifier(criterion=&#x27;entropy&#x27;, n_jobs=50, random_state=42,\n",
       "                       verbose=1)</pre><b>In a Jupyter environment, please rerun this cell to show the HTML representation or trust the notebook. <br />On GitHub, the HTML representation is unable to render, please try loading this page with nbviewer.org.</b></div><div class=\"sk-container\" hidden><div class=\"sk-item\"><div class=\"sk-estimator sk-toggleable\"><input class=\"sk-toggleable__control sk-hidden--visually\" id=\"sk-estimator-id-1\" type=\"checkbox\" checked><label for=\"sk-estimator-id-1\" class=\"sk-toggleable__label sk-toggleable__label-arrow\">RandomForestClassifier</label><div class=\"sk-toggleable__content\"><pre>RandomForestClassifier(criterion=&#x27;entropy&#x27;, n_jobs=50, random_state=42,\n",
       "                       verbose=1)</pre></div></div></div></div></div>"
      ],
      "text/plain": [
       "RandomForestClassifier(criterion='entropy', n_jobs=50, random_state=42,\n",
       "                       verbose=1)"
      ]
     },
     "execution_count": 12,
     "metadata": {},
     "output_type": "execute_result"
    }
   ],
   "source": [
    "from sklearn.ensemble import RandomForestClassifier\n",
    "\n",
    "# Fit a Random Forest model using class weights\n",
    "rf = RandomForestClassifier(n_estimators=100, n_jobs=50, random_state=42, verbose=1, criterion='entropy',warm_start=False)\n",
    "rf.fit(X_train, y_train)\n",
    "\n"
   ]
  },
  {
   "cell_type": "code",
   "execution_count": 13,
   "metadata": {},
   "outputs": [
    {
     "name": "stdout",
     "output_type": "stream",
     "text": [
      "Accuracy: 0.8720667541174756\n"
     ]
    },
    {
     "name": "stderr",
     "output_type": "stream",
     "text": [
      "[Parallel(n_jobs=50)]: Using backend ThreadingBackend with 50 concurrent workers.\n",
      "[Parallel(n_jobs=50)]: Done 100 out of 100 | elapsed:    0.1s finished\n"
     ]
    }
   ],
   "source": [
    "y_pred = rf.predict(X_test)\n",
    "accuracy = accuracy_score(y_test, y_pred)\n",
    "print(\"Accuracy:\", accuracy)\n"
   ]
  },
  {
   "cell_type": "code",
   "execution_count": 14,
   "metadata": {},
   "outputs": [
    {
     "name": "stdout",
     "output_type": "stream",
     "text": [
      "              precision    recall  f1-score   support\n",
      "\n",
      "           0       0.97      0.73      0.84     37000\n",
      "           1       0.82      0.98      0.89     45332\n",
      "\n",
      "    accuracy                           0.87     82332\n",
      "   macro avg       0.90      0.86      0.87     82332\n",
      "weighted avg       0.89      0.87      0.87     82332\n",
      "\n"
     ]
    },
    {
     "data": {
      "image/png": "[encoded data removed]",
      "text/plain": [
       "<Figure size 1000x1000 with 2 Axes>"
      ]
     },
     "metadata": {},
     "output_type": "display_data"
    }
   ],
   "source": [
    "print(classification_report(y_test, y_pred))\n",
    "# plot confusion matrix\n",
    "cm = confusion_matrix(y_test, y_pred)\n",
    "plt.figure(figsize=(10,10))\n",
    "sns.heatmap(cm, annot=True, fmt=\".0f\", linewidths=.5, square = True, cmap = 'Blues_r');\n",
    "plt.ylabel('Actual label');\n",
    "plt.xlabel('Predicted label');\n"
   ]
  },
  {
   "cell_type": "code",
   "execution_count": 43,
   "metadata": {},
   "outputs": [],
   "source": [
    "\n",
    "# Get feature importances\n",
    "feature_importances = rf.feature_importances_"
   ]
  },
  {
   "cell_type": "code",
   "execution_count": 44,
   "metadata": {},
   "outputs": [
    {
     "data": {
      "text/plain": [
       "array([2.53301689e-02, 9.38280637e-03, 1.49808360e-02, 4.24626549e-02,\n",
       "       3.48146291e-02, 4.63444468e-02, 1.47269875e-01, 5.25307784e-02,\n",
       "       4.84680088e-02, 6.67049909e-02, 1.18438815e-02, 8.80576954e-03,\n",
       "       2.82458444e-02, 3.22511137e-02, 1.40812990e-02, 1.09714324e-02,\n",
       "       8.03620835e-03, 8.42620438e-03, 8.05522186e-03, 2.33623927e-04,\n",
       "       2.57836069e-02, 2.18951245e-02, 2.04871041e-02, 4.02369029e-02,\n",
       "       3.05743252e-02, 1.66711928e-03, 1.58309908e-03, 2.61853875e-02,\n",
       "       1.03636426e-01, 9.82160136e-03, 8.54517308e-03, 1.94236262e-02,\n",
       "       2.60861343e-02, 7.61478011e-05, 7.49643097e-05, 1.84389046e-03,\n",
       "       8.93104287e-03, 2.86061618e-02, 5.30236777e-03])"
      ]
     },
     "execution_count": 44,
     "metadata": {},
     "output_type": "execute_result"
    }
   ],
   "source": [
    "feature_importances"
   ]
  },
  {
   "cell_type": "code",
   "execution_count": 15,
   "metadata": {},
   "outputs": [
    {
     "ename": "NameError",
     "evalue": "name 'feature_importances' is not defined",
     "output_type": "error",
     "traceback": [
      "\u001b[0;31m---------------------------------------------------------------------------\u001b[0m",
      "\u001b[0;31mNameError\u001b[0m                                 Traceback (most recent call last)",
      "\u001b[1;32m/home/sukhmeet/temp/IDS-Project/code/code.ipynb Cell 48\u001b[0m line \u001b[0;36m1\n\u001b[0;32m----> <a href='vscode-notebook-cell://ssh-remote%2B172.26.1.165/home/sukhmeet/temp/IDS-Project/code/code.ipynb#X64sdnNjb2RlLXJlbW90ZQ%3D%3D?line=0'>1</a>\u001b[0m feature_importances \u001b[39m=\u001b[39m pd\u001b[39m.\u001b[39mDataFrame({\u001b[39m'\u001b[39m\u001b[39mfeature\u001b[39m\u001b[39m'\u001b[39m: X_train\u001b[39m.\u001b[39mcolumns, \u001b[39m'\u001b[39m\u001b[39mimportance\u001b[39m\u001b[39m'\u001b[39m: feature_importances})\u001b[39m.\u001b[39msort_values(\u001b[39m'\u001b[39m\u001b[39mimportance\u001b[39m\u001b[39m'\u001b[39m, ascending \u001b[39m=\u001b[39m \u001b[39mFalse\u001b[39;00m)\n",
      "\u001b[0;31mNameError\u001b[0m: name 'feature_importances' is not defined"
     ]
    }
   ],
   "source": [
    "feature_importances = pd.DataFrame({'feature': X_train.columns, 'importance': feature_importances}).sort_values('importance', ascending = False)\n"
   ]
  },
  {
   "cell_type": "code",
   "execution_count": 61,
   "metadata": {},
   "outputs": [
    {
     "data": {
      "image/png": "[encoded data removed]",
      "text/plain": [
       "<Figure size 800x600 with 1 Axes>"
      ]
     },
     "metadata": {},
     "output_type": "display_data"
    }
   ],
   "source": [
    "# plot feature importances\n",
    "plt.figure(figsize = (8, 6))\n",
    "sns.barplot(x = 'importance', y = 'feature', data = feature_importances)\n",
    "plt.title('Feature Importances')\n",
    "plt.show()\n"
   ]
  },
  {
   "cell_type": "code",
   "execution_count": 54,
   "metadata": {},
   "outputs": [],
   "source": [
    "# select features with importance greater than 0.01\n",
    "selected_features = feature_importances[feature_importances['importance'] > 0.05]['feature'].values\n"
   ]
  },
  {
   "cell_type": "code",
   "execution_count": 55,
   "metadata": {},
   "outputs": [
    {
     "data": {
      "text/plain": [
       "(4, 39)"
      ]
     },
     "execution_count": 55,
     "metadata": {},
     "output_type": "execute_result"
    }
   ],
   "source": [
    "# total number of features selected vs total number of features\n",
    "len(selected_features), X_train.shape[1]"
   ]
  },
  {
   "cell_type": "code",
   "execution_count": 56,
   "metadata": {},
   "outputs": [],
   "source": [
    "# new training and testing data with selected features\n",
    "X_train = X_train[selected_features]\n",
    "X_test = X_test[selected_features]\n",
    "X_val = X_val[selected_features]"
   ]
  },
  {
   "cell_type": "code",
   "execution_count": null,
   "metadata": {},
   "outputs": [],
   "source": [
    "X_train.shape,X_test.shape,X_val.shape,y_train.shape,y_test.shape,y_val.shape"
   ]
  },
  {
   "cell_type": "markdown",
   "metadata": {},
   "source": [
    "# Model ANN"
   ]
  },
  {
   "cell_type": "markdown",
   "metadata": {},
   "source": [
    "## Model"
   ]
  },
  {
   "cell_type": "code",
   "execution_count": 16,
   "metadata": {},
   "outputs": [
    {
     "name": "stderr",
     "output_type": "stream",
     "text": [
      "2023-11-02 07:18:27.878406: I tensorflow/core/common_runtime/gpu/gpu_device.cc:1639] Created device /job:localhost/replica:0/task:0/device:GPU:0 with 5329 MB memory:  -> device: 0, name: Tesla T4, pci bus id: 0000:3b:00.0, compute capability: 7.5\n",
      "2023-11-02 07:18:27.879351: I tensorflow/core/common_runtime/gpu/gpu_device.cc:1639] Created device /job:localhost/replica:0/task:0/device:GPU:1 with 220 MB memory:  -> device: 1, name: Tesla T4, pci bus id: 0000:af:00.0, compute capability: 7.5\n",
      "2023-11-02 07:18:27.880167: I tensorflow/core/common_runtime/gpu/gpu_device.cc:1639] Created device /job:localhost/replica:0/task:0/device:GPU:2 with 5099 MB memory:  -> device: 2, name: Tesla T4, pci bus id: 0000:d8:00.0, compute capability: 7.5\n"
     ]
    }
   ],
   "source": [
    "def get_model_ann():\n",
    "  model = Sequential()\n",
    "  model.add(Dense(50, input_dim=X_train.shape[1], activation='relu'))\n",
    "  model.add(Dense(25, activation='relu'))\n",
    "  model.add(Dense(1, activation='sigmoid'))\n",
    "  \n",
    "  model.compile(loss='binary_crossentropy', optimizer='adam', metrics=['accuracy'])\n",
    "  return model\n",
    "\n",
    "def get_model_ann_multiclass():\n",
    "  model = Sequential()\n",
    "  model.add(Dense(50, input_dim=X_train.shape[1], activation='relu'))\n",
    "  model.add(Dense(25, activation='relu'))\n",
    "  model.add(Dense(10, activation='softmax'))\n",
    "  \n",
    "  model.compile(loss='sparse_categorical_crossentropy', optimizer='adam', metrics=['accuracy'])\n",
    "  return model\n",
    "\n",
    "# model_ann = get_model_ann()  \n",
    "model_ann = get_model_ann()"
   ]
  },
  {
   "cell_type": "markdown",
   "metadata": {},
   "source": [
    "## Train"
   ]
  },
  {
   "cell_type": "code",
   "execution_count": 17,
   "metadata": {},
   "outputs": [
    {
     "ename": "NameError",
     "evalue": "name 'X_val' is not defined",
     "output_type": "error",
     "traceback": [
      "\u001b[0;31m---------------------------------------------------------------------------\u001b[0m",
      "\u001b[0;31mNameError\u001b[0m                                 Traceback (most recent call last)",
      "\u001b[1;32m/home/sukhmeet/temp/IDS-Project/code/code.ipynb Cell 58\u001b[0m line \u001b[0;36m1\n\u001b[0;32m----> <a href='vscode-notebook-cell://ssh-remote%2B172.26.1.165/home/sukhmeet/temp/IDS-Project/code/code.ipynb#Y111sdnNjb2RlLXJlbW90ZQ%3D%3D?line=0'>1</a>\u001b[0m history_ann \u001b[39m=\u001b[39m model_ann\u001b[39m.\u001b[39mfit(X_train, y_train, epochs\u001b[39m=\u001b[39m\u001b[39m50\u001b[39m, batch_size\u001b[39m=\u001b[39m\u001b[39m256\u001b[39m, verbose\u001b[39m=\u001b[39m\u001b[39m1\u001b[39m, validation_data\u001b[39m=\u001b[39m(X_val, y_val))\n",
      "\u001b[0;31mNameError\u001b[0m: name 'X_val' is not defined"
     ]
    }
   ],
   "source": [
    "history_ann = model_ann.fit(X_train, y_train, epochs=50, batch_size=256, verbose=1, validation_data=(X_val, y_val))\n"
   ]
  },
  {
   "cell_type": "markdown",
   "metadata": {},
   "source": [
    "## Predict"
   ]
  },
  {
   "cell_type": "code",
   "execution_count": 15,
   "metadata": {},
   "outputs": [],
   "source": [
    "# load model\n",
    "model_ann = load_model('models/saved_models/model_ann_20231103-112820_0.887.keras')"
   ]
  },
  {
   "cell_type": "markdown",
   "metadata": {},
   "source": [
    "### Binary prediction"
   ]
  },
  {
   "cell_type": "code",
   "execution_count": 16,
   "metadata": {},
   "outputs": [
    {
     "ename": "ValueError",
     "evalue": "in user code:\n\n    File \"/home/sukhmeet/miniconda3/envs/tf/lib/python3.9/site-packages/keras/src/engine/training.py\", line 2341, in predict_function  *\n        return step_function(self, iterator)\n    File \"/home/sukhmeet/miniconda3/envs/tf/lib/python3.9/site-packages/keras/src/engine/training.py\", line 2327, in step_function  **\n        outputs = model.distribute_strategy.run(run_step, args=(data,))\n    File \"/home/sukhmeet/miniconda3/envs/tf/lib/python3.9/site-packages/keras/src/engine/training.py\", line 2315, in run_step  **\n        outputs = model.predict_step(data)\n    File \"/home/sukhmeet/miniconda3/envs/tf/lib/python3.9/site-packages/keras/src/engine/training.py\", line 2283, in predict_step\n        return self(x, training=False)\n    File \"/home/sukhmeet/miniconda3/envs/tf/lib/python3.9/site-packages/keras/src/utils/traceback_utils.py\", line 70, in error_handler\n        raise e.with_traceback(filtered_tb) from None\n    File \"/home/sukhmeet/miniconda3/envs/tf/lib/python3.9/site-packages/keras/src/engine/input_spec.py\", line 298, in assert_input_compatibility\n        raise ValueError(\n\n    ValueError: Input 0 of layer \"sequential\" is incompatible with the layer: expected shape=(None, 42), found shape=(None, 39)\n",
     "output_type": "error",
     "traceback": [
      "\u001b[0;31m---------------------------------------------------------------------------\u001b[0m",
      "\u001b[0;31mValueError\u001b[0m                                Traceback (most recent call last)",
      "\u001b[1;32m/home/sukhmeet/temp/IDS-Project/code/code.ipynb Cell 62\u001b[0m line \u001b[0;36m1\n\u001b[0;32m----> <a href='vscode-notebook-cell://ssh-remote%2B172.26.1.165/home/sukhmeet/temp/IDS-Project/code/code.ipynb#Y115sdnNjb2RlLXJlbW90ZQ%3D%3D?line=0'>1</a>\u001b[0m y_prediction_ann \u001b[39m=\u001b[39m model_ann\u001b[39m.\u001b[39;49mpredict(X_test)\n",
      "File \u001b[0;32m~/miniconda3/envs/tf/lib/python3.9/site-packages/keras/src/utils/traceback_utils.py:70\u001b[0m, in \u001b[0;36mfilter_traceback.<locals>.error_handler\u001b[0;34m(*args, **kwargs)\u001b[0m\n\u001b[1;32m     67\u001b[0m     filtered_tb \u001b[39m=\u001b[39m _process_traceback_frames(e\u001b[39m.\u001b[39m__traceback__)\n\u001b[1;32m     68\u001b[0m     \u001b[39m# To get the full stack trace, call:\u001b[39;00m\n\u001b[1;32m     69\u001b[0m     \u001b[39m# `tf.debugging.disable_traceback_filtering()`\u001b[39;00m\n\u001b[0;32m---> 70\u001b[0m     \u001b[39mraise\u001b[39;00m e\u001b[39m.\u001b[39mwith_traceback(filtered_tb) \u001b[39mfrom\u001b[39;00m \u001b[39mNone\u001b[39;00m\n\u001b[1;32m     71\u001b[0m \u001b[39mfinally\u001b[39;00m:\n\u001b[1;32m     72\u001b[0m     \u001b[39mdel\u001b[39;00m filtered_tb\n",
      "File \u001b[0;32m/tmp/__autograph_generated_fileq3tnb2jd.py:15\u001b[0m, in \u001b[0;36mouter_factory.<locals>.inner_factory.<locals>.tf__predict_function\u001b[0;34m(iterator)\u001b[0m\n\u001b[1;32m     13\u001b[0m \u001b[39mtry\u001b[39;00m:\n\u001b[1;32m     14\u001b[0m     do_return \u001b[39m=\u001b[39m \u001b[39mTrue\u001b[39;00m\n\u001b[0;32m---> 15\u001b[0m     retval_ \u001b[39m=\u001b[39m ag__\u001b[39m.\u001b[39mconverted_call(ag__\u001b[39m.\u001b[39mld(step_function), (ag__\u001b[39m.\u001b[39mld(\u001b[39mself\u001b[39m), ag__\u001b[39m.\u001b[39mld(iterator)), \u001b[39mNone\u001b[39;00m, fscope)\n\u001b[1;32m     16\u001b[0m \u001b[39mexcept\u001b[39;00m:\n\u001b[1;32m     17\u001b[0m     do_return \u001b[39m=\u001b[39m \u001b[39mFalse\u001b[39;00m\n",
      "\u001b[0;31mValueError\u001b[0m: in user code:\n\n    File \"/home/sukhmeet/miniconda3/envs/tf/lib/python3.9/site-packages/keras/src/engine/training.py\", line 2341, in predict_function  *\n        return step_function(self, iterator)\n    File \"/home/sukhmeet/miniconda3/envs/tf/lib/python3.9/site-packages/keras/src/engine/training.py\", line 2327, in step_function  **\n        outputs = model.distribute_strategy.run(run_step, args=(data,))\n    File \"/home/sukhmeet/miniconda3/envs/tf/lib/python3.9/site-packages/keras/src/engine/training.py\", line 2315, in run_step  **\n        outputs = model.predict_step(data)\n    File \"/home/sukhmeet/miniconda3/envs/tf/lib/python3.9/site-packages/keras/src/engine/training.py\", line 2283, in predict_step\n        return self(x, training=False)\n    File \"/home/sukhmeet/miniconda3/envs/tf/lib/python3.9/site-packages/keras/src/utils/traceback_utils.py\", line 70, in error_handler\n        raise e.with_traceback(filtered_tb) from None\n    File \"/home/sukhmeet/miniconda3/envs/tf/lib/python3.9/site-packages/keras/src/engine/input_spec.py\", line 298, in assert_input_compatibility\n        raise ValueError(\n\n    ValueError: Input 0 of layer \"sequential\" is incompatible with the layer: expected shape=(None, 42), found shape=(None, 39)\n"
     ]
    }
   ],
   "source": [
    "y_prediction_ann = model_ann.predict(X_test)\n"
   ]
  },
  {
   "cell_type": "code",
   "execution_count": 19,
   "metadata": {},
   "outputs": [],
   "source": [
    "threshold = 0.5\n",
    "y_prediction_ann = np.where(y_prediction_ann > threshold, 1, 0)"
   ]
  },
  {
   "cell_type": "code",
   "execution_count": 20,
   "metadata": {},
   "outputs": [
    {
     "name": "stdout",
     "output_type": "stream",
     "text": [
      "ANN Accuracy:  0.8532283923626294\n"
     ]
    }
   ],
   "source": [
    "accuracyScore_ann = accuracy_score(y_test, y_prediction_ann)\n",
    "print(\"ANN Accuracy: \", accuracyScore_ann)"
   ]
  },
  {
   "cell_type": "code",
   "execution_count": null,
   "metadata": {},
   "outputs": [],
   "source": []
  },
  {
   "cell_type": "code",
   "execution_count": 21,
   "metadata": {},
   "outputs": [
    {
     "name": "stdout",
     "output_type": "stream",
     "text": [
      "2573/2573 [==============================] - 21s 8ms/step - loss: 0.2809 - accuracy: 0.8532\n",
      "Accuracy: 85.322839\n",
      "Loss: 28.093141\n"
     ]
    }
   ],
   "source": [
    "loss, accuracy = model_ann.evaluate(X_test, y_test, verbose=1)\n",
    "print('Accuracy: %f' % (accuracy*100))\n",
    "print('Loss: %f' % (loss*100))"
   ]
  },
  {
   "cell_type": "markdown",
   "metadata": {},
   "source": [
    "### Multi ClassPredicition\n"
   ]
  },
  {
   "cell_type": "code",
   "execution_count": null,
   "metadata": {},
   "outputs": [],
   "source": [
    "y_prediction_ann_multiclass = np.argmax(y_prediction_ann, axis=1)"
   ]
  },
  {
   "cell_type": "code",
   "execution_count": null,
   "metadata": {},
   "outputs": [],
   "source": [
    "# calculate accuracy\n",
    "accuracyScore_ann = accuracy_score(y_test, y_prediction_ann_multiclass)\n",
    "print(\"ANN Accuracy with multiclass: \", accuracyScore_ann)"
   ]
  },
  {
   "cell_type": "markdown",
   "metadata": {},
   "source": [
    "### Plot graph of probability of each class"
   ]
  },
  {
   "cell_type": "code",
   "execution_count": 22,
   "metadata": {},
   "outputs": [
    {
     "ename": "NameError",
     "evalue": "name 'y_prediction_ann_multiclass' is not defined",
     "output_type": "error",
     "traceback": [
      "\u001b[0;31m---------------------------------------------------------------------------\u001b[0m",
      "\u001b[0;31mNameError\u001b[0m                                 Traceback (most recent call last)",
      "\u001b[1;32m/home/sukhmeet/temp/IDS-Project/code/code.ipynb Cell 71\u001b[0m line \u001b[0;36m1\n\u001b[1;32m     <a href='vscode-notebook-cell://ssh-remote%2B172.26.1.165/home/sukhmeet/temp/IDS-Project/code/code.ipynb#Y123sdnNjb2RlLXJlbW90ZQ%3D%3D?line=11'>12</a>\u001b[0m   plt\u001b[39m.\u001b[39mshow()\n\u001b[1;32m     <a href='vscode-notebook-cell://ssh-remote%2B172.26.1.165/home/sukhmeet/temp/IDS-Project/code/code.ipynb#Y123sdnNjb2RlLXJlbW90ZQ%3D%3D?line=14'>15</a>\u001b[0m \u001b[39mfor\u001b[39;00m i \u001b[39min\u001b[39;00m \u001b[39mrange\u001b[39m(\u001b[39m56\u001b[39m, \u001b[39m60\u001b[39m):\n\u001b[0;32m---> <a href='vscode-notebook-cell://ssh-remote%2B172.26.1.165/home/sukhmeet/temp/IDS-Project/code/code.ipynb#Y123sdnNjb2RlLXJlbW90ZQ%3D%3D?line=15'>16</a>\u001b[0m   plot_probabilities(y_prediction_ann[i], y_test[i], y_prediction_ann_multiclass[i])\n",
      "\u001b[0;31mNameError\u001b[0m: name 'y_prediction_ann_multiclass' is not defined"
     ]
    }
   ],
   "source": [
    "def plot_probabilities(y_prediction_array, true_label,predicted_label=None):\n",
    "  if predicted_label is None:\n",
    "    predicted_label = np.argmax(y_prediction_array)\n",
    "  plt.grid(False)\n",
    "  plt.xticks(range(10))\n",
    "  plt.yticks([])\n",
    "  thisplot = plt.bar(range(10), y_prediction_array, color=\"#777777\")\n",
    "  plt.ylim([0, 1])\n",
    "  thisplot[predicted_label].set_color('red')\n",
    "  thisplot[true_label].set_color('blue')\n",
    "\n",
    "  plt.show()\n",
    "\n",
    "\n",
    "for i in range(56, 60):\n",
    "  plot_probabilities(y_prediction_ann[i], y_test[i], y_prediction_ann_multiclass[i])"
   ]
  },
  {
   "cell_type": "code",
   "execution_count": 23,
   "metadata": {},
   "outputs": [
    {
     "ename": "NameError",
     "evalue": "name 'y_prediction_ann_multiclass' is not defined",
     "output_type": "error",
     "traceback": [
      "\u001b[0;31m---------------------------------------------------------------------------\u001b[0m",
      "\u001b[0;31mNameError\u001b[0m                                 Traceback (most recent call last)",
      "\u001b[1;32m/home/sukhmeet/temp/IDS-Project/code/code.ipynb Cell 72\u001b[0m line \u001b[0;36m9\n\u001b[1;32m      <a href='vscode-notebook-cell://ssh-remote%2B172.26.1.165/home/sukhmeet/temp/IDS-Project/code/code.ipynb#Y124sdnNjb2RlLXJlbW90ZQ%3D%3D?line=6'>7</a>\u001b[0m     plt\u001b[39m.\u001b[39mxlabel(\u001b[39m'\u001b[39m\u001b[39mPredicted label\u001b[39m\u001b[39m'\u001b[39m)\n\u001b[1;32m      <a href='vscode-notebook-cell://ssh-remote%2B172.26.1.165/home/sukhmeet/temp/IDS-Project/code/code.ipynb#Y124sdnNjb2RlLXJlbW90ZQ%3D%3D?line=7'>8</a>\u001b[0m     plt\u001b[39m.\u001b[39mshow()\n\u001b[0;32m----> <a href='vscode-notebook-cell://ssh-remote%2B172.26.1.165/home/sukhmeet/temp/IDS-Project/code/code.ipynb#Y124sdnNjb2RlLXJlbW90ZQ%3D%3D?line=8'>9</a>\u001b[0m plot_confusion_matrix(y_test, y_prediction_ann_multiclass, \u001b[39m\"\u001b[39m\u001b[39mANN Confusion Matrix\u001b[39m\u001b[39m\"\u001b[39m)\n",
      "\u001b[0;31mNameError\u001b[0m: name 'y_prediction_ann_multiclass' is not defined"
     ]
    }
   ],
   "source": [
    "def plot_confusion_matrix(y_test, y_prediction, title):\n",
    "    cm = confusion_matrix(y_test, y_prediction)\n",
    "    plt.figure(figsize=(10, 10))\n",
    "    sns.heatmap(cm, annot=True, fmt=\"d\")\n",
    "    plt.title(title)\n",
    "    plt.ylabel('Actual label')\n",
    "    plt.xlabel('Predicted label')\n",
    "    plt.show()\n",
    "plot_confusion_matrix(y_test, y_prediction_ann_multiclass, \"ANN Confusion Matrix\")"
   ]
  },
  {
   "cell_type": "markdown",
   "metadata": {},
   "source": [
    "### Predict for multi-class classification"
   ]
  },
  {
   "cell_type": "code",
   "execution_count": null,
   "metadata": {},
   "outputs": [],
   "source": [
    "# save model with time and accuracy\n",
    "import datetime\n",
    "model_ann.save('model_ann_'+datetime.datetime.now().strftime(\"%Y%m%d-%H%M%S\")+'_'+str(accuracyScore_ann)[0:5]+'.h5')"
   ]
  },
  {
   "cell_type": "markdown",
   "metadata": {},
   "source": [
    "## Confusion Matrix"
   ]
  },
  {
   "cell_type": "code",
   "execution_count": 24,
   "metadata": {},
   "outputs": [
    {
     "name": "stdout",
     "output_type": "stream",
     "text": [
      "              precision    recall  f1-score   support\n",
      "\n",
      "           0       0.98      0.69      0.81     37000\n",
      "           1       0.80      0.99      0.88     45332\n",
      "\n",
      "    accuracy                           0.85     82332\n",
      "   macro avg       0.89      0.84      0.84     82332\n",
      "weighted avg       0.88      0.85      0.85     82332\n",
      "\n"
     ]
    }
   ],
   "source": [
    "print(classification_report(y_test, y_prediction_ann))"
   ]
  },
  {
   "cell_type": "code",
   "execution_count": 25,
   "metadata": {},
   "outputs": [
    {
     "data": {
      "image/png": "[encoded data removed]",
      "text/plain": [
       "<Figure size 1000x1000 with 2 Axes>"
      ]
     },
     "metadata": {},
     "output_type": "display_data"
    }
   ],
   "source": [
    "## give confusion matrix\n",
    "cm_ann = confusion_matrix(y_test, y_prediction_ann)\n",
    "##  plot it\n",
    "plt.figure(figsize=(10,10))\n",
    "plt.title('ANN Confusion Matrix')\n",
    "sns.heatmap(cm_ann, annot=True, fmt='d', cmap='Blues')\n",
    "plt.xlabel('Predicted')\n",
    "plt.ylabel('Actual')\n",
    "plt.show()\n"
   ]
  },
  {
   "cell_type": "markdown",
   "metadata": {},
   "source": [
    "## Roc Curve"
   ]
  },
  {
   "cell_type": "code",
   "execution_count": 26,
   "metadata": {},
   "outputs": [],
   "source": [
    "fpr, tpr, thresholds = roc_curve(y_test, y_prediction_ann)\n",
    "roc_auc = auc(fpr, tpr)\n",
    "\n"
   ]
  },
  {
   "cell_type": "code",
   "execution_count": 27,
   "metadata": {},
   "outputs": [
    {
     "data": {
      "image/png": "[encoded data removed]",
      "text/plain": [
       "<Figure size 640x480 with 1 Axes>"
      ]
     },
     "metadata": {},
     "output_type": "display_data"
    },
    {
     "name": "stdout",
     "output_type": "stream",
     "text": [
      "AUC Score: 0.8594032900808688\n"
     ]
    }
   ],
   "source": [
    "plt.figure()\n",
    "plt.plot(fpr, tpr, color='darkorange', lw=2, label='ROC curve (area = %0.2f)' % roc_auc)\n",
    "plt.plot([0, 1], [0, 1], color='navy', lw=2, linestyle='--')\n",
    "plt.xlim([0.0, 1.0])\n",
    "plt.ylim([0.0, 1.05])\n",
    "plt.xlabel('False Positive Rate')\n",
    "plt.ylabel('True Positive Rate')\n",
    "plt.title('Receiver Operating Characteristic')\n",
    "plt.legend(loc=\"lower right\")\n",
    "plt.show()\n",
    "\n",
    "# Calculate AUC score\n",
    "auc_score = roc_auc_score(y_test, y_pred)\n",
    "print(\"AUC Score:\", auc_score)\n"
   ]
  },
  {
   "cell_type": "markdown",
   "metadata": {},
   "source": [
    "# Random Forest"
   ]
  },
  {
   "cell_type": "code",
   "execution_count": 62,
   "metadata": {},
   "outputs": [
    {
     "name": "stderr",
     "output_type": "stream",
     "text": [
      "[Parallel(n_jobs=50)]: Using backend ThreadingBackend with 50 concurrent workers.\n",
      "[Parallel(n_jobs=50)]: Done 100 out of 100 | elapsed:    0.9s finished\n"
     ]
    },
    {
     "data": {
      "text/html": [
       "<style>#sk-container-id-9 {color: black;}#sk-container-id-9 pre{padding: 0;}#sk-container-id-9 div.sk-toggleable {background-color: white;}#sk-container-id-9 label.sk-toggleable__label {cursor: pointer;display: block;width: 100%;margin-bottom: 0;padding: 0.3em;box-sizing: border-box;text-align: center;}#sk-container-id-9 label.sk-toggleable__label-arrow:before {content: \"▸\";float: left;margin-right: 0.25em;color: #696969;}#sk-container-id-9 label.sk-toggleable__label-arrow:hover:before {color: black;}#sk-container-id-9 div.sk-estimator:hover label.sk-toggleable__label-arrow:before {color: black;}#sk-container-id-9 div.sk-toggleable__content {max-height: 0;max-width: 0;overflow: hidden;text-align: left;background-color: #f0f8ff;}#sk-container-id-9 div.sk-toggleable__content pre {margin: 0.2em;color: black;border-radius: 0.25em;background-color: #f0f8ff;}#sk-container-id-9 input.sk-toggleable__control:checked~div.sk-toggleable__content {max-height: 200px;max-width: 100%;overflow: auto;}#sk-container-id-9 input.sk-toggleable__control:checked~label.sk-toggleable__label-arrow:before {content: \"▾\";}#sk-container-id-9 div.sk-estimator input.sk-toggleable__control:checked~label.sk-toggleable__label {background-color: #d4ebff;}#sk-container-id-9 div.sk-label input.sk-toggleable__control:checked~label.sk-toggleable__label {background-color: #d4ebff;}#sk-container-id-9 input.sk-hidden--visually {border: 0;clip: rect(1px 1px 1px 1px);clip: rect(1px, 1px, 1px, 1px);height: 1px;margin: -1px;overflow: hidden;padding: 0;position: absolute;width: 1px;}#sk-container-id-9 div.sk-estimator {font-family: monospace;background-color: #f0f8ff;border: 1px dotted black;border-radius: 0.25em;box-sizing: border-box;margin-bottom: 0.5em;}#sk-container-id-9 div.sk-estimator:hover {background-color: #d4ebff;}#sk-container-id-9 div.sk-parallel-item::after {content: \"\";width: 100%;border-bottom: 1px solid gray;flex-grow: 1;}#sk-container-id-9 div.sk-label:hover label.sk-toggleable__label {background-color: #d4ebff;}#sk-container-id-9 div.sk-serial::before {content: \"\";position: absolute;border-left: 1px solid gray;box-sizing: border-box;top: 0;bottom: 0;left: 50%;z-index: 0;}#sk-container-id-9 div.sk-serial {display: flex;flex-direction: column;align-items: center;background-color: white;padding-right: 0.2em;padding-left: 0.2em;position: relative;}#sk-container-id-9 div.sk-item {position: relative;z-index: 1;}#sk-container-id-9 div.sk-parallel {display: flex;align-items: stretch;justify-content: center;background-color: white;position: relative;}#sk-container-id-9 div.sk-item::before, #sk-container-id-9 div.sk-parallel-item::before {content: \"\";position: absolute;border-left: 1px solid gray;box-sizing: border-box;top: 0;bottom: 0;left: 50%;z-index: -1;}#sk-container-id-9 div.sk-parallel-item {display: flex;flex-direction: column;z-index: 1;position: relative;background-color: white;}#sk-container-id-9 div.sk-parallel-item:first-child::after {align-self: flex-end;width: 50%;}#sk-container-id-9 div.sk-parallel-item:last-child::after {align-self: flex-start;width: 50%;}#sk-container-id-9 div.sk-parallel-item:only-child::after {width: 0;}#sk-container-id-9 div.sk-dashed-wrapped {border: 1px dashed gray;margin: 0 0.4em 0.5em 0.4em;box-sizing: border-box;padding-bottom: 0.4em;background-color: white;}#sk-container-id-9 div.sk-label label {font-family: monospace;font-weight: bold;display: inline-block;line-height: 1.2em;}#sk-container-id-9 div.sk-label-container {text-align: center;}#sk-container-id-9 div.sk-container {/* jupyter's `normalize.less` sets `[hidden] { display: none; }` but bootstrap.min.css set `[hidden] { display: none !important; }` so we also need the `!important` here to be able to override the default hidden behavior on the sphinx rendered scikit-learn.org. See: https://github.com/scikit-learn/scikit-learn/issues/21755 */display: inline-block !important;position: relative;}#sk-container-id-9 div.sk-text-repr-fallback {display: none;}</style><div id=\"sk-container-id-9\" class=\"sk-top-container\"><div class=\"sk-text-repr-fallback\"><pre>RandomForestClassifier(criterion=&#x27;entropy&#x27;, n_jobs=50, random_state=42,\n",
       "                       verbose=1, warm_start=True)</pre><b>In a Jupyter environment, please rerun this cell to show the HTML representation or trust the notebook. <br />On GitHub, the HTML representation is unable to render, please try loading this page with nbviewer.org.</b></div><div class=\"sk-container\" hidden><div class=\"sk-item\"><div class=\"sk-estimator sk-toggleable\"><input class=\"sk-toggleable__control sk-hidden--visually\" id=\"sk-estimator-id-9\" type=\"checkbox\" checked><label for=\"sk-estimator-id-9\" class=\"sk-toggleable__label sk-toggleable__label-arrow\">RandomForestClassifier</label><div class=\"sk-toggleable__content\"><pre>RandomForestClassifier(criterion=&#x27;entropy&#x27;, n_jobs=50, random_state=42,\n",
       "                       verbose=1, warm_start=True)</pre></div></div></div></div></div>"
      ],
      "text/plain": [
       "RandomForestClassifier(criterion='entropy', n_jobs=50, random_state=42,\n",
       "                       verbose=1, warm_start=True)"
      ]
     },
     "execution_count": 62,
     "metadata": {},
     "output_type": "execute_result"
    }
   ],
   "source": [
    "\n",
    "rf = RandomForestClassifier(n_estimators=100, n_jobs=50, random_state=42, verbose=1, criterion='entropy',warm_start=True)\n",
    "\n",
    "rf.fit(X_train, y_train)"
   ]
  },
  {
   "cell_type": "code",
   "execution_count": 63,
   "metadata": {},
   "outputs": [
    {
     "name": "stdout",
     "output_type": "stream",
     "text": [
      "Accuracy: 0.794891415245591\n"
     ]
    },
    {
     "name": "stderr",
     "output_type": "stream",
     "text": [
      "[Parallel(n_jobs=50)]: Using backend ThreadingBackend with 50 concurrent workers.\n",
      "[Parallel(n_jobs=50)]: Done 100 out of 100 | elapsed:    0.1s finished\n"
     ]
    }
   ],
   "source": [
    "y_pred = rf.predict(X_test)\n",
    "accuracy = accuracy_score(y_test, y_pred)\n",
    "print(\"Accuracy:\", accuracy)"
   ]
  },
  {
   "cell_type": "code",
   "execution_count": null,
   "metadata": {},
   "outputs": [],
   "source": []
  },
  {
   "cell_type": "markdown",
   "metadata": {},
   "source": [
    "# XGBoost"
   ]
  },
  {
   "cell_type": "code",
   "execution_count": null,
   "metadata": {},
   "outputs": [],
   "source": [
    "# write code for xgboost\n",
    "xgb = XGBClassifier(n_estimators=100, n_jobs=50, random_state=42, verbose=1, criterion='entropy',warm_start=True)\n",
    "xgb.fit(X_train, y_train)\n"
   ]
  },
  {
   "cell_type": "code",
   "execution_count": null,
   "metadata": {},
   "outputs": [],
   "source": [
    "#predict\n",
    "y_pred = xgb.predict(X_test)\n"
   ]
  },
  {
   "cell_type": "code",
   "execution_count": null,
   "metadata": {},
   "outputs": [],
   "source": [
    "accuracy = accuracy_score(y_test, y_pred)\n",
    "print(\"Accuracy:\", accuracy)\n"
   ]
  },
  {
   "cell_type": "code",
   "execution_count": null,
   "metadata": {},
   "outputs": [],
   "source": []
  },
  {
   "cell_type": "markdown",
   "metadata": {},
   "source": [
    "# LSTM"
   ]
  },
  {
   "cell_type": "code",
   "execution_count": 65,
   "metadata": {},
   "outputs": [
    {
     "name": "stderr",
     "output_type": "stream",
     "text": [
      "2023-11-02 07:02:12.260809: I tensorflow/core/common_runtime/gpu/gpu_device.cc:1639] Created device /job:localhost/replica:0/task:0/device:GPU:0 with 5329 MB memory:  -> device: 0, name: Tesla T4, pci bus id: 0000:3b:00.0, compute capability: 7.5\n",
      "2023-11-02 07:02:12.262956: I tensorflow/core/common_runtime/gpu/gpu_device.cc:1639] Created device /job:localhost/replica:0/task:0/device:GPU:1 with 220 MB memory:  -> device: 1, name: Tesla T4, pci bus id: 0000:af:00.0, compute capability: 7.5\n",
      "2023-11-02 07:02:12.264834: I tensorflow/core/common_runtime/gpu/gpu_device.cc:1639] Created device /job:localhost/replica:0/task:0/device:GPU:2 with 5099 MB memory:  -> device: 2, name: Tesla T4, pci bus id: 0000:d8:00.0, compute capability: 7.5\n"
     ]
    }
   ],
   "source": [
    "def get_model_lstm():\n",
    "    model = Sequential()\n",
    "    model.add(LSTM(50, input_shape=(X_train.shape[1], 1), return_sequences=True))\n",
    "    model.add(Dropout(0.2))\n",
    "    model.add(LSTM(25, return_sequences=True))\n",
    "    model.add(Dropout(0.2))\n",
    "    model.add(LSTM(10))\n",
    "    model.add(Dropout(0.2))\n",
    "    model.add(Dense(1, activation='sigmoid'))\n",
    "\n",
    "    model.compile(loss='binary_crossentropy', optimizer='adam', metrics=['accuracy'])\n",
    "\n",
    "    return model\n",
    "\n",
    "model_lstm = get_model_lstm()\n"
   ]
  },
  {
   "cell_type": "code",
   "execution_count": 66,
   "metadata": {},
   "outputs": [],
   "source": [
    "# reshape data for LSTM\n",
    "X_train = X_train.values.reshape((X_train.shape[0], X_train.shape[1], 1))\n",
    "X_test = X_test.values.reshape((X_test.shape[0], X_test.shape[1], 1))\n",
    "X_val = X_val.values.reshape((X_val.shape[0], X_val.shape[1], 1))\n"
   ]
  },
  {
   "cell_type": "code",
   "execution_count": 1,
   "metadata": {},
   "outputs": [
    {
     "ename": "NameError",
     "evalue": "name 'X_train' is not defined",
     "output_type": "error",
     "traceback": [
      "\u001b[0;31m---------------------------------------------------------------------------\u001b[0m",
      "\u001b[0;31mNameError\u001b[0m                                 Traceback (most recent call last)",
      "\u001b[1;32m/home/sukhmeet/temp/IDS-Project/code/code.ipynb Cell 93\u001b[0m line \u001b[0;36m1\n\u001b[0;32m----> <a href='vscode-notebook-cell://ssh-remote%2B172.26.1.165/home/sukhmeet/temp/IDS-Project/code/code.ipynb#Y161sdnNjb2RlLXJlbW90ZQ%3D%3D?line=0'>1</a>\u001b[0m \u001b[39mprint\u001b[39m(X_train\u001b[39m.\u001b[39mshape, y_train\u001b[39m.\u001b[39mshape, X_test\u001b[39m.\u001b[39mshape, y_test\u001b[39m.\u001b[39mshape, X_val\u001b[39m.\u001b[39mshape, y_val\u001b[39m.\u001b[39mshape)\n",
      "\u001b[0;31mNameError\u001b[0m: name 'X_train' is not defined"
     ]
    }
   ],
   "source": [
    "print(X_train.shape, y_train.shape, X_test.shape, y_test.shape, X_val.shape, y_val.shape)"
   ]
  },
  {
   "cell_type": "code",
   "execution_count": 68,
   "metadata": {},
   "outputs": [
    {
     "name": "stdout",
     "output_type": "stream",
     "text": [
      "Epoch 1/100\n"
     ]
    },
    {
     "name": "stderr",
     "output_type": "stream",
     "text": [
      "2023-11-02 07:02:19.420077: I tensorflow/compiler/xla/stream_executor/cuda/cuda_dnn.cc:432] Loaded cuDNN version 8600\n",
      "2023-11-02 07:02:19.723367: I tensorflow/compiler/xla/service/service.cc:168] XLA service 0x7f1f0c013090 initialized for platform CUDA (this does not guarantee that XLA will be used). Devices:\n",
      "2023-11-02 07:02:19.723443: I tensorflow/compiler/xla/service/service.cc:176]   StreamExecutor device (0): Tesla T4, Compute Capability 7.5\n",
      "2023-11-02 07:02:19.723467: I tensorflow/compiler/xla/service/service.cc:176]   StreamExecutor device (1): Tesla T4, Compute Capability 7.5\n",
      "2023-11-02 07:02:19.723482: I tensorflow/compiler/xla/service/service.cc:176]   StreamExecutor device (2): Tesla T4, Compute Capability 7.5\n",
      "2023-11-02 07:02:19.731008: I tensorflow/compiler/mlir/tensorflow/utils/dump_mlir_util.cc:255] disabling MLIR crash reproducer, set env var `MLIR_CRASH_REPRODUCER_DIRECTORY` to enable.\n",
      "2023-11-02 07:02:19.895518: I ./tensorflow/compiler/jit/device_compiler.h:186] Compiled cluster using XLA!  This line is logged at most once for the lifetime of the process.\n"
     ]
    },
    {
     "name": "stdout",
     "output_type": "stream",
     "text": [
      "110/110 [==============================] - 10s 32ms/step - loss: 0.4840 - accuracy: 0.8814 - val_loss: 0.3221 - val_accuracy: 0.9219\n",
      "Epoch 2/100\n",
      "110/110 [==============================] - 3s 23ms/step - loss: 0.2797 - accuracy: 0.9223 - val_loss: 0.2557 - val_accuracy: 0.9219\n",
      "Epoch 3/100\n",
      "110/110 [==============================] - 3s 24ms/step - loss: 0.2530 - accuracy: 0.9223 - val_loss: 0.2354 - val_accuracy: 0.9219\n",
      "Epoch 4/100\n",
      "110/110 [==============================] - 3s 23ms/step - loss: 0.2321 - accuracy: 0.9223 - val_loss: 0.2223 - val_accuracy: 0.9219\n",
      "Epoch 5/100\n",
      "110/110 [==============================] - 3s 24ms/step - loss: 0.2253 - accuracy: 0.9224 - val_loss: 0.2198 - val_accuracy: 0.9219\n",
      "Epoch 6/100\n",
      "110/110 [==============================] - 3s 24ms/step - loss: 0.2233 - accuracy: 0.9223 - val_loss: 0.2178 - val_accuracy: 0.9219\n",
      "Epoch 7/100\n",
      "110/110 [==============================] - 3s 25ms/step - loss: 0.2209 - accuracy: 0.9223 - val_loss: 0.2177 - val_accuracy: 0.9219\n",
      "Epoch 8/100\n",
      "110/110 [==============================] - 3s 24ms/step - loss: 0.2207 - accuracy: 0.9223 - val_loss: 0.2166 - val_accuracy: 0.9219\n",
      "Epoch 9/100\n",
      "110/110 [==============================] - 3s 24ms/step - loss: 0.2193 - accuracy: 0.9223 - val_loss: 0.2157 - val_accuracy: 0.9219\n",
      "Epoch 10/100\n",
      "110/110 [==============================] - 3s 25ms/step - loss: 0.2191 - accuracy: 0.9223 - val_loss: 0.2155 - val_accuracy: 0.9219\n",
      "Epoch 11/100\n",
      "110/110 [==============================] - 3s 24ms/step - loss: 0.2185 - accuracy: 0.9223 - val_loss: 0.2147 - val_accuracy: 0.9219\n",
      "Epoch 12/100\n",
      "110/110 [==============================] - 3s 24ms/step - loss: 0.2181 - accuracy: 0.9222 - val_loss: 0.2141 - val_accuracy: 0.9219\n",
      "Epoch 13/100\n",
      "110/110 [==============================] - 3s 25ms/step - loss: 0.2179 - accuracy: 0.9223 - val_loss: 0.2153 - val_accuracy: 0.9219\n",
      "Epoch 14/100\n",
      "110/110 [==============================] - 2s 23ms/step - loss: 0.2172 - accuracy: 0.9223 - val_loss: 0.2140 - val_accuracy: 0.9219\n",
      "Epoch 15/100\n",
      "110/110 [==============================] - 3s 24ms/step - loss: 0.2169 - accuracy: 0.9223 - val_loss: 0.2134 - val_accuracy: 0.9219\n",
      "Epoch 16/100\n",
      "110/110 [==============================] - 3s 24ms/step - loss: 0.2171 - accuracy: 0.9223 - val_loss: 0.2144 - val_accuracy: 0.9219\n",
      "Epoch 17/100\n",
      "110/110 [==============================] - 3s 24ms/step - loss: 0.2162 - accuracy: 0.9223 - val_loss: 0.2138 - val_accuracy: 0.9219\n",
      "Epoch 18/100\n",
      "110/110 [==============================] - 2s 22ms/step - loss: 0.2164 - accuracy: 0.9222 - val_loss: 0.2133 - val_accuracy: 0.9219\n",
      "Epoch 19/100\n",
      "110/110 [==============================] - 3s 24ms/step - loss: 0.2155 - accuracy: 0.9223 - val_loss: 0.2132 - val_accuracy: 0.9219\n",
      "Epoch 20/100\n",
      "110/110 [==============================] - 3s 23ms/step - loss: 0.2155 - accuracy: 0.9223 - val_loss: 0.2132 - val_accuracy: 0.9219\n",
      "Epoch 21/100\n",
      "110/110 [==============================] - 2s 22ms/step - loss: 0.2169 - accuracy: 0.9223 - val_loss: 0.2124 - val_accuracy: 0.9219\n",
      "Epoch 22/100\n",
      "110/110 [==============================] - 3s 24ms/step - loss: 0.2158 - accuracy: 0.9223 - val_loss: 0.2179 - val_accuracy: 0.9219\n",
      "Epoch 23/100\n",
      "110/110 [==============================] - 3s 24ms/step - loss: 0.2159 - accuracy: 0.9223 - val_loss: 0.2126 - val_accuracy: 0.9219\n",
      "Epoch 24/100\n",
      "110/110 [==============================] - 3s 25ms/step - loss: 0.2146 - accuracy: 0.9223 - val_loss: 0.2122 - val_accuracy: 0.9219\n",
      "Epoch 25/100\n",
      "110/110 [==============================] - 3s 24ms/step - loss: 0.2151 - accuracy: 0.9223 - val_loss: 0.2130 - val_accuracy: 0.9219\n",
      "Epoch 26/100\n",
      "110/110 [==============================] - 3s 23ms/step - loss: 0.2149 - accuracy: 0.9223 - val_loss: 0.2118 - val_accuracy: 0.9219\n",
      "Epoch 27/100\n",
      "110/110 [==============================] - 2s 23ms/step - loss: 0.2150 - accuracy: 0.9222 - val_loss: 0.2130 - val_accuracy: 0.9219\n",
      "Epoch 28/100\n",
      "110/110 [==============================] - 3s 23ms/step - loss: 0.2154 - accuracy: 0.9223 - val_loss: 0.2119 - val_accuracy: 0.9219\n",
      "Epoch 29/100\n",
      "110/110 [==============================] - 2s 22ms/step - loss: 0.2143 - accuracy: 0.9223 - val_loss: 0.2127 - val_accuracy: 0.9219\n",
      "Epoch 30/100\n",
      "110/110 [==============================] - 2s 23ms/step - loss: 0.2144 - accuracy: 0.9223 - val_loss: 0.2120 - val_accuracy: 0.9219\n",
      "Epoch 31/100\n",
      "110/110 [==============================] - 3s 24ms/step - loss: 0.2144 - accuracy: 0.9223 - val_loss: 0.2117 - val_accuracy: 0.9219\n",
      "Epoch 32/100\n",
      "110/110 [==============================] - 3s 25ms/step - loss: 0.2141 - accuracy: 0.9223 - val_loss: 0.2116 - val_accuracy: 0.9219\n",
      "Epoch 33/100\n",
      "110/110 [==============================] - 3s 24ms/step - loss: 0.2142 - accuracy: 0.9224 - val_loss: 0.2150 - val_accuracy: 0.9219\n",
      "Epoch 34/100\n",
      "110/110 [==============================] - 3s 24ms/step - loss: 0.2142 - accuracy: 0.9222 - val_loss: 0.2115 - val_accuracy: 0.9219\n",
      "Epoch 35/100\n",
      "110/110 [==============================] - 3s 25ms/step - loss: 0.2138 - accuracy: 0.9223 - val_loss: 0.2115 - val_accuracy: 0.9219\n",
      "Epoch 36/100\n",
      "110/110 [==============================] - 3s 23ms/step - loss: 0.2142 - accuracy: 0.9223 - val_loss: 0.2118 - val_accuracy: 0.9219\n",
      "Epoch 37/100\n",
      "110/110 [==============================] - 3s 23ms/step - loss: 0.2136 - accuracy: 0.9223 - val_loss: 0.2110 - val_accuracy: 0.9219\n",
      "Epoch 38/100\n",
      "110/110 [==============================] - 3s 23ms/step - loss: 0.2135 - accuracy: 0.9223 - val_loss: 0.2113 - val_accuracy: 0.9219\n",
      "Epoch 39/100\n",
      "110/110 [==============================] - 3s 23ms/step - loss: 0.2133 - accuracy: 0.9223 - val_loss: 0.2108 - val_accuracy: 0.9219\n",
      "Epoch 40/100\n",
      "110/110 [==============================] - 2s 23ms/step - loss: 0.2136 - accuracy: 0.9223 - val_loss: 0.2123 - val_accuracy: 0.9219\n",
      "Epoch 41/100\n",
      "110/110 [==============================] - 3s 23ms/step - loss: 0.2131 - accuracy: 0.9223 - val_loss: 0.2113 - val_accuracy: 0.9219\n",
      "Epoch 42/100\n",
      "110/110 [==============================] - 3s 23ms/step - loss: 0.2129 - accuracy: 0.9223 - val_loss: 0.2111 - val_accuracy: 0.9219\n",
      "Epoch 43/100\n",
      "110/110 [==============================] - 3s 24ms/step - loss: 0.2132 - accuracy: 0.9222 - val_loss: 0.2104 - val_accuracy: 0.9219\n",
      "Epoch 44/100\n",
      "110/110 [==============================] - 3s 23ms/step - loss: 0.2123 - accuracy: 0.9223 - val_loss: 0.2102 - val_accuracy: 0.9219\n",
      "Epoch 45/100\n",
      "110/110 [==============================] - 3s 23ms/step - loss: 0.2128 - accuracy: 0.9223 - val_loss: 0.2110 - val_accuracy: 0.9219\n",
      "Epoch 46/100\n",
      "110/110 [==============================] - 3s 23ms/step - loss: 0.2122 - accuracy: 0.9223 - val_loss: 0.2109 - val_accuracy: 0.9219\n",
      "Epoch 47/100\n",
      "110/110 [==============================] - 3s 23ms/step - loss: 0.2119 - accuracy: 0.9223 - val_loss: 0.2102 - val_accuracy: 0.9219\n",
      "Epoch 48/100\n",
      "110/110 [==============================] - 2s 23ms/step - loss: 0.2117 - accuracy: 0.9223 - val_loss: 0.2102 - val_accuracy: 0.9219\n",
      "Epoch 49/100\n",
      "110/110 [==============================] - 3s 23ms/step - loss: 0.2117 - accuracy: 0.9223 - val_loss: 0.2096 - val_accuracy: 0.9219\n",
      "Epoch 50/100\n",
      "110/110 [==============================] - 3s 23ms/step - loss: 0.2116 - accuracy: 0.9223 - val_loss: 0.2107 - val_accuracy: 0.9219\n",
      "Epoch 51/100\n",
      "110/110 [==============================] - 3s 24ms/step - loss: 0.2118 - accuracy: 0.9223 - val_loss: 0.2097 - val_accuracy: 0.9219\n",
      "Epoch 52/100\n",
      "110/110 [==============================] - 3s 24ms/step - loss: 0.2111 - accuracy: 0.9223 - val_loss: 0.2093 - val_accuracy: 0.9219\n",
      "Epoch 53/100\n",
      "110/110 [==============================] - 3s 23ms/step - loss: 0.2112 - accuracy: 0.9223 - val_loss: 0.2096 - val_accuracy: 0.9219\n",
      "Epoch 54/100\n",
      "110/110 [==============================] - 3s 23ms/step - loss: 0.2116 - accuracy: 0.9224 - val_loss: 0.2093 - val_accuracy: 0.9219\n",
      "Epoch 55/100\n",
      "110/110 [==============================] - 3s 24ms/step - loss: 0.2108 - accuracy: 0.9224 - val_loss: 0.2098 - val_accuracy: 0.9219\n",
      "Epoch 56/100\n",
      "110/110 [==============================] - 3s 24ms/step - loss: 0.2110 - accuracy: 0.9223 - val_loss: 0.2106 - val_accuracy: 0.9219\n",
      "Epoch 57/100\n",
      "110/110 [==============================] - 3s 24ms/step - loss: 0.2106 - accuracy: 0.9223 - val_loss: 0.2092 - val_accuracy: 0.9219\n",
      "Epoch 58/100\n",
      "110/110 [==============================] - 3s 24ms/step - loss: 0.2107 - accuracy: 0.9223 - val_loss: 0.2093 - val_accuracy: 0.9219\n",
      "Epoch 59/100\n",
      "110/110 [==============================] - 3s 24ms/step - loss: 0.2100 - accuracy: 0.9223 - val_loss: 0.2091 - val_accuracy: 0.9219\n",
      "Epoch 60/100\n",
      "110/110 [==============================] - 3s 23ms/step - loss: 0.2105 - accuracy: 0.9223 - val_loss: 0.2089 - val_accuracy: 0.9219\n",
      "Epoch 61/100\n",
      "110/110 [==============================] - 3s 23ms/step - loss: 0.2106 - accuracy: 0.9223 - val_loss: 0.2095 - val_accuracy: 0.9219\n",
      "Epoch 62/100\n",
      "110/110 [==============================] - 2s 23ms/step - loss: 0.2105 - accuracy: 0.9224 - val_loss: 0.2087 - val_accuracy: 0.9219\n",
      "Epoch 63/100\n",
      "110/110 [==============================] - 3s 24ms/step - loss: 0.2100 - accuracy: 0.9223 - val_loss: 0.2088 - val_accuracy: 0.9219\n",
      "Epoch 64/100\n",
      "110/110 [==============================] - 3s 24ms/step - loss: 0.2106 - accuracy: 0.9223 - val_loss: 0.2087 - val_accuracy: 0.9219\n",
      "Epoch 65/100\n",
      "110/110 [==============================] - 3s 24ms/step - loss: 0.2103 - accuracy: 0.9224 - val_loss: 0.2092 - val_accuracy: 0.9219\n",
      "Epoch 66/100\n",
      "110/110 [==============================] - 3s 23ms/step - loss: 0.2100 - accuracy: 0.9224 - val_loss: 0.2086 - val_accuracy: 0.9219\n",
      "Epoch 67/100\n",
      "110/110 [==============================] - 3s 24ms/step - loss: 0.2100 - accuracy: 0.9223 - val_loss: 0.2089 - val_accuracy: 0.9219\n",
      "Epoch 68/100\n",
      "110/110 [==============================] - 3s 24ms/step - loss: 0.2098 - accuracy: 0.9224 - val_loss: 0.2091 - val_accuracy: 0.9219\n",
      "Epoch 69/100\n",
      "110/110 [==============================] - 3s 23ms/step - loss: 0.2104 - accuracy: 0.9223 - val_loss: 0.2090 - val_accuracy: 0.9219\n",
      "Epoch 70/100\n",
      "110/110 [==============================] - 3s 24ms/step - loss: 0.2100 - accuracy: 0.9224 - val_loss: 0.2089 - val_accuracy: 0.9219\n",
      "Epoch 71/100\n",
      "110/110 [==============================] - 3s 23ms/step - loss: 0.2102 - accuracy: 0.9224 - val_loss: 0.2085 - val_accuracy: 0.9219\n",
      "Epoch 72/100\n",
      "110/110 [==============================] - 3s 24ms/step - loss: 0.2093 - accuracy: 0.9224 - val_loss: 0.2085 - val_accuracy: 0.9219\n",
      "Epoch 73/100\n",
      "110/110 [==============================] - 3s 23ms/step - loss: 0.2099 - accuracy: 0.9224 - val_loss: 0.2100 - val_accuracy: 0.9219\n",
      "Epoch 74/100\n",
      "110/110 [==============================] - 3s 23ms/step - loss: 0.2097 - accuracy: 0.9224 - val_loss: 0.2109 - val_accuracy: 0.9218\n",
      "Epoch 75/100\n",
      "110/110 [==============================] - 3s 23ms/step - loss: 0.2098 - accuracy: 0.9224 - val_loss: 0.2085 - val_accuracy: 0.9219\n",
      "Epoch 76/100\n",
      "110/110 [==============================] - 3s 23ms/step - loss: 0.2093 - accuracy: 0.9224 - val_loss: 0.2088 - val_accuracy: 0.9219\n",
      "Epoch 77/100\n",
      "110/110 [==============================] - 2s 22ms/step - loss: 0.2102 - accuracy: 0.9224 - val_loss: 0.2087 - val_accuracy: 0.9218\n",
      "Epoch 78/100\n",
      "110/110 [==============================] - 3s 23ms/step - loss: 0.2102 - accuracy: 0.9224 - val_loss: 0.2089 - val_accuracy: 0.9219\n",
      "Epoch 79/100\n",
      "110/110 [==============================] - 3s 23ms/step - loss: 0.2100 - accuracy: 0.9224 - val_loss: 0.2093 - val_accuracy: 0.9219\n",
      "Epoch 80/100\n",
      "110/110 [==============================] - 3s 23ms/step - loss: 0.2095 - accuracy: 0.9224 - val_loss: 0.2085 - val_accuracy: 0.9219\n",
      "Epoch 81/100\n",
      "110/110 [==============================] - 3s 23ms/step - loss: 0.2098 - accuracy: 0.9224 - val_loss: 0.2090 - val_accuracy: 0.9219\n",
      "Epoch 82/100\n",
      "110/110 [==============================] - 3s 24ms/step - loss: 0.2097 - accuracy: 0.9224 - val_loss: 0.2088 - val_accuracy: 0.9219\n",
      "Epoch 83/100\n",
      "110/110 [==============================] - 3s 24ms/step - loss: 0.2098 - accuracy: 0.9224 - val_loss: 0.2085 - val_accuracy: 0.9219\n",
      "Epoch 84/100\n",
      "110/110 [==============================] - 3s 24ms/step - loss: 0.2093 - accuracy: 0.9224 - val_loss: 0.2084 - val_accuracy: 0.9219\n",
      "Epoch 85/100\n",
      "110/110 [==============================] - 3s 23ms/step - loss: 0.2098 - accuracy: 0.9224 - val_loss: 0.2082 - val_accuracy: 0.9219\n",
      "Epoch 86/100\n",
      "110/110 [==============================] - 3s 23ms/step - loss: 0.2094 - accuracy: 0.9224 - val_loss: 0.2092 - val_accuracy: 0.9219\n",
      "Epoch 87/100\n",
      "110/110 [==============================] - 3s 24ms/step - loss: 0.2090 - accuracy: 0.9224 - val_loss: 0.2085 - val_accuracy: 0.9219\n",
      "Epoch 88/100\n",
      "110/110 [==============================] - 3s 23ms/step - loss: 0.2097 - accuracy: 0.9224 - val_loss: 0.2090 - val_accuracy: 0.9219\n",
      "Epoch 89/100\n",
      "110/110 [==============================] - 3s 23ms/step - loss: 0.2099 - accuracy: 0.9224 - val_loss: 0.2097 - val_accuracy: 0.9219\n",
      "Epoch 90/100\n",
      "110/110 [==============================] - 3s 23ms/step - loss: 0.2097 - accuracy: 0.9224 - val_loss: 0.2084 - val_accuracy: 0.9219\n",
      "Epoch 91/100\n",
      "110/110 [==============================] - 3s 23ms/step - loss: 0.2092 - accuracy: 0.9224 - val_loss: 0.2101 - val_accuracy: 0.9219\n",
      "Epoch 92/100\n",
      "110/110 [==============================] - 3s 23ms/step - loss: 0.2092 - accuracy: 0.9224 - val_loss: 0.2089 - val_accuracy: 0.9219\n",
      "Epoch 93/100\n",
      "110/110 [==============================] - 3s 24ms/step - loss: 0.2098 - accuracy: 0.9224 - val_loss: 0.2083 - val_accuracy: 0.9219\n",
      "Epoch 94/100\n",
      "110/110 [==============================] - 3s 24ms/step - loss: 0.2095 - accuracy: 0.9224 - val_loss: 0.2108 - val_accuracy: 0.9219\n",
      "Epoch 95/100\n",
      "110/110 [==============================] - 3s 23ms/step - loss: 0.2093 - accuracy: 0.9224 - val_loss: 0.2092 - val_accuracy: 0.9219\n",
      "Epoch 96/100\n",
      "110/110 [==============================] - 3s 23ms/step - loss: 0.2092 - accuracy: 0.9223 - val_loss: 0.2086 - val_accuracy: 0.9219\n",
      "Epoch 97/100\n",
      "110/110 [==============================] - 3s 23ms/step - loss: 0.2096 - accuracy: 0.9224 - val_loss: 0.2092 - val_accuracy: 0.9219\n",
      "Epoch 98/100\n",
      "110/110 [==============================] - 3s 23ms/step - loss: 0.2092 - accuracy: 0.9224 - val_loss: 0.2085 - val_accuracy: 0.9219\n",
      "Epoch 99/100\n",
      "110/110 [==============================] - 3s 23ms/step - loss: 0.2095 - accuracy: 0.9224 - val_loss: 0.2082 - val_accuracy: 0.9219\n",
      "Epoch 100/100\n",
      "110/110 [==============================] - 3s 24ms/step - loss: 0.2092 - accuracy: 0.9224 - val_loss: 0.2092 - val_accuracy: 0.9219\n"
     ]
    }
   ],
   "source": [
    "# fit model\n",
    "history_lstm = model_lstm.fit(X_train, y_train, epochs=100, batch_size=1024, verbose=1, validation_data=(X_val, y_val))"
   ]
  },
  {
   "cell_type": "code",
   "execution_count": 69,
   "metadata": {},
   "outputs": [
    {
     "name": "stdout",
     "output_type": "stream",
     "text": [
      "2573/2573 [==============================] - 19s 7ms/step\n",
      "LSTM Accuracy:  0.7663241509983967\n"
     ]
    }
   ],
   "source": [
    "# evaluate model on test data\n",
    "y_prediction_lstm = model_lstm.predict(X_test)\n",
    "\n",
    "threshold = 0.5\n",
    "\n",
    "y_prediction_lstm = np.where(y_prediction_lstm > threshold, 1, 0)\n",
    "\n",
    "accuracyScore_lstm = accuracy_score(y_test, y_prediction_lstm)\n",
    "\n",
    "print(\"LSTM Accuracy: \", accuracyScore_lstm)\n",
    "\n"
   ]
  },
  {
   "cell_type": "code",
   "execution_count": 70,
   "metadata": {},
   "outputs": [
    {
     "name": "stderr",
     "output_type": "stream",
     "text": [
      "/home/sukhmeet/miniconda3/envs/tf/lib/python3.9/site-packages/keras/src/engine/training.py:3000: UserWarning: You are saving your model as an HDF5 file via `model.save()`. This file format is considered legacy. We recommend using instead the native Keras format, e.g. `model.save('my_model.keras')`.\n",
      "  saving_api.save_model(\n"
     ]
    }
   ],
   "source": [
    "# save model with time and accuracy\n",
    "import datetime\n",
    "model_lstm.save('model_lstm_'+datetime.datetime.now().strftime(\"%Y%m%d-%H%M%S\")+'_'+str(accuracyScore_lstm)[0:5]+'.h5')"
   ]
  },
  {
   "cell_type": "code",
   "execution_count": 71,
   "metadata": {},
   "outputs": [
    {
     "name": "stdout",
     "output_type": "stream",
     "text": [
      "   6/2573 [..............................] - ETA: 28s - loss: 1.4393 - accuracy: 0.0417 "
     ]
    },
    {
     "name": "stdout",
     "output_type": "stream",
     "text": [
      "2573/2573 [==============================] - 28s 11ms/step - loss: 0.4596 - accuracy: 0.7663\n",
      "Accuracy: 76.632416\n",
      "Loss: 45.959011\n"
     ]
    }
   ],
   "source": [
    "# evaluate model on test data\n",
    "loss_lstm, accuracy_lstm = model_lstm.evaluate(X_test, y_test, verbose=1)\n",
    "print('Accuracy: %f' % (accuracy_lstm*100))\n",
    "print('Loss: %f' % (loss_lstm*100))"
   ]
  },
  {
   "cell_type": "code",
   "execution_count": 72,
   "metadata": {},
   "outputs": [
    {
     "data": {
      "image/png": "[encoded data removed]",
      "text/plain": [
       "<Figure size 1000x1000 with 1 Axes>"
      ]
     },
     "metadata": {},
     "output_type": "display_data"
    }
   ],
   "source": [
    "# plot loss during training\n",
    "plt.figure(figsize=(10, 10))\n",
    "plt.title('Loss')\n",
    "plt.plot(history_lstm.history['loss'], label='train')\n",
    "plt.plot(history_lstm.history['val_loss'], label='test')\n",
    "plt.legend()\n",
    "plt.show()\n"
   ]
  },
  {
   "cell_type": "code",
   "execution_count": 75,
   "metadata": {},
   "outputs": [
    {
     "data": {
      "image/png": "[encoded data removed]",
      "text/plain": [
       "<Figure size 1000x1000 with 2 Axes>"
      ]
     },
     "metadata": {},
     "output_type": "display_data"
    }
   ],
   "source": [
    "# confusion matrix\n",
    "def plot_confusion_matrix(y_test, y_prediction, title):\n",
    "    cm = confusion_matrix(y_test, y_prediction)\n",
    "    plt.figure(figsize=(10, 10))\n",
    "    sns.heatmap(cm, annot=True, fmt=\"d\")\n",
    "    plt.title(title)\n",
    "    plt.ylabel('Actual label')\n",
    "    plt.xlabel('Predicted label')\n",
    "    plt.show()\n",
    "\n",
    "plot_confusion_matrix(y_test, y_prediction_lstm, \"LSTM Confusion Matrix\")\n"
   ]
  },
  {
   "cell_type": "code",
   "execution_count": null,
   "metadata": {},
   "outputs": [],
   "source": []
  },
  {
   "cell_type": "code",
   "execution_count": null,
   "metadata": {},
   "outputs": [],
   "source": []
  }
 ],
 "metadata": {
  "kernelspec": {
   "display_name": "Python 3",
   "language": "python",
   "name": "python3"
  },
  "language_info": {
   "codemirror_mode": {
    "name": "ipython",
    "version": 3
   },
   "file_extension": ".py",
   "mimetype": "text/x-python",
   "name": "python",
   "nbconvert_exporter": "python",
   "pygments_lexer": "ipython3",
   "version": "3.9.17"
  }
 },
 "nbformat": 4,
 "nbformat_minor": 2
}
